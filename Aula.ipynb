{
 "cells": [
  {
   "cell_type": "markdown",
   "metadata": {},
   "source": [
    "# Aula 1, 25/agosto/2016"
   ]
  },
  {
   "cell_type": "markdown",
   "metadata": {},
   "source": [
    "## tipos"
   ]
  },
  {
   "cell_type": "code",
   "execution_count": null,
   "metadata": {
    "collapsed": true
   },
   "outputs": [],
   "source": [
    "import pandas as pd"
   ]
  },
  {
   "cell_type": "code",
   "execution_count": null,
   "metadata": {
    "collapsed": true
   },
   "outputs": [],
   "source": [
    "a = 3"
   ]
  },
  {
   "cell_type": "code",
   "execution_count": null,
   "metadata": {
    "collapsed": false
   },
   "outputs": [],
   "source": [
    "print a"
   ]
  },
  {
   "cell_type": "code",
   "execution_count": null,
   "metadata": {
    "collapsed": false
   },
   "outputs": [],
   "source": [
    "type(a)"
   ]
  },
  {
   "cell_type": "code",
   "execution_count": null,
   "metadata": {
    "collapsed": false
   },
   "outputs": [],
   "source": [
    "b = True\n",
    "type(b)"
   ]
  },
  {
   "cell_type": "code",
   "execution_count": null,
   "metadata": {
    "collapsed": false
   },
   "outputs": [],
   "source": [
    "h = 'hello'\n",
    "w = 'world'\n",
    "print h, w\n",
    "print type(h), type(w)"
   ]
  },
  {
   "cell_type": "code",
   "execution_count": null,
   "metadata": {
    "collapsed": false
   },
   "outputs": [],
   "source": [
    "print h.upper()\n",
    "print h.capitalize()"
   ]
  },
  {
   "cell_type": "code",
   "execution_count": null,
   "metadata": {
    "collapsed": true
   },
   "outputs": [],
   "source": [
    "t = (1, 2, 3)"
   ]
  },
  {
   "cell_type": "code",
   "execution_count": null,
   "metadata": {
    "collapsed": false
   },
   "outputs": [],
   "source": [
    "type(t)"
   ]
  },
  {
   "cell_type": "markdown",
   "metadata": {},
   "source": [
    "#### listas e dicionarios"
   ]
  },
  {
   "cell_type": "code",
   "execution_count": null,
   "metadata": {
    "collapsed": true
   },
   "outputs": [],
   "source": [
    "l = ['a', 'b', 'c']"
   ]
  },
  {
   "cell_type": "code",
   "execution_count": null,
   "metadata": {
    "collapsed": false
   },
   "outputs": [],
   "source": [
    "type(l)"
   ]
  },
  {
   "cell_type": "code",
   "execution_count": null,
   "metadata": {
    "collapsed": true
   },
   "outputs": [],
   "source": [
    "l.append('d')"
   ]
  },
  {
   "cell_type": "code",
   "execution_count": null,
   "metadata": {
    "collapsed": false
   },
   "outputs": [],
   "source": [
    "l"
   ]
  },
  {
   "cell_type": "code",
   "execution_count": null,
   "metadata": {
    "collapsed": false
   },
   "outputs": [],
   "source": [
    "h"
   ]
  },
  {
   "cell_type": "code",
   "execution_count": null,
   "metadata": {
    "collapsed": true
   },
   "outputs": [],
   "source": [
    "s = set(h)"
   ]
  },
  {
   "cell_type": "code",
   "execution_count": null,
   "metadata": {
    "collapsed": false
   },
   "outputs": [],
   "source": [
    "s"
   ]
  },
  {
   "cell_type": "code",
   "execution_count": null,
   "metadata": {
    "collapsed": true
   },
   "outputs": [],
   "source": [
    "d = {'a': 11, 'b': 22, 'c': 33}"
   ]
  },
  {
   "cell_type": "code",
   "execution_count": null,
   "metadata": {
    "collapsed": false
   },
   "outputs": [],
   "source": [
    "d"
   ]
  },
  {
   "cell_type": "code",
   "execution_count": null,
   "metadata": {
    "collapsed": false
   },
   "outputs": [],
   "source": [
    "d.get('x', 0)"
   ]
  },
  {
   "cell_type": "markdown",
   "metadata": {},
   "source": [
    "## loops"
   ]
  },
  {
   "cell_type": "code",
   "execution_count": null,
   "metadata": {
    "collapsed": false
   },
   "outputs": [],
   "source": [
    "print h"
   ]
  },
  {
   "cell_type": "code",
   "execution_count": null,
   "metadata": {
    "collapsed": false
   },
   "outputs": [],
   "source": [
    "for c in h:\n",
    "    print c"
   ]
  },
  {
   "cell_type": "code",
   "execution_count": null,
   "metadata": {
    "collapsed": false
   },
   "outputs": [],
   "source": [
    "list(enumerate(h))"
   ]
  },
  {
   "cell_type": "code",
   "execution_count": null,
   "metadata": {
    "collapsed": false
   },
   "outputs": [],
   "source": [
    "for idx, c in enumerate(h):\n",
    "    print idx, c"
   ]
  },
  {
   "cell_type": "code",
   "execution_count": null,
   "metadata": {
    "collapsed": false
   },
   "outputs": [],
   "source": [
    "print h\n",
    "print w"
   ]
  },
  {
   "cell_type": "code",
   "execution_count": null,
   "metadata": {
    "collapsed": false
   },
   "outputs": [],
   "source": [
    "zip(h, w)"
   ]
  },
  {
   "cell_type": "code",
   "execution_count": null,
   "metadata": {
    "collapsed": false
   },
   "outputs": [],
   "source": [
    "for i, j in zip(h, w):\n",
    "    print i, j"
   ]
  },
  {
   "cell_type": "code",
   "execution_count": null,
   "metadata": {
    "collapsed": false
   },
   "outputs": [],
   "source": [
    "a, b = 0, 4\n",
    "while a < b:\n",
    "    print a\n",
    "    a += 1"
   ]
  },
  {
   "cell_type": "markdown",
   "metadata": {},
   "source": [
    "## list comprehension"
   ]
  },
  {
   "cell_type": "code",
   "execution_count": null,
   "metadata": {
    "collapsed": false
   },
   "outputs": [],
   "source": [
    "a = []\n",
    "for i in range(20):\n",
    "    if i % 3 == 0:\n",
    "        a.append(i)\n",
    "print a"
   ]
  },
  {
   "cell_type": "code",
   "execution_count": null,
   "metadata": {
    "collapsed": false
   },
   "outputs": [],
   "source": [
    "[i for i in range(20) if i % 3 == 0]"
   ]
  },
  {
   "cell_type": "code",
   "execution_count": null,
   "metadata": {
    "collapsed": false
   },
   "outputs": [],
   "source": [
    "[i if i % 3 == 0 else 0 for i in range(20) ]"
   ]
  },
  {
   "cell_type": "code",
   "execution_count": null,
   "metadata": {
    "collapsed": false
   },
   "outputs": [],
   "source": [
    "m = [[i + j for i in range(3)] for j in range(3)]"
   ]
  },
  {
   "cell_type": "code",
   "execution_count": null,
   "metadata": {
    "collapsed": false
   },
   "outputs": [],
   "source": [
    "print m"
   ]
  },
  {
   "cell_type": "markdown",
   "metadata": {},
   "source": [
    "#### Exercicio: montar uma matriz identidade 3x3"
   ]
  },
  {
   "cell_type": "code",
   "execution_count": null,
   "metadata": {
    "collapsed": false
   },
   "outputs": [],
   "source": [
    "[[1, 0, 0], [0, 1, 0], [0, 0, 1]]"
   ]
  },
  {
   "cell_type": "code",
   "execution_count": null,
   "metadata": {
    "collapsed": false
   },
   "outputs": [],
   "source": [
    "[[1 if i == j else 0 for i in range(3)] for j in range(3)]"
   ]
  },
  {
   "cell_type": "markdown",
   "metadata": {},
   "source": [
    "### Set comprehension"
   ]
  },
  {
   "cell_type": "code",
   "execution_count": null,
   "metadata": {
    "collapsed": false
   },
   "outputs": [],
   "source": [
    "m"
   ]
  },
  {
   "cell_type": "code",
   "execution_count": null,
   "metadata": {
    "collapsed": false
   },
   "outputs": [],
   "source": [
    "{i: max(l) for i,l in enumerate(m)}"
   ]
  },
  {
   "cell_type": "markdown",
   "metadata": {},
   "source": [
    "### diferenças entre generator e listas  "
   ]
  },
  {
   "cell_type": "code",
   "execution_count": null,
   "metadata": {
    "collapsed": false
   },
   "outputs": [],
   "source": [
    "a = (i for i in range(10))"
   ]
  },
  {
   "cell_type": "code",
   "execution_count": null,
   "metadata": {
    "collapsed": true
   },
   "outputs": [],
   "source": [
    "b = [i for i in range(10)]"
   ]
  },
  {
   "cell_type": "code",
   "execution_count": null,
   "metadata": {
    "collapsed": false
   },
   "outputs": [],
   "source": [
    "a"
   ]
  },
  {
   "cell_type": "code",
   "execution_count": null,
   "metadata": {
    "collapsed": false
   },
   "outputs": [],
   "source": [
    "b"
   ]
  },
  {
   "cell_type": "code",
   "execution_count": null,
   "metadata": {
    "collapsed": false
   },
   "outputs": [],
   "source": [
    "for i in a:\n",
    "    print i"
   ]
  },
  {
   "cell_type": "code",
   "execution_count": null,
   "metadata": {
    "collapsed": false
   },
   "outputs": [],
   "source": [
    "for i in b:\n",
    "    print i"
   ]
  },
  {
   "cell_type": "code",
   "execution_count": null,
   "metadata": {
    "collapsed": true
   },
   "outputs": [],
   "source": []
  },
  {
   "cell_type": "markdown",
   "metadata": {},
   "source": [
    "### medindo tempo"
   ]
  },
  {
   "cell_type": "code",
   "execution_count": null,
   "metadata": {
    "collapsed": true
   },
   "outputs": [],
   "source": [
    "from time import time"
   ]
  },
  {
   "cell_type": "code",
   "execution_count": null,
   "metadata": {
    "collapsed": true
   },
   "outputs": [],
   "source": [
    "l1 = range(100000000)\n",
    "l2 = range(2)"
   ]
  },
  {
   "cell_type": "code",
   "execution_count": null,
   "metadata": {
    "collapsed": false
   },
   "outputs": [],
   "source": [
    "t = time()\n",
    "\n",
    "a = 0\n",
    "for i in l1:\n",
    "    for j in l2:\n",
    "        a += i + j\n",
    "        \n",
    "print time() - t"
   ]
  },
  {
   "cell_type": "code",
   "execution_count": null,
   "metadata": {
    "collapsed": false
   },
   "outputs": [],
   "source": [
    "t = time()\n",
    "\n",
    "a = 0\n",
    "for i in l2:\n",
    "    for j in l1:\n",
    "        a += i + j\n",
    "        \n",
    "print time() - t"
   ]
  },
  {
   "cell_type": "markdown",
   "metadata": {},
   "source": [
    "# Aula 2: 1/setembro/2016"
   ]
  },
  {
   "cell_type": "markdown",
   "metadata": {
    "collapsed": true
   },
   "source": [
    "## Funções"
   ]
  },
  {
   "cell_type": "code",
   "execution_count": null,
   "metadata": {
    "collapsed": true
   },
   "outputs": [],
   "source": [
    "def media(a, b):\n",
    "    return (a + b)/2.0"
   ]
  },
  {
   "cell_type": "code",
   "execution_count": null,
   "metadata": {
    "collapsed": false
   },
   "outputs": [],
   "source": [
    "media(1, 2)"
   ]
  },
  {
   "cell_type": "code",
   "execution_count": null,
   "metadata": {
    "collapsed": true
   },
   "outputs": [],
   "source": [
    "def media_harmonica(lista):\n",
    "    n = len(lista)\n",
    "    return n/sum([1.0/e for e in lista])    "
   ]
  },
  {
   "cell_type": "code",
   "execution_count": null,
   "metadata": {
    "collapsed": false
   },
   "outputs": [],
   "source": [
    "media_harmonica([5, 8])"
   ]
  },
  {
   "cell_type": "code",
   "execution_count": null,
   "metadata": {
    "collapsed": true
   },
   "outputs": [],
   "source": [
    "from scipy.stats import hmean"
   ]
  },
  {
   "cell_type": "code",
   "execution_count": null,
   "metadata": {
    "collapsed": false
   },
   "outputs": [],
   "source": [
    "hmean([5,8])"
   ]
  },
  {
   "cell_type": "code",
   "execution_count": null,
   "metadata": {
    "collapsed": true
   },
   "outputs": [],
   "source": [
    "def so_negativos(lista):\n",
    "    r = []\n",
    "    for i in lista:\n",
    "        if i < 0: r.append(i)\n",
    "    return r"
   ]
  },
  {
   "cell_type": "code",
   "execution_count": null,
   "metadata": {
    "collapsed": false
   },
   "outputs": [],
   "source": [
    "so_negativos([2, 3, -2, -4, 10, -1])"
   ]
  },
  {
   "cell_type": "code",
   "execution_count": null,
   "metadata": {
    "collapsed": true
   },
   "outputs": [],
   "source": [
    "def so_negativos(lista):\n",
    "    for i in lista:\n",
    "        if i < 0:\n",
    "            yield i"
   ]
  },
  {
   "cell_type": "code",
   "execution_count": null,
   "metadata": {
    "collapsed": false
   },
   "outputs": [],
   "source": [
    "so_negativos([2, 3, -2, -4, 10, -1])"
   ]
  },
  {
   "cell_type": "code",
   "execution_count": null,
   "metadata": {
    "collapsed": false
   },
   "outputs": [],
   "source": [
    "list(so_negativos([2, 3, -2, -4, 10, -1]))"
   ]
  },
  {
   "cell_type": "markdown",
   "metadata": {},
   "source": [
    "## pandas"
   ]
  },
  {
   "cell_type": "code",
   "execution_count": null,
   "metadata": {
    "collapsed": true
   },
   "outputs": [],
   "source": [
    "import pandas as pd"
   ]
  },
  {
   "cell_type": "markdown",
   "metadata": {},
   "source": [
    "### Series"
   ]
  },
  {
   "cell_type": "code",
   "execution_count": null,
   "metadata": {
    "collapsed": true
   },
   "outputs": [],
   "source": []
  },
  {
   "cell_type": "markdown",
   "metadata": {},
   "source": [
    "### Dataframes"
   ]
  },
  {
   "cell_type": "code",
   "execution_count": null,
   "metadata": {
    "collapsed": false
   },
   "outputs": [],
   "source": [
    "import webbrowser\n",
    "\n",
    "url = 'http://www.cbf.com.br/competicoes/brasileiro-serie-a/classificacao/2016#.V8h7spMrJE4'\n",
    "\n",
    "webbrowser.open_new(url)"
   ]
  },
  {
   "cell_type": "code",
   "execution_count": null,
   "metadata": {
    "collapsed": false
   },
   "outputs": [],
   "source": [
    "df = pd.read_clipboard()"
   ]
  },
  {
   "cell_type": "code",
   "execution_count": null,
   "metadata": {
    "collapsed": false
   },
   "outputs": [],
   "source": [
    "df"
   ]
  },
  {
   "cell_type": "code",
   "execution_count": null,
   "metadata": {
    "collapsed": false
   },
   "outputs": [],
   "source": [
    "df.reset_index(inplace = True)\n",
    "\n",
    "del df['level_0']\n",
    "del df['level_2']\n",
    "\n",
    "df.rename(columns={'level_1': 'Equipe', 'Classificação': 'Estado'}, inplace = True)\n",
    "\n",
    "df.set_index('Equipe', drop = True, inplace=True)"
   ]
  },
  {
   "cell_type": "code",
   "execution_count": null,
   "metadata": {
    "collapsed": false
   },
   "outputs": [],
   "source": [
    "df"
   ]
  },
  {
   "cell_type": "code",
   "execution_count": null,
   "metadata": {
    "collapsed": false
   },
   "outputs": [],
   "source": [
    "df.columns"
   ]
  },
  {
   "cell_type": "code",
   "execution_count": null,
   "metadata": {
    "collapsed": false
   },
   "outputs": [],
   "source": [
    "print df.index\n",
    "print\n",
    "for time in df.index:\n",
    "    print time"
   ]
  },
  {
   "cell_type": "code",
   "execution_count": null,
   "metadata": {
    "collapsed": false
   },
   "outputs": [],
   "source": [
    "df"
   ]
  },
  {
   "cell_type": "code",
   "execution_count": null,
   "metadata": {
    "collapsed": false
   },
   "outputs": [],
   "source": [
    "df['P']"
   ]
  },
  {
   "cell_type": "code",
   "execution_count": null,
   "metadata": {
    "collapsed": false
   },
   "outputs": [],
   "source": [
    "df.P"
   ]
  },
  {
   "cell_type": "code",
   "execution_count": null,
   "metadata": {
    "collapsed": false
   },
   "outputs": [],
   "source": [
    "df"
   ]
  },
  {
   "cell_type": "code",
   "execution_count": null,
   "metadata": {
    "collapsed": false
   },
   "outputs": [],
   "source": [
    "df.loc[['PALMEIRAS', 'FLAMENGO'], ['P', 'V']]"
   ]
  },
  {
   "cell_type": "code",
   "execution_count": null,
   "metadata": {
    "collapsed": false
   },
   "outputs": [],
   "source": [
    "df.iloc[:, 0:4]"
   ]
  },
  {
   "cell_type": "code",
   "execution_count": null,
   "metadata": {
    "collapsed": false
   },
   "outputs": [],
   "source": [
    "df.ix[['PALMEIRAS', 'FLAMENGO'], 0:4]"
   ]
  },
  {
   "cell_type": "code",
   "execution_count": null,
   "metadata": {
    "collapsed": false
   },
   "outputs": [],
   "source": [
    "df"
   ]
  },
  {
   "cell_type": "code",
   "execution_count": null,
   "metadata": {
    "collapsed": false
   },
   "outputs": [],
   "source": [
    "df['aqui'] = [1 if estado == 'SP' else 0 for estado in df.Estado]"
   ]
  },
  {
   "cell_type": "code",
   "execution_count": null,
   "metadata": {
    "collapsed": false
   },
   "outputs": [],
   "source": [
    "df"
   ]
  },
  {
   "cell_type": "code",
   "execution_count": null,
   "metadata": {
    "collapsed": false
   },
   "outputs": [],
   "source": [
    "list(df.index) + ['TABAJARA']"
   ]
  },
  {
   "cell_type": "code",
   "execution_count": null,
   "metadata": {
    "collapsed": false
   },
   "outputs": [],
   "source": [
    "df = df.reindex(list(df.index) + ['TABAJARA'])"
   ]
  },
  {
   "cell_type": "code",
   "execution_count": null,
   "metadata": {
    "collapsed": false
   },
   "outputs": [],
   "source": [
    "df"
   ]
  },
  {
   "cell_type": "code",
   "execution_count": null,
   "metadata": {
    "collapsed": true
   },
   "outputs": [],
   "source": [
    "del df['aqui']"
   ]
  },
  {
   "cell_type": "code",
   "execution_count": null,
   "metadata": {
    "collapsed": false
   },
   "outputs": [],
   "source": [
    "df"
   ]
  },
  {
   "cell_type": "code",
   "execution_count": null,
   "metadata": {
    "collapsed": false
   },
   "outputs": [],
   "source": [
    "df.drop('CV', axis = 1, inplace = True)"
   ]
  },
  {
   "cell_type": "code",
   "execution_count": null,
   "metadata": {
    "collapsed": false
   },
   "outputs": [],
   "source": [
    "df"
   ]
  },
  {
   "cell_type": "code",
   "execution_count": null,
   "metadata": {
    "collapsed": true
   },
   "outputs": [],
   "source": [
    "df.drop('TABAJARA', inplace = True)"
   ]
  },
  {
   "cell_type": "code",
   "execution_count": null,
   "metadata": {
    "collapsed": false
   },
   "outputs": [],
   "source": [
    "df"
   ]
  },
  {
   "cell_type": "code",
   "execution_count": null,
   "metadata": {
    "collapsed": false
   },
   "outputs": [],
   "source": [
    "df.V + df.E + df.D"
   ]
  },
  {
   "cell_type": "code",
   "execution_count": null,
   "metadata": {
    "collapsed": false
   },
   "outputs": [],
   "source": [
    "df.V/2"
   ]
  },
  {
   "cell_type": "code",
   "execution_count": null,
   "metadata": {
    "collapsed": false
   },
   "outputs": [],
   "source": [
    "s = pd.Series([1,2,3,4])\n",
    "\n",
    "s/2"
   ]
  },
  {
   "cell_type": "code",
   "execution_count": null,
   "metadata": {
    "collapsed": false
   },
   "outputs": [],
   "source": [
    "df"
   ]
  },
  {
   "cell_type": "code",
   "execution_count": null,
   "metadata": {
    "collapsed": false
   },
   "outputs": [],
   "source": [
    "df.sort_values('GP', ascending=False)"
   ]
  },
  {
   "cell_type": "code",
   "execution_count": null,
   "metadata": {
    "collapsed": false
   },
   "outputs": [],
   "source": [
    "df"
   ]
  },
  {
   "cell_type": "code",
   "execution_count": null,
   "metadata": {
    "collapsed": false
   },
   "outputs": [],
   "source": [
    "df.sort_index()"
   ]
  },
  {
   "cell_type": "code",
   "execution_count": null,
   "metadata": {
    "collapsed": true
   },
   "outputs": [],
   "source": [
    "df = df.reindex(list(df.index) + ['TABAJARA'])"
   ]
  },
  {
   "cell_type": "code",
   "execution_count": null,
   "metadata": {
    "collapsed": false
   },
   "outputs": [],
   "source": [
    "df"
   ]
  },
  {
   "cell_type": "code",
   "execution_count": null,
   "metadata": {
    "collapsed": false
   },
   "outputs": [],
   "source": [
    "import numpy as np\n",
    "df['sel'] = [2, 3, np.nan, 0, np.nan, np.nan]"
   ]
  },
  {
   "cell_type": "code",
   "execution_count": null,
   "metadata": {
    "collapsed": false
   },
   "outputs": [],
   "source": [
    "df"
   ]
  },
  {
   "cell_type": "code",
   "execution_count": null,
   "metadata": {
    "collapsed": false
   },
   "outputs": [],
   "source": [
    "df.dropna(how = 'all')"
   ]
  },
  {
   "cell_type": "code",
   "execution_count": null,
   "metadata": {
    "collapsed": true
   },
   "outputs": [],
   "source": [
    "df.drop('TABAJARA',inplace = True)"
   ]
  },
  {
   "cell_type": "code",
   "execution_count": null,
   "metadata": {
    "collapsed": false
   },
   "outputs": [],
   "source": [
    "df.dropna(how = 'any', axis=1)"
   ]
  },
  {
   "cell_type": "code",
   "execution_count": null,
   "metadata": {
    "collapsed": false
   },
   "outputs": [],
   "source": [
    "df"
   ]
  },
  {
   "cell_type": "code",
   "execution_count": null,
   "metadata": {
    "collapsed": true
   },
   "outputs": [],
   "source": [
    "del df['Estado']"
   ]
  },
  {
   "cell_type": "code",
   "execution_count": null,
   "metadata": {
    "collapsed": false
   },
   "outputs": [],
   "source": [
    "df"
   ]
  },
  {
   "cell_type": "code",
   "execution_count": null,
   "metadata": {
    "collapsed": false
   },
   "outputs": [],
   "source": [
    "df.max(axis = 1)"
   ]
  },
  {
   "cell_type": "code",
   "execution_count": null,
   "metadata": {
    "collapsed": false
   },
   "outputs": [],
   "source": [
    "df.min(axis = 1)"
   ]
  },
  {
   "cell_type": "code",
   "execution_count": null,
   "metadata": {
    "collapsed": false
   },
   "outputs": [],
   "source": [
    "df.GP.describe()"
   ]
  },
  {
   "cell_type": "code",
   "execution_count": null,
   "metadata": {
    "collapsed": false
   },
   "outputs": [],
   "source": [
    "df.GP.describe()"
   ]
  },
  {
   "cell_type": "code",
   "execution_count": null,
   "metadata": {
    "collapsed": true
   },
   "outputs": [],
   "source": [
    "import matplotlib"
   ]
  },
  {
   "cell_type": "code",
   "execution_count": null,
   "metadata": {
    "collapsed": true
   },
   "outputs": [],
   "source": [
    "%matplotlib inline"
   ]
  },
  {
   "cell_type": "code",
   "execution_count": null,
   "metadata": {
    "collapsed": false
   },
   "outputs": [],
   "source": [
    "df.P.plot(kind = 'bar')"
   ]
  },
  {
   "cell_type": "code",
   "execution_count": null,
   "metadata": {
    "collapsed": true
   },
   "outputs": [],
   "source": []
  },
  {
   "cell_type": "code",
   "execution_count": null,
   "metadata": {
    "collapsed": false
   },
   "outputs": [],
   "source": [
    "df[['V','E','D']].plot(kind = 'bar')"
   ]
  },
  {
   "cell_type": "code",
   "execution_count": null,
   "metadata": {
    "collapsed": false
   },
   "outputs": [],
   "source": [
    "df.P.plot(kind = 'hist')"
   ]
  },
  {
   "cell_type": "code",
   "execution_count": null,
   "metadata": {
    "collapsed": false
   },
   "outputs": [],
   "source": [
    "df.P.plot(kind = 'box')"
   ]
  },
  {
   "cell_type": "markdown",
   "metadata": {},
   "source": [
    "# Aula 3, 8/setembro/2016"
   ]
  },
  {
   "cell_type": "code",
   "execution_count": null,
   "metadata": {
    "collapsed": true
   },
   "outputs": [],
   "source": [
    "import pandas as pd\n",
    "import numpy as np\n",
    "import matplotlib.pyplot as plt\n",
    "\n",
    "%matplotlib inline"
   ]
  },
  {
   "cell_type": "code",
   "execution_count": null,
   "metadata": {
    "collapsed": false
   },
   "outputs": [],
   "source": [
    "df = pd.read_csv('alunos.csv')"
   ]
  },
  {
   "cell_type": "code",
   "execution_count": null,
   "metadata": {
    "collapsed": false
   },
   "outputs": [],
   "source": [
    "df.head()"
   ]
  },
  {
   "cell_type": "code",
   "execution_count": null,
   "metadata": {
    "collapsed": false
   },
   "outputs": [],
   "source": [
    "df.tail()"
   ]
  },
  {
   "cell_type": "code",
   "execution_count": null,
   "metadata": {
    "collapsed": false
   },
   "outputs": [],
   "source": [
    "df.shape"
   ]
  },
  {
   "cell_type": "code",
   "execution_count": null,
   "metadata": {
    "collapsed": false
   },
   "outputs": [],
   "source": [
    "df.Atividade_por_semana.head()"
   ]
  },
  {
   "cell_type": "code",
   "execution_count": null,
   "metadata": {
    "collapsed": false
   },
   "outputs": [],
   "source": [
    "df.Altura.value_counts().sort_index()"
   ]
  },
  {
   "cell_type": "code",
   "execution_count": null,
   "metadata": {
    "collapsed": false
   },
   "outputs": [],
   "source": [
    "df.Time.value_counts()"
   ]
  },
  {
   "cell_type": "code",
   "execution_count": null,
   "metadata": {
    "collapsed": false
   },
   "outputs": [],
   "source": [
    "df.count()"
   ]
  },
  {
   "cell_type": "code",
   "execution_count": null,
   "metadata": {
    "collapsed": false
   },
   "outputs": [],
   "source": [
    "df.Atividade_por_semana.value_counts().sort_index()"
   ]
  },
  {
   "cell_type": "code",
   "execution_count": null,
   "metadata": {
    "collapsed": false
   },
   "outputs": [],
   "source": [
    "df"
   ]
  },
  {
   "cell_type": "code",
   "execution_count": null,
   "metadata": {
    "collapsed": false
   },
   "outputs": [],
   "source": [
    "df[~pd.isnull(df.Time)]"
   ]
  },
  {
   "cell_type": "code",
   "execution_count": null,
   "metadata": {
    "collapsed": false
   },
   "outputs": [],
   "source": [
    "df.Altura.value_counts().sort_index()"
   ]
  },
  {
   "cell_type": "code",
   "execution_count": null,
   "metadata": {
    "collapsed": false
   },
   "outputs": [],
   "source": [
    "plt.plot(df.Altura, df.Peso, 'o')\n",
    "plt.xlabel('Altura')\n",
    "plt.ylabel('Peso')\n",
    "axes = plt.gca()\n",
    "# axes.set_xlim((150, 190))\n",
    "# axes.set_ylim((70, 100))"
   ]
  },
  {
   "cell_type": "markdown",
   "metadata": {},
   "source": [
    "### Exemplo de distribuição paramétrica"
   ]
  },
  {
   "cell_type": "markdown",
   "metadata": {},
   "source": [
    "pdf (função densidade de probabilidade) de distribuição normal:\n",
    "\n",
    "## $$  f(x,\\mu,\\sigma) = \\frac{1}{\\sigma\\sqrt{2\\pi}}e^\\frac{-1}{2z^2} $$\n",
    "\n",
    "onde:\n",
    "\n",
    "$$z=\\frac{(x-\\mu)}{\\sigma}$$\n",
    "\n",
    "μ=media , σ=desvio padrão"
   ]
  },
  {
   "cell_type": "code",
   "execution_count": 227,
   "metadata": {
    "collapsed": false
   },
   "outputs": [
    {
     "data": {
      "text/html": [
       "<img src=\"https://upload.wikimedia.org/wikipedia/commons/a/a9/Empirical_Rule.PNG\"/>"
      ],
      "text/plain": [
       "<IPython.core.display.Image object>"
      ]
     },
     "execution_count": 227,
     "metadata": {},
     "output_type": "execute_result"
    }
   ],
   "source": [
    "from IPython.display import Image\n",
    "Image(url='https://upload.wikimedia.org/wikipedia/commons/a/a9/Empirical_Rule.PNG')"
   ]
  },
  {
   "cell_type": "code",
   "execution_count": null,
   "metadata": {
    "collapsed": false
   },
   "outputs": [],
   "source": [
    "# import matplotlib as mpl\n",
    "\n",
    "from scipy import stats\n",
    "\n",
    "media = 0\n",
    "desvio_padrao = 1\n",
    "\n",
    "# Criando um range\n",
    "X = np.arange(-4,4,0.01)\n",
    "\n",
    "# Criando uma distribuição normal para o range X\n",
    "Y = stats.norm.pdf(X,media, desvio_padrao)\n",
    "\n",
    "#\n",
    "plt.plot(X,Y)"
   ]
  },
  {
   "cell_type": "markdown",
   "metadata": {},
   "source": [
    "### numpy"
   ]
  },
  {
   "cell_type": "code",
   "execution_count": null,
   "metadata": {
    "collapsed": true
   },
   "outputs": [],
   "source": [
    "import numpy as np"
   ]
  },
  {
   "cell_type": "code",
   "execution_count": null,
   "metadata": {
    "collapsed": true
   },
   "outputs": [],
   "source": [
    "l = [1,2,3,4]"
   ]
  },
  {
   "cell_type": "code",
   "execution_count": null,
   "metadata": {
    "collapsed": false
   },
   "outputs": [],
   "source": [
    "l + l"
   ]
  },
  {
   "cell_type": "code",
   "execution_count": null,
   "metadata": {
    "collapsed": false
   },
   "outputs": [],
   "source": [
    "l * 2"
   ]
  },
  {
   "cell_type": "code",
   "execution_count": null,
   "metadata": {
    "collapsed": false
   },
   "outputs": [],
   "source": [
    "a = np.array(l)"
   ]
  },
  {
   "cell_type": "code",
   "execution_count": null,
   "metadata": {
    "collapsed": false
   },
   "outputs": [],
   "source": [
    "a"
   ]
  },
  {
   "cell_type": "code",
   "execution_count": null,
   "metadata": {
    "collapsed": false
   },
   "outputs": [],
   "source": [
    "a + a"
   ]
  },
  {
   "cell_type": "code",
   "execution_count": null,
   "metadata": {
    "collapsed": false
   },
   "outputs": [],
   "source": [
    "2 * a"
   ]
  },
  {
   "cell_type": "code",
   "execution_count": null,
   "metadata": {
    "collapsed": false
   },
   "outputs": [],
   "source": [
    "a"
   ]
  },
  {
   "cell_type": "code",
   "execution_count": null,
   "metadata": {
    "collapsed": false
   },
   "outputs": [],
   "source": [
    "1.0/(1 + np.exp(a))"
   ]
  },
  {
   "cell_type": "code",
   "execution_count": null,
   "metadata": {
    "collapsed": false
   },
   "outputs": [],
   "source": [
    "df.head()"
   ]
  },
  {
   "cell_type": "code",
   "execution_count": null,
   "metadata": {
    "collapsed": false
   },
   "outputs": [],
   "source": [
    "np.array(df.head())"
   ]
  },
  {
   "cell_type": "code",
   "execution_count": null,
   "metadata": {
    "collapsed": false
   },
   "outputs": [],
   "source": [
    "df.head().values"
   ]
  },
  {
   "cell_type": "code",
   "execution_count": null,
   "metadata": {
    "collapsed": false
   },
   "outputs": [],
   "source": [
    "np.sqrt(a)"
   ]
  },
  {
   "cell_type": "code",
   "execution_count": null,
   "metadata": {
    "collapsed": false
   },
   "outputs": [],
   "source": [
    "a * 2"
   ]
  },
  {
   "cell_type": "code",
   "execution_count": null,
   "metadata": {
    "collapsed": true
   },
   "outputs": [],
   "source": [
    "from random import randint"
   ]
  },
  {
   "cell_type": "code",
   "execution_count": null,
   "metadata": {
    "collapsed": false
   },
   "outputs": [],
   "source": [
    "m = [[randint(1,10) for i in range(5)] for j in range(5)]"
   ]
  },
  {
   "cell_type": "code",
   "execution_count": null,
   "metadata": {
    "collapsed": false
   },
   "outputs": [],
   "source": [
    "m"
   ]
  },
  {
   "cell_type": "code",
   "execution_count": null,
   "metadata": {
    "collapsed": true
   },
   "outputs": [],
   "source": [
    "m = np.array(m)"
   ]
  },
  {
   "cell_type": "code",
   "execution_count": null,
   "metadata": {
    "collapsed": false
   },
   "outputs": [],
   "source": [
    "m"
   ]
  },
  {
   "cell_type": "code",
   "execution_count": null,
   "metadata": {
    "collapsed": false
   },
   "outputs": [],
   "source": [
    "m.T"
   ]
  },
  {
   "cell_type": "code",
   "execution_count": null,
   "metadata": {
    "collapsed": false
   },
   "outputs": [],
   "source": [
    "m * m"
   ]
  },
  {
   "cell_type": "code",
   "execution_count": null,
   "metadata": {
    "collapsed": false
   },
   "outputs": [],
   "source": [
    "np.dot(m,m)"
   ]
  },
  {
   "cell_type": "code",
   "execution_count": null,
   "metadata": {
    "collapsed": false
   },
   "outputs": [],
   "source": [
    "m"
   ]
  },
  {
   "cell_type": "code",
   "execution_count": null,
   "metadata": {
    "collapsed": false
   },
   "outputs": [],
   "source": [
    "m[0]"
   ]
  },
  {
   "cell_type": "code",
   "execution_count": null,
   "metadata": {
    "collapsed": false
   },
   "outputs": [],
   "source": [
    "m[0,3]"
   ]
  },
  {
   "cell_type": "code",
   "execution_count": null,
   "metadata": {
    "collapsed": false
   },
   "outputs": [],
   "source": [
    "m[1,2:]"
   ]
  },
  {
   "cell_type": "code",
   "execution_count": null,
   "metadata": {
    "collapsed": false
   },
   "outputs": [],
   "source": [
    "m"
   ]
  },
  {
   "cell_type": "code",
   "execution_count": null,
   "metadata": {
    "collapsed": false
   },
   "outputs": [],
   "source": [
    "m[2]"
   ]
  },
  {
   "cell_type": "code",
   "execution_count": null,
   "metadata": {
    "collapsed": false
   },
   "outputs": [],
   "source": [
    "m[[2,1,4]]"
   ]
  },
  {
   "cell_type": "code",
   "execution_count": null,
   "metadata": {
    "collapsed": false
   },
   "outputs": [],
   "source": [
    "m"
   ]
  },
  {
   "cell_type": "code",
   "execution_count": null,
   "metadata": {
    "collapsed": false
   },
   "outputs": [],
   "source": [
    "import matplotlib.pyplot as plt\n",
    "%matplotlib inline"
   ]
  },
  {
   "cell_type": "code",
   "execution_count": null,
   "metadata": {
    "collapsed": false
   },
   "outputs": [],
   "source": [
    "m"
   ]
  },
  {
   "cell_type": "code",
   "execution_count": null,
   "metadata": {
    "collapsed": false
   },
   "outputs": [],
   "source": [
    "plt.imshow(m)\n",
    "plt.colorbar()"
   ]
  },
  {
   "cell_type": "code",
   "execution_count": null,
   "metadata": {
    "collapsed": false
   },
   "outputs": [],
   "source": [
    "m"
   ]
  },
  {
   "cell_type": "code",
   "execution_count": null,
   "metadata": {
    "collapsed": false
   },
   "outputs": [],
   "source": [
    "m[:,3]==7"
   ]
  },
  {
   "cell_type": "code",
   "execution_count": null,
   "metadata": {
    "collapsed": false
   },
   "outputs": [],
   "source": [
    "np.where(m[:,3]==7, m[:,0], m[:,1])"
   ]
  },
  {
   "cell_type": "code",
   "execution_count": null,
   "metadata": {
    "collapsed": false
   },
   "outputs": [],
   "source": [
    "m.mean(axis=0)"
   ]
  },
  {
   "cell_type": "code",
   "execution_count": null,
   "metadata": {
    "collapsed": false
   },
   "outputs": [],
   "source": [
    "m.mean(axis=1)"
   ]
  },
  {
   "cell_type": "code",
   "execution_count": null,
   "metadata": {
    "collapsed": false
   },
   "outputs": [],
   "source": [
    "m.var(axis=0)"
   ]
  },
  {
   "cell_type": "code",
   "execution_count": null,
   "metadata": {
    "collapsed": true
   },
   "outputs": [],
   "source": [
    "b = np.array([True, True, False])"
   ]
  },
  {
   "cell_type": "code",
   "execution_count": null,
   "metadata": {
    "collapsed": false
   },
   "outputs": [],
   "source": [
    "b"
   ]
  },
  {
   "cell_type": "code",
   "execution_count": null,
   "metadata": {
    "collapsed": false
   },
   "outputs": [],
   "source": [
    "b.any()"
   ]
  },
  {
   "cell_type": "code",
   "execution_count": null,
   "metadata": {
    "collapsed": false
   },
   "outputs": [],
   "source": [
    "b.all()"
   ]
  },
  {
   "cell_type": "code",
   "execution_count": null,
   "metadata": {
    "collapsed": false
   },
   "outputs": [],
   "source": [
    "(m[:,3]==7).any()"
   ]
  },
  {
   "cell_type": "code",
   "execution_count": null,
   "metadata": {
    "collapsed": true
   },
   "outputs": [],
   "source": []
  },
  {
   "cell_type": "code",
   "execution_count": null,
   "metadata": {
    "collapsed": true
   },
   "outputs": [],
   "source": [
    "l = np.array(l)"
   ]
  },
  {
   "cell_type": "code",
   "execution_count": null,
   "metadata": {
    "collapsed": false
   },
   "outputs": [],
   "source": [
    "l.dtype"
   ]
  },
  {
   "cell_type": "code",
   "execution_count": null,
   "metadata": {
    "collapsed": false
   },
   "outputs": [],
   "source": [
    "np.arange(5)"
   ]
  },
  {
   "cell_type": "code",
   "execution_count": null,
   "metadata": {
    "collapsed": false
   },
   "outputs": [],
   "source": [
    "np.eye(5)"
   ]
  },
  {
   "cell_type": "code",
   "execution_count": null,
   "metadata": {
    "collapsed": false
   },
   "outputs": [],
   "source": [
    "np.zeros((3,3))"
   ]
  },
  {
   "cell_type": "code",
   "execution_count": null,
   "metadata": {
    "collapsed": false
   },
   "outputs": [],
   "source": [
    "m"
   ]
  },
  {
   "cell_type": "code",
   "execution_count": null,
   "metadata": {
    "collapsed": false
   },
   "outputs": [],
   "source": [
    "a"
   ]
  },
  {
   "cell_type": "code",
   "execution_count": null,
   "metadata": {
    "collapsed": true
   },
   "outputs": [],
   "source": [
    "a = np.array([4,2,5,10])"
   ]
  },
  {
   "cell_type": "code",
   "execution_count": null,
   "metadata": {
    "collapsed": false
   },
   "outputs": [],
   "source": [
    "a"
   ]
  },
  {
   "cell_type": "code",
   "execution_count": null,
   "metadata": {
    "collapsed": true
   },
   "outputs": [],
   "source": [
    "a.sort()"
   ]
  },
  {
   "cell_type": "code",
   "execution_count": null,
   "metadata": {
    "collapsed": false
   },
   "outputs": [],
   "source": [
    "a"
   ]
  },
  {
   "cell_type": "code",
   "execution_count": null,
   "metadata": {
    "collapsed": false
   },
   "outputs": [],
   "source": [
    "from sklearn.preprocessing import LabelEncoder"
   ]
  },
  {
   "cell_type": "code",
   "execution_count": null,
   "metadata": {
    "collapsed": false
   },
   "outputs": [],
   "source": [
    "le = LabelEncoder()\n",
    "df['Time'] = le.fit_transform(df.Time)"
   ]
  },
  {
   "cell_type": "code",
   "execution_count": null,
   "metadata": {
    "collapsed": false
   },
   "outputs": [],
   "source": [
    "df = pd.read_csv('alunos.csv')"
   ]
  },
  {
   "cell_type": "code",
   "execution_count": null,
   "metadata": {
    "collapsed": false
   },
   "outputs": [],
   "source": [
    "df.head()"
   ]
  },
  {
   "cell_type": "code",
   "execution_count": null,
   "metadata": {
    "collapsed": true
   },
   "outputs": [],
   "source": [
    "df['gordo'] = [i > 65 for i in df['Peso']]"
   ]
  },
  {
   "cell_type": "code",
   "execution_count": null,
   "metadata": {
    "collapsed": true
   },
   "outputs": [],
   "source": [
    "df['gordo'] = df.Peso > 65"
   ]
  },
  {
   "cell_type": "code",
   "execution_count": null,
   "metadata": {
    "collapsed": false
   },
   "outputs": [],
   "source": [
    "Image(url='https://viveresano.files.wordpress.com/2010/07/imcformula.jpg')"
   ]
  },
  {
   "cell_type": "code",
   "execution_count": null,
   "metadata": {
    "collapsed": true
   },
   "outputs": [],
   "source": [
    "df['IMC'] = df.Peso/(df.Altura/100.0)**2"
   ]
  },
  {
   "cell_type": "code",
   "execution_count": null,
   "metadata": {
    "collapsed": false
   },
   "outputs": [],
   "source": [
    "df['IMC'] = df.Peso/(np.power(df.Altura/100, 2))"
   ]
  },
  {
   "cell_type": "code",
   "execution_count": null,
   "metadata": {
    "collapsed": false
   },
   "outputs": [],
   "source": [
    "Image(url='https://viveresano.files.wordpress.com/2010/07/imc.jpg')\n"
   ]
  },
  {
   "cell_type": "code",
   "execution_count": null,
   "metadata": {
    "collapsed": false
   },
   "outputs": [],
   "source": [
    "df['graus_obesidade'] = pd.cut(df.IMC, [0,18.5, 25, 30, 35, 40, np.inf], \n",
    "                               labels = ['baixo', 'normal', 'pre-obeso', 'grau I',\n",
    "                                         'grau II', 'grau III'])"
   ]
  },
  {
   "cell_type": "code",
   "execution_count": null,
   "metadata": {
    "collapsed": false
   },
   "outputs": [],
   "source": [
    "df['graus_obesidade']"
   ]
  },
  {
   "cell_type": "code",
   "execution_count": null,
   "metadata": {
    "collapsed": false
   },
   "outputs": [],
   "source": [
    "df[['graus_obesidade']]"
   ]
  },
  {
   "cell_type": "code",
   "execution_count": null,
   "metadata": {
    "collapsed": false
   },
   "outputs": [],
   "source": [
    "df = pd.concat([df, pd.get_dummies(df.Time)], axis=1)"
   ]
  },
  {
   "cell_type": "code",
   "execution_count": null,
   "metadata": {
    "collapsed": false
   },
   "outputs": [],
   "source": [
    "del df['Time']"
   ]
  },
  {
   "cell_type": "code",
   "execution_count": null,
   "metadata": {
    "collapsed": false
   },
   "outputs": [],
   "source": [
    "type(df)"
   ]
  },
  {
   "cell_type": "code",
   "execution_count": null,
   "metadata": {
    "collapsed": false
   },
   "outputs": [],
   "source": [
    "type(df.values)"
   ]
  },
  {
   "cell_type": "code",
   "execution_count": null,
   "metadata": {
    "collapsed": false
   },
   "outputs": [],
   "source": [
    "df.head()"
   ]
  },
  {
   "cell_type": "markdown",
   "metadata": {
    "collapsed": true
   },
   "source": [
    "# Aula 4, 14/setembro/2016"
   ]
  },
  {
   "cell_type": "markdown",
   "metadata": {},
   "source": [
    "## Estatisticas para analise univariada:\n",
    "\n",
    "### Para uma variável $X$ com $n$ amostras $x_1, x_2,..., x_n$\n",
    "\n",
    " * ### Média\n",
    "\n",
    "### $\\overline{x}_n = \\frac{1}{n} \\sum_{i=1}^n x_i $\n",
    "\n",
    "* ### Desvio padrão ($\\sigma$) e variancia ($\\sigma^2$)\n",
    "\n",
    "### $\\sigma = \\sqrt{ \\frac{1}{n-1} \\sum_{i=1}^n (x_i - \\overline{x}_n)^2 }$\n",
    "\n",
    "* ### Mediana\n",
    "\n",
    "valor que valor numérico que separa a metade superior de uma amostra de dados ordenada, da metade inferior\n",
    "\n",
    "## Estatisticas para analise bivariada:\n",
    "\n",
    "* ### Covariancia\n",
    "\n",
    "### $cov_{x,y}=\\frac{\\sum_{i=1}^{N}(x_{i}-\\bar{x})(y_{i}-\\bar{y})}{n-1}$\n",
    "\n",
    "* ### Correlação (Pearson's r)\n",
    "\n",
    "### $r = \\frac{cov_{x,y}}{\\sigma_x \\sigma_y} = \\frac{\\sum_{i=1}^{N}(x_{i}-\\bar{x})(y_{i}-\\bar{y})}\n",
    "{ \\sqrt{ \\sum_{i=1}^n (x_i - \\overline{x}_n)^2 }\n",
    "  \\sqrt{ \\sum_{i=1}^n (y_i - \\overline{y}_n)^2 } }$\n",
    "\n"
   ]
  },
  {
   "cell_type": "code",
   "execution_count": 1,
   "metadata": {
    "collapsed": true
   },
   "outputs": [],
   "source": [
    "import pandas as pd\n",
    "import numpy as np\n",
    "\n",
    "%matplotlib inline"
   ]
  },
  {
   "cell_type": "code",
   "execution_count": 2,
   "metadata": {
    "collapsed": false
   },
   "outputs": [
    {
     "data": {
      "text/plain": [
       "array([[ 1.,  1.],\n",
       "       [ 1.,  1.]])"
      ]
     },
     "execution_count": 2,
     "metadata": {},
     "output_type": "execute_result"
    }
   ],
   "source": [
    "np.corrcoef([[0,1,2], [0,1,2]])"
   ]
  },
  {
   "cell_type": "code",
   "execution_count": 3,
   "metadata": {
    "collapsed": false
   },
   "outputs": [
    {
     "data": {
      "text/plain": [
       "array([[ 1., -1.,  1.],\n",
       "       [-1.,  1., -1.],\n",
       "       [ 1., -1.,  1.]])"
      ]
     },
     "execution_count": 3,
     "metadata": {},
     "output_type": "execute_result"
    }
   ],
   "source": [
    "np.corrcoef([[0,1,2],[0,-1,-2], [0,1,2]])"
   ]
  },
  {
   "cell_type": "code",
   "execution_count": 4,
   "metadata": {
    "collapsed": false
   },
   "outputs": [],
   "source": [
    "df = pd.DataFrame({'qtd_policiais_por_area': [2, 4, 5, 9, 10], 'taxa_crime': [0.3, 0.33, 0.49, 1.0, 1.3]})"
   ]
  },
  {
   "cell_type": "code",
   "execution_count": 9,
   "metadata": {
    "collapsed": false
   },
   "outputs": [
    {
     "data": {
      "text/plain": [
       "<matplotlib.axes._subplots.AxesSubplot at 0x10de0dc50>"
      ]
     },
     "execution_count": 9,
     "metadata": {},
     "output_type": "execute_result"
    },
    {
     "data": {
      "image/png": "[encoded data removed]",
      "text/plain": [
       "<matplotlib.figure.Figure at 0x10de79250>"
      ]
     },
     "metadata": {},
     "output_type": "display_data"
    }
   ],
   "source": [
    "df.plot(x = 'qtd_policiais_por_area', y = 'taxa_crime', style='o')"
   ]
  },
  {
   "cell_type": "code",
   "execution_count": null,
   "metadata": {
    "collapsed": false
   },
   "outputs": [],
   "source": [
    "df.plot(kind = 'scatter', x = 'qtd_policiais_por_area', y = 'taxa_crime')"
   ]
  },
  {
   "cell_type": "code",
   "execution_count": 10,
   "metadata": {
    "collapsed": false
   },
   "outputs": [
    {
     "data": {
      "text/plain": [
       "array([[ 1.        ,  0.97060021],\n",
       "       [ 0.97060021,  1.        ]])"
      ]
     },
     "execution_count": 10,
     "metadata": {},
     "output_type": "execute_result"
    }
   ],
   "source": [
    "np.corrcoef(df.T)"
   ]
  },
  {
   "cell_type": "code",
   "execution_count": null,
   "metadata": {
    "collapsed": false
   },
   "outputs": [],
   "source": [
    "df.corr()"
   ]
  },
  {
   "cell_type": "code",
   "execution_count": null,
   "metadata": {
    "collapsed": true
   },
   "outputs": [],
   "source": [
    "# Correlação não implica causalidade"
   ]
  },
  {
   "cell_type": "code",
   "execution_count": null,
   "metadata": {
    "collapsed": false
   },
   "outputs": [],
   "source": [
    "df = pd.read_csv('alunos.csv')\n",
    "\n",
    "df['IMC'] = df.Peso/((df.Altura/100) ** 2)"
   ]
  },
  {
   "cell_type": "code",
   "execution_count": null,
   "metadata": {
    "collapsed": false
   },
   "outputs": [],
   "source": [
    "df.head()"
   ]
  },
  {
   "cell_type": "code",
   "execution_count": null,
   "metadata": {
    "collapsed": false
   },
   "outputs": [],
   "source": [
    "# Estatisticas univariadas\n",
    "df.describe()"
   ]
  },
  {
   "cell_type": "code",
   "execution_count": null,
   "metadata": {
    "collapsed": false
   },
   "outputs": [],
   "source": [
    "df.Time.value_counts()"
   ]
  },
  {
   "cell_type": "code",
   "execution_count": null,
   "metadata": {
    "collapsed": false
   },
   "outputs": [],
   "source": [
    "df_numeric = df[df.columns.difference(['Time'])]"
   ]
  },
  {
   "cell_type": "code",
   "execution_count": null,
   "metadata": {
    "collapsed": false
   },
   "outputs": [],
   "source": [
    "df_numeric.head()"
   ]
  },
  {
   "cell_type": "code",
   "execution_count": null,
   "metadata": {
    "collapsed": false
   },
   "outputs": [],
   "source": [
    "# ooops, ele calculou correlacoes entre ...?\n",
    "# ... veja df_numeric.values\n",
    "np.corrcoef(df_numeric)\n",
    "\n",
    "# isso fornece um insight diferente, e interessante"
   ]
  },
  {
   "cell_type": "code",
   "execution_count": null,
   "metadata": {
    "collapsed": false
   },
   "outputs": [],
   "source": [
    "# agora sim, correlações entre:\n",
    "print 'Colunas:', df_numeric.columns\n",
    "print\n",
    "print 'Matriz de correlações:'\n",
    "print np.corrcoef(df_numeric.T)"
   ]
  },
  {
   "cell_type": "code",
   "execution_count": null,
   "metadata": {
    "collapsed": false
   },
   "outputs": [],
   "source": [
    "df.corr()"
   ]
  },
  {
   "cell_type": "code",
   "execution_count": null,
   "metadata": {
    "collapsed": false
   },
   "outputs": [],
   "source": [
    "import matplotlib.pyplot as plt\n",
    "\n",
    "plt.matshow(df.corr())"
   ]
  },
  {
   "cell_type": "code",
   "execution_count": null,
   "metadata": {
    "collapsed": false
   },
   "outputs": [],
   "source": [
    "# Original : https://stanford.edu/~mwaskom/software/seaborn/examples/many_pairwise_correlations.html\n",
    "\n",
    "import seaborn as sns\n",
    "\n",
    "sns.set(style=\"white\")\n",
    "\n",
    "# Compute the correlation matrix\n",
    "corr = df.corr()\n",
    "\n",
    "# Generate a mask for the upper triangle\n",
    "mask = np.zeros_like(corr, dtype=np.bool)\n",
    "mask[np.triu_indices_from(mask)] = True\n",
    "\n",
    "# Set up the matplotlib figure\n",
    "f, ax = plt.subplots(figsize=(8, 6))\n",
    "\n",
    "# Generate a custom diverging colormap\n",
    "cmap = sns.diverging_palette(10, 220, as_cmap=True)\n",
    "\n",
    "# Draw the heatmap with the mask and correct aspect ratio\n",
    "sns.heatmap(corr, mask=mask, cmap=cmap, vmax=1.0,\n",
    "            square=True, #xticklabels=5, yticklabels=5,\n",
    "            linewidths=.5, cbar_kws={\"shrink\": .5}, ax=ax)"
   ]
  },
  {
   "cell_type": "code",
   "execution_count": null,
   "metadata": {
    "collapsed": false
   },
   "outputs": [],
   "source": [
    "corr"
   ]
  },
  {
   "cell_type": "code",
   "execution_count": null,
   "metadata": {
    "collapsed": false
   },
   "outputs": [],
   "source": [
    "corr = df_numeric.T.corr()"
   ]
  },
  {
   "cell_type": "code",
   "execution_count": null,
   "metadata": {
    "collapsed": false
   },
   "outputs": [],
   "source": [
    "def visual_corr_matriz(corr):\n",
    "    # Generate a mask for the upper triangle\n",
    "    mask = np.zeros_like(corr, dtype=np.bool)\n",
    "    mask[np.triu_indices_from(mask)] = True\n",
    "    \n",
    "    # Set up the matplotlib figure\n",
    "    f, ax = plt.subplots(figsize=(8, 6))\n",
    "    \n",
    "    # Generate a custom diverging colormap\n",
    "    cmap = sns.diverging_palette(10, 220, as_cmap=True)\n",
    "    \n",
    "    # Draw the heatmap with the mask and correct aspect ratio\n",
    "    sns.heatmap(corr, mask=mask, cmap=cmap, vmax=1.0,\n",
    "                square=True, #xticklabels=5, yticklabels=5,\n",
    "                linewidths=.5, cbar_kws={\"shrink\": .5}, ax=ax)"
   ]
  },
  {
   "cell_type": "code",
   "execution_count": null,
   "metadata": {
    "collapsed": false
   },
   "outputs": [],
   "source": [
    "del df['Time']"
   ]
  },
  {
   "cell_type": "code",
   "execution_count": null,
   "metadata": {
    "collapsed": false
   },
   "outputs": [],
   "source": [
    "visual_corr_matriz(df.T.corr())"
   ]
  },
  {
   "cell_type": "code",
   "execution_count": null,
   "metadata": {
    "collapsed": false
   },
   "outputs": [],
   "source": [
    "df_numeric.ix[[10,19,20,21]]"
   ]
  },
  {
   "cell_type": "code",
   "execution_count": null,
   "metadata": {
    "collapsed": false
   },
   "outputs": [],
   "source": [
    "df_numeric.ix[[7,9,10,19,20]]"
   ]
  },
  {
   "cell_type": "code",
   "execution_count": null,
   "metadata": {
    "collapsed": false
   },
   "outputs": [],
   "source": [
    "df_numeric.plot.scatter(x = 'Peso', y = 'Altura', c = 'IMC', s = 100)"
   ]
  },
  {
   "cell_type": "code",
   "execution_count": null,
   "metadata": {
    "collapsed": false
   },
   "outputs": [],
   "source": [
    "df.idxmax()"
   ]
  },
  {
   "cell_type": "code",
   "execution_count": null,
   "metadata": {
    "collapsed": false
   },
   "outputs": [],
   "source": [
    "df.iloc[[13, 20]]"
   ]
  },
  {
   "cell_type": "markdown",
   "metadata": {},
   "source": [
    "## manipulando dois ou mais dataframes\n",
    "merge e concat"
   ]
  },
  {
   "cell_type": "code",
   "execution_count": null,
   "metadata": {
    "collapsed": false
   },
   "outputs": [],
   "source": [
    "df = pd.read_csv('alunos.csv')"
   ]
  },
  {
   "cell_type": "code",
   "execution_count": null,
   "metadata": {
    "collapsed": false
   },
   "outputs": [],
   "source": [
    "df.Time.unique()"
   ]
  },
  {
   "cell_type": "code",
   "execution_count": null,
   "metadata": {
    "collapsed": false
   },
   "outputs": [],
   "source": [
    "df.head()"
   ]
  },
  {
   "cell_type": "code",
   "execution_count": null,
   "metadata": {
    "collapsed": false
   },
   "outputs": [],
   "source": [
    "df_uf = pd.DataFrame([['Fluminense', 'Fluminense','Flamengo', 'Sao Paulo', 'Palmeiras',\n",
    "       'Corinthians', 'Cruzeiro', 'Vitoria', 'Santos'], ['RJ', 'RJ2','RJ', 'SP', 'SP', 'SP', 'MG', 'BA', 'SP']])\n",
    "\n",
    "df_uf = pd.DataFrame(df_uf.T)\n",
    "\n",
    "df_uf.columns = ['Time', 'Estado']"
   ]
  },
  {
   "cell_type": "code",
   "execution_count": null,
   "metadata": {
    "collapsed": false
   },
   "outputs": [],
   "source": [
    "df_uf"
   ]
  },
  {
   "cell_type": "code",
   "execution_count": null,
   "metadata": {
    "collapsed": false
   },
   "outputs": [],
   "source": [
    "df.head()"
   ]
  },
  {
   "cell_type": "code",
   "execution_count": null,
   "metadata": {
    "collapsed": false
   },
   "outputs": [],
   "source": [
    "pd.merge(df, df_uf)"
   ]
  },
  {
   "cell_type": "code",
   "execution_count": null,
   "metadata": {
    "collapsed": false
   },
   "outputs": [],
   "source": [
    "pd.merge(df, df_uf, how='left')"
   ]
  },
  {
   "cell_type": "code",
   "execution_count": null,
   "metadata": {
    "collapsed": false
   },
   "outputs": [],
   "source": [
    "df_uf.loc[8] = ['Gremio', 'RS']"
   ]
  },
  {
   "cell_type": "code",
   "execution_count": null,
   "metadata": {
    "collapsed": false
   },
   "outputs": [],
   "source": [
    "df_uf"
   ]
  },
  {
   "cell_type": "code",
   "execution_count": null,
   "metadata": {
    "collapsed": false
   },
   "outputs": [],
   "source": [
    "pd.merge(df, df_uf, how='right')"
   ]
  },
  {
   "cell_type": "code",
   "execution_count": null,
   "metadata": {
    "collapsed": false
   },
   "outputs": [],
   "source": [
    "df_uf.columns = ['Equipe', 'Estado']"
   ]
  },
  {
   "cell_type": "code",
   "execution_count": null,
   "metadata": {
    "collapsed": false
   },
   "outputs": [],
   "source": [
    "df_uf"
   ]
  },
  {
   "cell_type": "code",
   "execution_count": null,
   "metadata": {
    "collapsed": false
   },
   "outputs": [],
   "source": [
    "pd.merge(df, df_uf, left_on = 'Time', right_on='Equipe')"
   ]
  },
  {
   "cell_type": "code",
   "execution_count": null,
   "metadata": {
    "collapsed": true
   },
   "outputs": [],
   "source": []
  },
  {
   "cell_type": "code",
   "execution_count": null,
   "metadata": {
    "collapsed": true
   },
   "outputs": [],
   "source": []
  },
  {
   "cell_type": "code",
   "execution_count": null,
   "metadata": {
    "collapsed": true
   },
   "outputs": [],
   "source": [
    "df2 = pd.DataFrame({'Atividade_por_semana':[3,4], 'Altura':[173, 180], 'Peso':[77, 81], 'Time': ['Gremio', 'Guarani']})"
   ]
  },
  {
   "cell_type": "code",
   "execution_count": null,
   "metadata": {
    "collapsed": false
   },
   "outputs": [],
   "source": [
    "df2"
   ]
  },
  {
   "cell_type": "code",
   "execution_count": null,
   "metadata": {
    "collapsed": false
   },
   "outputs": [],
   "source": [
    "pd.concat([df, df2])"
   ]
  },
  {
   "cell_type": "code",
   "execution_count": null,
   "metadata": {
    "collapsed": true
   },
   "outputs": [],
   "source": [
    "from random import randint"
   ]
  },
  {
   "cell_type": "code",
   "execution_count": null,
   "metadata": {
    "collapsed": false
   },
   "outputs": [],
   "source": [
    "nota = pd.Series([randint(50,100) for i in range(len(df))], name='Nota')"
   ]
  },
  {
   "cell_type": "code",
   "execution_count": null,
   "metadata": {
    "collapsed": false
   },
   "outputs": [],
   "source": [
    "pd.concat([df, nota], axis = 1)"
   ]
  },
  {
   "cell_type": "code",
   "execution_count": null,
   "metadata": {
    "collapsed": false
   },
   "outputs": [],
   "source": [
    "df = pd.merge(df, df_uf, how='left', left_on='Time' ,right_on='Equipe')"
   ]
  },
  {
   "cell_type": "markdown",
   "metadata": {
    "collapsed": true
   },
   "source": [
    "# Aula 5, 22/setembro/2016"
   ]
  },
  {
   "cell_type": "code",
   "execution_count": 1,
   "metadata": {
    "collapsed": true
   },
   "outputs": [],
   "source": [
    "import pandas as pd"
   ]
  },
  {
   "cell_type": "code",
   "execution_count": 2,
   "metadata": {
    "collapsed": false
   },
   "outputs": [],
   "source": [
    "df = pd.read_csv('alunos.csv')\n",
    "\n",
    "df['IMC'] = df.Peso/((df.Altura/100) ** 2)"
   ]
  },
  {
   "cell_type": "code",
   "execution_count": 3,
   "metadata": {
    "collapsed": false
   },
   "outputs": [
    {
     "data": {
      "text/html": [
       "<div>\n",
       "<table border=\"1\" class=\"dataframe\">\n",
       "  <thead>\n",
       "    <tr style=\"text-align: right;\">\n",
       "      <th></th>\n",
       "      <th>Atividade_por_semana</th>\n",
       "      <th>Altura</th>\n",
       "      <th>Peso</th>\n",
       "      <th>Time</th>\n",
       "      <th>IMC</th>\n",
       "    </tr>\n",
       "  </thead>\n",
       "  <tbody>\n",
       "    <tr>\n",
       "      <th>0</th>\n",
       "      <td>4</td>\n",
       "      <td>173</td>\n",
       "      <td>85</td>\n",
       "      <td>Fluminense</td>\n",
       "      <td>28.400548</td>\n",
       "    </tr>\n",
       "    <tr>\n",
       "      <th>1</th>\n",
       "      <td>0</td>\n",
       "      <td>170</td>\n",
       "      <td>70</td>\n",
       "      <td>Flamengo</td>\n",
       "      <td>24.221453</td>\n",
       "    </tr>\n",
       "    <tr>\n",
       "      <th>2</th>\n",
       "      <td>2</td>\n",
       "      <td>183</td>\n",
       "      <td>85</td>\n",
       "      <td>NaN</td>\n",
       "      <td>25.381469</td>\n",
       "    </tr>\n",
       "    <tr>\n",
       "      <th>3</th>\n",
       "      <td>4</td>\n",
       "      <td>176</td>\n",
       "      <td>70</td>\n",
       "      <td>Sao Paulo</td>\n",
       "      <td>22.598140</td>\n",
       "    </tr>\n",
       "    <tr>\n",
       "      <th>4</th>\n",
       "      <td>9</td>\n",
       "      <td>178</td>\n",
       "      <td>73</td>\n",
       "      <td>Palmeiras</td>\n",
       "      <td>23.040020</td>\n",
       "    </tr>\n",
       "  </tbody>\n",
       "</table>\n",
       "</div>"
      ],
      "text/plain": [
       "   Atividade_por_semana  Altura  Peso        Time        IMC\n",
       "0                     4     173    85  Fluminense  28.400548\n",
       "1                     0     170    70    Flamengo  24.221453\n",
       "2                     2     183    85         NaN  25.381469\n",
       "3                     4     176    70   Sao Paulo  22.598140\n",
       "4                     9     178    73   Palmeiras  23.040020"
      ]
     },
     "execution_count": 3,
     "metadata": {},
     "output_type": "execute_result"
    }
   ],
   "source": [
    "df.head()"
   ]
  },
  {
   "cell_type": "code",
   "execution_count": 4,
   "metadata": {
    "collapsed": false
   },
   "outputs": [],
   "source": [
    "df_uf = pd.DataFrame([['Fluminense', 'Flamengo', 'Sao Paulo', 'Palmeiras',\n",
    "                       'Corinthians', 'Cruzeiro', 'Vitoria', 'Santos'], \n",
    "                      ['RJ', 'RJ', 'SP', 'SP', 'SP', 'MG', 'BA', 'SP']],\n",
    "                     index = ['Time', 'Estado'])\n",
    "\n",
    "df_uf = pd.DataFrame(df_uf.T)"
   ]
  },
  {
   "cell_type": "code",
   "execution_count": 5,
   "metadata": {
    "collapsed": false
   },
   "outputs": [
    {
     "data": {
      "text/html": [
       "<div>\n",
       "<table border=\"1\" class=\"dataframe\">\n",
       "  <thead>\n",
       "    <tr style=\"text-align: right;\">\n",
       "      <th></th>\n",
       "      <th>Time</th>\n",
       "      <th>Estado</th>\n",
       "    </tr>\n",
       "  </thead>\n",
       "  <tbody>\n",
       "    <tr>\n",
       "      <th>0</th>\n",
       "      <td>Fluminense</td>\n",
       "      <td>RJ</td>\n",
       "    </tr>\n",
       "    <tr>\n",
       "      <th>1</th>\n",
       "      <td>Flamengo</td>\n",
       "      <td>RJ</td>\n",
       "    </tr>\n",
       "    <tr>\n",
       "      <th>2</th>\n",
       "      <td>Sao Paulo</td>\n",
       "      <td>SP</td>\n",
       "    </tr>\n",
       "    <tr>\n",
       "      <th>3</th>\n",
       "      <td>Palmeiras</td>\n",
       "      <td>SP</td>\n",
       "    </tr>\n",
       "    <tr>\n",
       "      <th>4</th>\n",
       "      <td>Corinthians</td>\n",
       "      <td>SP</td>\n",
       "    </tr>\n",
       "    <tr>\n",
       "      <th>5</th>\n",
       "      <td>Cruzeiro</td>\n",
       "      <td>MG</td>\n",
       "    </tr>\n",
       "    <tr>\n",
       "      <th>6</th>\n",
       "      <td>Vitoria</td>\n",
       "      <td>BA</td>\n",
       "    </tr>\n",
       "    <tr>\n",
       "      <th>7</th>\n",
       "      <td>Santos</td>\n",
       "      <td>SP</td>\n",
       "    </tr>\n",
       "  </tbody>\n",
       "</table>\n",
       "</div>"
      ],
      "text/plain": [
       "          Time Estado\n",
       "0   Fluminense     RJ\n",
       "1     Flamengo     RJ\n",
       "2    Sao Paulo     SP\n",
       "3    Palmeiras     SP\n",
       "4  Corinthians     SP\n",
       "5     Cruzeiro     MG\n",
       "6      Vitoria     BA\n",
       "7       Santos     SP"
      ]
     },
     "execution_count": 5,
     "metadata": {},
     "output_type": "execute_result"
    }
   ],
   "source": [
    "df_uf"
   ]
  },
  {
   "cell_type": "code",
   "execution_count": 7,
   "metadata": {
    "collapsed": false
   },
   "outputs": [],
   "source": [
    "df = pd.merge(df, df_uf, how='left')"
   ]
  },
  {
   "cell_type": "code",
   "execution_count": 8,
   "metadata": {
    "collapsed": false
   },
   "outputs": [
    {
     "data": {
      "text/html": [
       "<div>\n",
       "<table border=\"1\" class=\"dataframe\">\n",
       "  <thead>\n",
       "    <tr style=\"text-align: right;\">\n",
       "      <th></th>\n",
       "      <th>Atividade_por_semana</th>\n",
       "      <th>Altura</th>\n",
       "      <th>Peso</th>\n",
       "      <th>Time</th>\n",
       "      <th>IMC</th>\n",
       "      <th>Estado</th>\n",
       "    </tr>\n",
       "  </thead>\n",
       "  <tbody>\n",
       "    <tr>\n",
       "      <th>0</th>\n",
       "      <td>4</td>\n",
       "      <td>173</td>\n",
       "      <td>85</td>\n",
       "      <td>Fluminense</td>\n",
       "      <td>28.400548</td>\n",
       "      <td>RJ</td>\n",
       "    </tr>\n",
       "    <tr>\n",
       "      <th>1</th>\n",
       "      <td>0</td>\n",
       "      <td>170</td>\n",
       "      <td>70</td>\n",
       "      <td>Flamengo</td>\n",
       "      <td>24.221453</td>\n",
       "      <td>RJ</td>\n",
       "    </tr>\n",
       "    <tr>\n",
       "      <th>2</th>\n",
       "      <td>2</td>\n",
       "      <td>183</td>\n",
       "      <td>85</td>\n",
       "      <td>NaN</td>\n",
       "      <td>25.381469</td>\n",
       "      <td>NaN</td>\n",
       "    </tr>\n",
       "    <tr>\n",
       "      <th>3</th>\n",
       "      <td>4</td>\n",
       "      <td>176</td>\n",
       "      <td>70</td>\n",
       "      <td>Sao Paulo</td>\n",
       "      <td>22.598140</td>\n",
       "      <td>SP</td>\n",
       "    </tr>\n",
       "    <tr>\n",
       "      <th>4</th>\n",
       "      <td>9</td>\n",
       "      <td>178</td>\n",
       "      <td>73</td>\n",
       "      <td>Palmeiras</td>\n",
       "      <td>23.040020</td>\n",
       "      <td>SP</td>\n",
       "    </tr>\n",
       "  </tbody>\n",
       "</table>\n",
       "</div>"
      ],
      "text/plain": [
       "   Atividade_por_semana  Altura  Peso        Time        IMC Estado\n",
       "0                     4     173    85  Fluminense  28.400548     RJ\n",
       "1                     0     170    70    Flamengo  24.221453     RJ\n",
       "2                     2     183    85         NaN  25.381469    NaN\n",
       "3                     4     176    70   Sao Paulo  22.598140     SP\n",
       "4                     9     178    73   Palmeiras  23.040020     SP"
      ]
     },
     "execution_count": 8,
     "metadata": {},
     "output_type": "execute_result"
    }
   ],
   "source": [
    "df.head()"
   ]
  },
  {
   "cell_type": "code",
   "execution_count": 9,
   "metadata": {
    "collapsed": false
   },
   "outputs": [],
   "source": [
    "df['Estado'].fillna('BR', inplace = True)"
   ]
  },
  {
   "cell_type": "code",
   "execution_count": 10,
   "metadata": {
    "collapsed": false
   },
   "outputs": [
    {
     "data": {
      "text/html": [
       "<div>\n",
       "<table border=\"1\" class=\"dataframe\">\n",
       "  <thead>\n",
       "    <tr style=\"text-align: right;\">\n",
       "      <th></th>\n",
       "      <th>Atividade_por_semana</th>\n",
       "      <th>Altura</th>\n",
       "      <th>Peso</th>\n",
       "      <th>Time</th>\n",
       "      <th>IMC</th>\n",
       "      <th>Estado</th>\n",
       "    </tr>\n",
       "  </thead>\n",
       "  <tbody>\n",
       "    <tr>\n",
       "      <th>0</th>\n",
       "      <td>4</td>\n",
       "      <td>173</td>\n",
       "      <td>85</td>\n",
       "      <td>Fluminense</td>\n",
       "      <td>28.400548</td>\n",
       "      <td>RJ</td>\n",
       "    </tr>\n",
       "    <tr>\n",
       "      <th>1</th>\n",
       "      <td>0</td>\n",
       "      <td>170</td>\n",
       "      <td>70</td>\n",
       "      <td>Flamengo</td>\n",
       "      <td>24.221453</td>\n",
       "      <td>RJ</td>\n",
       "    </tr>\n",
       "    <tr>\n",
       "      <th>2</th>\n",
       "      <td>2</td>\n",
       "      <td>183</td>\n",
       "      <td>85</td>\n",
       "      <td>NaN</td>\n",
       "      <td>25.381469</td>\n",
       "      <td>BR</td>\n",
       "    </tr>\n",
       "    <tr>\n",
       "      <th>3</th>\n",
       "      <td>4</td>\n",
       "      <td>176</td>\n",
       "      <td>70</td>\n",
       "      <td>Sao Paulo</td>\n",
       "      <td>22.598140</td>\n",
       "      <td>SP</td>\n",
       "    </tr>\n",
       "    <tr>\n",
       "      <th>4</th>\n",
       "      <td>9</td>\n",
       "      <td>178</td>\n",
       "      <td>73</td>\n",
       "      <td>Palmeiras</td>\n",
       "      <td>23.040020</td>\n",
       "      <td>SP</td>\n",
       "    </tr>\n",
       "  </tbody>\n",
       "</table>\n",
       "</div>"
      ],
      "text/plain": [
       "   Atividade_por_semana  Altura  Peso        Time        IMC Estado\n",
       "0                     4     173    85  Fluminense  28.400548     RJ\n",
       "1                     0     170    70    Flamengo  24.221453     RJ\n",
       "2                     2     183    85         NaN  25.381469     BR\n",
       "3                     4     176    70   Sao Paulo  22.598140     SP\n",
       "4                     9     178    73   Palmeiras  23.040020     SP"
      ]
     },
     "execution_count": 10,
     "metadata": {},
     "output_type": "execute_result"
    }
   ],
   "source": [
    "df.head()"
   ]
  },
  {
   "cell_type": "code",
   "execution_count": 11,
   "metadata": {
    "collapsed": false
   },
   "outputs": [],
   "source": [
    "df['Time'] = df.Time.combine_first(df.Estado)"
   ]
  },
  {
   "cell_type": "code",
   "execution_count": 12,
   "metadata": {
    "collapsed": false
   },
   "outputs": [
    {
     "data": {
      "text/html": [
       "<div>\n",
       "<table border=\"1\" class=\"dataframe\">\n",
       "  <thead>\n",
       "    <tr style=\"text-align: right;\">\n",
       "      <th></th>\n",
       "      <th>Atividade_por_semana</th>\n",
       "      <th>Altura</th>\n",
       "      <th>Peso</th>\n",
       "      <th>Time</th>\n",
       "      <th>IMC</th>\n",
       "      <th>Estado</th>\n",
       "    </tr>\n",
       "  </thead>\n",
       "  <tbody>\n",
       "    <tr>\n",
       "      <th>0</th>\n",
       "      <td>4</td>\n",
       "      <td>173</td>\n",
       "      <td>85</td>\n",
       "      <td>Fluminense</td>\n",
       "      <td>28.400548</td>\n",
       "      <td>RJ</td>\n",
       "    </tr>\n",
       "    <tr>\n",
       "      <th>1</th>\n",
       "      <td>0</td>\n",
       "      <td>170</td>\n",
       "      <td>70</td>\n",
       "      <td>Flamengo</td>\n",
       "      <td>24.221453</td>\n",
       "      <td>RJ</td>\n",
       "    </tr>\n",
       "    <tr>\n",
       "      <th>2</th>\n",
       "      <td>2</td>\n",
       "      <td>183</td>\n",
       "      <td>85</td>\n",
       "      <td>BR</td>\n",
       "      <td>25.381469</td>\n",
       "      <td>BR</td>\n",
       "    </tr>\n",
       "    <tr>\n",
       "      <th>3</th>\n",
       "      <td>4</td>\n",
       "      <td>176</td>\n",
       "      <td>70</td>\n",
       "      <td>Sao Paulo</td>\n",
       "      <td>22.598140</td>\n",
       "      <td>SP</td>\n",
       "    </tr>\n",
       "    <tr>\n",
       "      <th>4</th>\n",
       "      <td>9</td>\n",
       "      <td>178</td>\n",
       "      <td>73</td>\n",
       "      <td>Palmeiras</td>\n",
       "      <td>23.040020</td>\n",
       "      <td>SP</td>\n",
       "    </tr>\n",
       "  </tbody>\n",
       "</table>\n",
       "</div>"
      ],
      "text/plain": [
       "   Atividade_por_semana  Altura  Peso        Time        IMC Estado\n",
       "0                     4     173    85  Fluminense  28.400548     RJ\n",
       "1                     0     170    70    Flamengo  24.221453     RJ\n",
       "2                     2     183    85          BR  25.381469     BR\n",
       "3                     4     176    70   Sao Paulo  22.598140     SP\n",
       "4                     9     178    73   Palmeiras  23.040020     SP"
      ]
     },
     "execution_count": 12,
     "metadata": {},
     "output_type": "execute_result"
    }
   ],
   "source": [
    "df.head()"
   ]
  },
  {
   "cell_type": "code",
   "execution_count": null,
   "metadata": {
    "collapsed": true
   },
   "outputs": [],
   "source": []
  },
  {
   "cell_type": "code",
   "execution_count": 13,
   "metadata": {
    "collapsed": true
   },
   "outputs": [],
   "source": [
    "nome = ['Joao', 'Pedro', 'Roberto', 'Paulo', 'Guilherme', 'Jose', 'Matheus', 'Mario', 'Lucas', 'Andre']\n",
    "sobrenome = ['Silva', 'Pereira', 'Souza', 'Garcia', 'Prado', 'Fontes', 'Oliveira', 'Martins', 'Abreu']"
   ]
  },
  {
   "cell_type": "code",
   "execution_count": 14,
   "metadata": {
    "collapsed": false
   },
   "outputs": [],
   "source": [
    "from random import randint\n",
    "df['nome'] = [nome[randint(0,len(nome) - 1)] + ' ' + sobrenome[randint(0,len(sobrenome) - 1)] for _ in range(len(df))]"
   ]
  },
  {
   "cell_type": "code",
   "execution_count": 15,
   "metadata": {
    "collapsed": false
   },
   "outputs": [
    {
     "data": {
      "text/html": [
       "<div>\n",
       "<table border=\"1\" class=\"dataframe\">\n",
       "  <thead>\n",
       "    <tr style=\"text-align: right;\">\n",
       "      <th></th>\n",
       "      <th>Atividade_por_semana</th>\n",
       "      <th>Altura</th>\n",
       "      <th>Peso</th>\n",
       "      <th>Time</th>\n",
       "      <th>IMC</th>\n",
       "      <th>Estado</th>\n",
       "      <th>nome</th>\n",
       "    </tr>\n",
       "  </thead>\n",
       "  <tbody>\n",
       "    <tr>\n",
       "      <th>0</th>\n",
       "      <td>4</td>\n",
       "      <td>173</td>\n",
       "      <td>85</td>\n",
       "      <td>Fluminense</td>\n",
       "      <td>28.400548</td>\n",
       "      <td>RJ</td>\n",
       "      <td>Lucas Silva</td>\n",
       "    </tr>\n",
       "    <tr>\n",
       "      <th>1</th>\n",
       "      <td>0</td>\n",
       "      <td>170</td>\n",
       "      <td>70</td>\n",
       "      <td>Flamengo</td>\n",
       "      <td>24.221453</td>\n",
       "      <td>RJ</td>\n",
       "      <td>Roberto Fontes</td>\n",
       "    </tr>\n",
       "    <tr>\n",
       "      <th>2</th>\n",
       "      <td>2</td>\n",
       "      <td>183</td>\n",
       "      <td>85</td>\n",
       "      <td>BR</td>\n",
       "      <td>25.381469</td>\n",
       "      <td>BR</td>\n",
       "      <td>Matheus Oliveira</td>\n",
       "    </tr>\n",
       "    <tr>\n",
       "      <th>3</th>\n",
       "      <td>4</td>\n",
       "      <td>176</td>\n",
       "      <td>70</td>\n",
       "      <td>Sao Paulo</td>\n",
       "      <td>22.598140</td>\n",
       "      <td>SP</td>\n",
       "      <td>Joao Pereira</td>\n",
       "    </tr>\n",
       "    <tr>\n",
       "      <th>4</th>\n",
       "      <td>9</td>\n",
       "      <td>178</td>\n",
       "      <td>73</td>\n",
       "      <td>Palmeiras</td>\n",
       "      <td>23.040020</td>\n",
       "      <td>SP</td>\n",
       "      <td>Jose Martins</td>\n",
       "    </tr>\n",
       "  </tbody>\n",
       "</table>\n",
       "</div>"
      ],
      "text/plain": [
       "   Atividade_por_semana  Altura  Peso        Time        IMC Estado  \\\n",
       "0                     4     173    85  Fluminense  28.400548     RJ   \n",
       "1                     0     170    70    Flamengo  24.221453     RJ   \n",
       "2                     2     183    85          BR  25.381469     BR   \n",
       "3                     4     176    70   Sao Paulo  22.598140     SP   \n",
       "4                     9     178    73   Palmeiras  23.040020     SP   \n",
       "\n",
       "               nome  \n",
       "0       Lucas Silva  \n",
       "1    Roberto Fontes  \n",
       "2  Matheus Oliveira  \n",
       "3      Joao Pereira  \n",
       "4      Jose Martins  "
      ]
     },
     "execution_count": 15,
     "metadata": {},
     "output_type": "execute_result"
    }
   ],
   "source": [
    "df.head()"
   ]
  },
  {
   "cell_type": "code",
   "execution_count": null,
   "metadata": {
    "collapsed": true
   },
   "outputs": [],
   "source": []
  },
  {
   "cell_type": "code",
   "execution_count": 16,
   "metadata": {
    "collapsed": false
   },
   "outputs": [],
   "source": [
    "df.set_index('nome', inplace=True)"
   ]
  },
  {
   "cell_type": "code",
   "execution_count": 17,
   "metadata": {
    "collapsed": false
   },
   "outputs": [
    {
     "data": {
      "text/html": [
       "<div>\n",
       "<table border=\"1\" class=\"dataframe\">\n",
       "  <thead>\n",
       "    <tr style=\"text-align: right;\">\n",
       "      <th></th>\n",
       "      <th>Atividade_por_semana</th>\n",
       "      <th>Altura</th>\n",
       "      <th>Peso</th>\n",
       "      <th>Time</th>\n",
       "      <th>IMC</th>\n",
       "      <th>Estado</th>\n",
       "    </tr>\n",
       "    <tr>\n",
       "      <th>nome</th>\n",
       "      <th></th>\n",
       "      <th></th>\n",
       "      <th></th>\n",
       "      <th></th>\n",
       "      <th></th>\n",
       "      <th></th>\n",
       "    </tr>\n",
       "  </thead>\n",
       "  <tbody>\n",
       "    <tr>\n",
       "      <th>Lucas Silva</th>\n",
       "      <td>4</td>\n",
       "      <td>173</td>\n",
       "      <td>85</td>\n",
       "      <td>Fluminense</td>\n",
       "      <td>28.400548</td>\n",
       "      <td>RJ</td>\n",
       "    </tr>\n",
       "    <tr>\n",
       "      <th>Roberto Fontes</th>\n",
       "      <td>0</td>\n",
       "      <td>170</td>\n",
       "      <td>70</td>\n",
       "      <td>Flamengo</td>\n",
       "      <td>24.221453</td>\n",
       "      <td>RJ</td>\n",
       "    </tr>\n",
       "    <tr>\n",
       "      <th>Matheus Oliveira</th>\n",
       "      <td>2</td>\n",
       "      <td>183</td>\n",
       "      <td>85</td>\n",
       "      <td>BR</td>\n",
       "      <td>25.381469</td>\n",
       "      <td>BR</td>\n",
       "    </tr>\n",
       "    <tr>\n",
       "      <th>Joao Pereira</th>\n",
       "      <td>4</td>\n",
       "      <td>176</td>\n",
       "      <td>70</td>\n",
       "      <td>Sao Paulo</td>\n",
       "      <td>22.598140</td>\n",
       "      <td>SP</td>\n",
       "    </tr>\n",
       "    <tr>\n",
       "      <th>Jose Martins</th>\n",
       "      <td>9</td>\n",
       "      <td>178</td>\n",
       "      <td>73</td>\n",
       "      <td>Palmeiras</td>\n",
       "      <td>23.040020</td>\n",
       "      <td>SP</td>\n",
       "    </tr>\n",
       "  </tbody>\n",
       "</table>\n",
       "</div>"
      ],
      "text/plain": [
       "                  Atividade_por_semana  Altura  Peso        Time        IMC  \\\n",
       "nome                                                                          \n",
       "Lucas Silva                          4     173    85  Fluminense  28.400548   \n",
       "Roberto Fontes                       0     170    70    Flamengo  24.221453   \n",
       "Matheus Oliveira                     2     183    85          BR  25.381469   \n",
       "Joao Pereira                         4     176    70   Sao Paulo  22.598140   \n",
       "Jose Martins                         9     178    73   Palmeiras  23.040020   \n",
       "\n",
       "                 Estado  \n",
       "nome                     \n",
       "Lucas Silva          RJ  \n",
       "Roberto Fontes       RJ  \n",
       "Matheus Oliveira     BR  \n",
       "Joao Pereira         SP  \n",
       "Jose Martins         SP  "
      ]
     },
     "execution_count": 17,
     "metadata": {},
     "output_type": "execute_result"
    }
   ],
   "source": [
    "df.head()"
   ]
  },
  {
   "cell_type": "code",
   "execution_count": 21,
   "metadata": {
    "collapsed": false
   },
   "outputs": [
    {
     "data": {
      "text/html": [
       "<div>\n",
       "<table border=\"1\" class=\"dataframe\">\n",
       "  <thead>\n",
       "    <tr style=\"text-align: right;\">\n",
       "      <th></th>\n",
       "      <th>Time</th>\n",
       "      <th>Estado</th>\n",
       "    </tr>\n",
       "    <tr>\n",
       "      <th>nome</th>\n",
       "      <th></th>\n",
       "      <th></th>\n",
       "    </tr>\n",
       "  </thead>\n",
       "  <tbody>\n",
       "    <tr>\n",
       "      <th>Lucas Silva</th>\n",
       "      <td>Fluminense</td>\n",
       "      <td>RJ</td>\n",
       "    </tr>\n",
       "    <tr>\n",
       "      <th>Roberto Fontes</th>\n",
       "      <td>Flamengo</td>\n",
       "      <td>RJ</td>\n",
       "    </tr>\n",
       "    <tr>\n",
       "      <th>Matheus Oliveira</th>\n",
       "      <td>BR</td>\n",
       "      <td>BR</td>\n",
       "    </tr>\n",
       "    <tr>\n",
       "      <th>Joao Pereira</th>\n",
       "      <td>Sao Paulo</td>\n",
       "      <td>SP</td>\n",
       "    </tr>\n",
       "    <tr>\n",
       "      <th>Jose Martins</th>\n",
       "      <td>Palmeiras</td>\n",
       "      <td>SP</td>\n",
       "    </tr>\n",
       "    <tr>\n",
       "      <th>Pedro Prado</th>\n",
       "      <td>Sao Paulo</td>\n",
       "      <td>SP</td>\n",
       "    </tr>\n",
       "    <tr>\n",
       "      <th>Pedro Pereira</th>\n",
       "      <td>Corinthians</td>\n",
       "      <td>SP</td>\n",
       "    </tr>\n",
       "    <tr>\n",
       "      <th>Andre Fontes</th>\n",
       "      <td>Corinthians</td>\n",
       "      <td>SP</td>\n",
       "    </tr>\n",
       "    <tr>\n",
       "      <th>Lucas Silva</th>\n",
       "      <td>Corinthians</td>\n",
       "      <td>SP</td>\n",
       "    </tr>\n",
       "    <tr>\n",
       "      <th>Mario Pereira</th>\n",
       "      <td>Cruzeiro</td>\n",
       "      <td>MG</td>\n",
       "    </tr>\n",
       "    <tr>\n",
       "      <th>Matheus Souza</th>\n",
       "      <td>BR</td>\n",
       "      <td>BR</td>\n",
       "    </tr>\n",
       "    <tr>\n",
       "      <th>Roberto Abreu</th>\n",
       "      <td>Vitoria</td>\n",
       "      <td>BA</td>\n",
       "    </tr>\n",
       "    <tr>\n",
       "      <th>Roberto Oliveira</th>\n",
       "      <td>Palmeiras</td>\n",
       "      <td>SP</td>\n",
       "    </tr>\n",
       "    <tr>\n",
       "      <th>Jose Abreu</th>\n",
       "      <td>Palmeiras</td>\n",
       "      <td>SP</td>\n",
       "    </tr>\n",
       "    <tr>\n",
       "      <th>Lucas Souza</th>\n",
       "      <td>Corinthians</td>\n",
       "      <td>SP</td>\n",
       "    </tr>\n",
       "    <tr>\n",
       "      <th>Roberto Martins</th>\n",
       "      <td>Sao Paulo</td>\n",
       "      <td>SP</td>\n",
       "    </tr>\n",
       "    <tr>\n",
       "      <th>Roberto Silva</th>\n",
       "      <td>Santos</td>\n",
       "      <td>SP</td>\n",
       "    </tr>\n",
       "    <tr>\n",
       "      <th>Jose Souza</th>\n",
       "      <td>BR</td>\n",
       "      <td>BR</td>\n",
       "    </tr>\n",
       "    <tr>\n",
       "      <th>Paulo Prado</th>\n",
       "      <td>Corinthians</td>\n",
       "      <td>SP</td>\n",
       "    </tr>\n",
       "    <tr>\n",
       "      <th>Mario Fontes</th>\n",
       "      <td>Corinthians</td>\n",
       "      <td>SP</td>\n",
       "    </tr>\n",
       "    <tr>\n",
       "      <th>Pedro Pereira</th>\n",
       "      <td>BR</td>\n",
       "      <td>BR</td>\n",
       "    </tr>\n",
       "    <tr>\n",
       "      <th>Andre Garcia</th>\n",
       "      <td>BR</td>\n",
       "      <td>BR</td>\n",
       "    </tr>\n",
       "    <tr>\n",
       "      <th>Lucas Garcia</th>\n",
       "      <td>Sao Paulo</td>\n",
       "      <td>SP</td>\n",
       "    </tr>\n",
       "    <tr>\n",
       "      <th>Matheus Martins</th>\n",
       "      <td>Corinthians</td>\n",
       "      <td>SP</td>\n",
       "    </tr>\n",
       "  </tbody>\n",
       "</table>\n",
       "</div>"
      ],
      "text/plain": [
       "                         Time Estado\n",
       "nome                                \n",
       "Lucas Silva        Fluminense     RJ\n",
       "Roberto Fontes       Flamengo     RJ\n",
       "Matheus Oliveira           BR     BR\n",
       "Joao Pereira        Sao Paulo     SP\n",
       "Jose Martins        Palmeiras     SP\n",
       "Pedro Prado         Sao Paulo     SP\n",
       "Pedro Pereira     Corinthians     SP\n",
       "Andre Fontes      Corinthians     SP\n",
       "Lucas Silva       Corinthians     SP\n",
       "Mario Pereira        Cruzeiro     MG\n",
       "Matheus Souza              BR     BR\n",
       "Roberto Abreu         Vitoria     BA\n",
       "Roberto Oliveira    Palmeiras     SP\n",
       "Jose Abreu          Palmeiras     SP\n",
       "Lucas Souza       Corinthians     SP\n",
       "Roberto Martins     Sao Paulo     SP\n",
       "Roberto Silva          Santos     SP\n",
       "Jose Souza                 BR     BR\n",
       "Paulo Prado       Corinthians     SP\n",
       "Mario Fontes      Corinthians     SP\n",
       "Pedro Pereira              BR     BR\n",
       "Andre Garcia               BR     BR\n",
       "Lucas Garcia        Sao Paulo     SP\n",
       "Matheus Martins   Corinthians     SP"
      ]
     },
     "execution_count": 21,
     "metadata": {},
     "output_type": "execute_result"
    }
   ],
   "source": [
    "df[['Time', 'Estado']]"
   ]
  },
  {
   "cell_type": "code",
   "execution_count": 23,
   "metadata": {
    "collapsed": false
   },
   "outputs": [
    {
     "data": {
      "text/plain": [
       "nome                    \n",
       "Lucas Silva       Time       Fluminense\n",
       "                  Estado             RJ\n",
       "Roberto Fontes    Time         Flamengo\n",
       "                  Estado             RJ\n",
       "Matheus Oliveira  Time               BR\n",
       "                  Estado             BR\n",
       "Joao Pereira      Time        Sao Paulo\n",
       "                  Estado             SP\n",
       "Jose Martins      Time        Palmeiras\n",
       "                  Estado             SP\n",
       "Pedro Prado       Time        Sao Paulo\n",
       "                  Estado             SP\n",
       "Pedro Pereira     Time      Corinthians\n",
       "                  Estado             SP\n",
       "Andre Fontes      Time      Corinthians\n",
       "                  Estado             SP\n",
       "Lucas Silva       Time      Corinthians\n",
       "                  Estado             SP\n",
       "Mario Pereira     Time         Cruzeiro\n",
       "                  Estado             MG\n",
       "Matheus Souza     Time               BR\n",
       "                  Estado             BR\n",
       "Roberto Abreu     Time          Vitoria\n",
       "                  Estado             BA\n",
       "Roberto Oliveira  Time        Palmeiras\n",
       "                  Estado             SP\n",
       "Jose Abreu        Time        Palmeiras\n",
       "                  Estado             SP\n",
       "Lucas Souza       Time      Corinthians\n",
       "                  Estado             SP\n",
       "Roberto Martins   Time        Sao Paulo\n",
       "                  Estado             SP\n",
       "Roberto Silva     Time           Santos\n",
       "                  Estado             SP\n",
       "Jose Souza        Time               BR\n",
       "                  Estado             BR\n",
       "Paulo Prado       Time      Corinthians\n",
       "                  Estado             SP\n",
       "Mario Fontes      Time      Corinthians\n",
       "                  Estado             SP\n",
       "Pedro Pereira     Time               BR\n",
       "                  Estado             BR\n",
       "Andre Garcia      Time               BR\n",
       "                  Estado             BR\n",
       "Lucas Garcia      Time        Sao Paulo\n",
       "                  Estado             SP\n",
       "Matheus Martins   Time      Corinthians\n",
       "                  Estado             SP\n",
       "dtype: object"
      ]
     },
     "execution_count": 23,
     "metadata": {},
     "output_type": "execute_result"
    }
   ],
   "source": [
    "df[['Time', 'Estado']].stack()"
   ]
  },
  {
   "cell_type": "code",
   "execution_count": 24,
   "metadata": {
    "collapsed": false
   },
   "outputs": [
    {
     "data": {
      "text/plain": [
       "MultiIndex(levels=[[u'Andre Fontes', u'Andre Garcia', u'Joao Pereira', u'Jose Abreu', u'Jose Martins', u'Jose Souza', u'Lucas Garcia', u'Lucas Silva', u'Lucas Souza', u'Mario Fontes', u'Mario Pereira', u'Matheus Martins', u'Matheus Oliveira', u'Matheus Souza', u'Paulo Prado', u'Pedro Pereira', u'Pedro Prado', u'Roberto Abreu', u'Roberto Fontes', u'Roberto Martins', u'Roberto Oliveira', u'Roberto Silva'], [u'Time', u'Estado']],\n",
       "           labels=[[7, 7, 18, 18, 12, 12, 2, 2, 4, 4, 16, 16, 15, 15, 0, 0, 7, 7, 10, 10, 13, 13, 17, 17, 20, 20, 3, 3, 8, 8, 19, 19, 21, 21, 5, 5, 14, 14, 9, 9, 15, 15, 1, 1, 6, 6, 11, 11], [0, 1, 0, 1, 0, 1, 0, 1, 0, 1, 0, 1, 0, 1, 0, 1, 0, 1, 0, 1, 0, 1, 0, 1, 0, 1, 0, 1, 0, 1, 0, 1, 0, 1, 0, 1, 0, 1, 0, 1, 0, 1, 0, 1, 0, 1, 0, 1]],\n",
       "           names=[u'nome', None])"
      ]
     },
     "execution_count": 24,
     "metadata": {},
     "output_type": "execute_result"
    }
   ],
   "source": [
    "_.index"
   ]
  },
  {
   "cell_type": "code",
   "execution_count": 26,
   "metadata": {
    "collapsed": false
   },
   "outputs": [],
   "source": [
    "df = df[['Atividade_por_semana', 'Time']]"
   ]
  },
  {
   "cell_type": "code",
   "execution_count": 28,
   "metadata": {
    "collapsed": false
   },
   "outputs": [
    {
     "data": {
      "text/html": [
       "<div>\n",
       "<table border=\"1\" class=\"dataframe\">\n",
       "  <thead>\n",
       "    <tr style=\"text-align: right;\">\n",
       "      <th></th>\n",
       "      <th>Atividade_por_semana</th>\n",
       "      <th>Time</th>\n",
       "    </tr>\n",
       "    <tr>\n",
       "      <th>nome</th>\n",
       "      <th></th>\n",
       "      <th></th>\n",
       "    </tr>\n",
       "  </thead>\n",
       "  <tbody>\n",
       "    <tr>\n",
       "      <th>Lucas Silva</th>\n",
       "      <td>4</td>\n",
       "      <td>Fluminense</td>\n",
       "    </tr>\n",
       "    <tr>\n",
       "      <th>Roberto Fontes</th>\n",
       "      <td>0</td>\n",
       "      <td>Flamengo</td>\n",
       "    </tr>\n",
       "    <tr>\n",
       "      <th>Matheus Oliveira</th>\n",
       "      <td>2</td>\n",
       "      <td>BR</td>\n",
       "    </tr>\n",
       "    <tr>\n",
       "      <th>Joao Pereira</th>\n",
       "      <td>4</td>\n",
       "      <td>Sao Paulo</td>\n",
       "    </tr>\n",
       "    <tr>\n",
       "      <th>Jose Martins</th>\n",
       "      <td>9</td>\n",
       "      <td>Palmeiras</td>\n",
       "    </tr>\n",
       "  </tbody>\n",
       "</table>\n",
       "</div>"
      ],
      "text/plain": [
       "                  Atividade_por_semana        Time\n",
       "nome                                              \n",
       "Lucas Silva                          4  Fluminense\n",
       "Roberto Fontes                       0    Flamengo\n",
       "Matheus Oliveira                     2          BR\n",
       "Joao Pereira                         4   Sao Paulo\n",
       "Jose Martins                         9   Palmeiras"
      ]
     },
     "execution_count": 28,
     "metadata": {},
     "output_type": "execute_result"
    }
   ],
   "source": [
    "df.head()"
   ]
  },
  {
   "cell_type": "code",
   "execution_count": 29,
   "metadata": {
    "collapsed": false
   },
   "outputs": [
    {
     "data": {
      "text/plain": [
       "nome\n",
       "Lucas Silva         False\n",
       "Roberto Fontes      False\n",
       "Matheus Oliveira    False\n",
       "Joao Pereira        False\n",
       "Jose Martins        False\n",
       "Pedro Prado         False\n",
       "Pedro Pereira       False\n",
       "Andre Fontes         True\n",
       "Lucas Silva         False\n",
       "Mario Pereira       False\n",
       "Matheus Souza       False\n",
       "Roberto Abreu       False\n",
       "Roberto Oliveira    False\n",
       "Jose Abreu          False\n",
       "Lucas Souza          True\n",
       "Roberto Martins     False\n",
       "Roberto Silva       False\n",
       "Jose Souza          False\n",
       "Paulo Prado         False\n",
       "Mario Fontes         True\n",
       "Pedro Pereira       False\n",
       "Andre Garcia         True\n",
       "Lucas Garcia         True\n",
       "Matheus Martins     False\n",
       "dtype: bool"
      ]
     },
     "execution_count": 29,
     "metadata": {},
     "output_type": "execute_result"
    }
   ],
   "source": [
    "df.duplicated()"
   ]
  },
  {
   "cell_type": "code",
   "execution_count": 35,
   "metadata": {
    "collapsed": false
   },
   "outputs": [
    {
     "data": {
      "text/html": [
       "<div>\n",
       "<table border=\"1\" class=\"dataframe\">\n",
       "  <thead>\n",
       "    <tr style=\"text-align: right;\">\n",
       "      <th></th>\n",
       "      <th>Atividade_por_semana</th>\n",
       "      <th>Time</th>\n",
       "    </tr>\n",
       "    <tr>\n",
       "      <th>nome</th>\n",
       "      <th></th>\n",
       "      <th></th>\n",
       "    </tr>\n",
       "  </thead>\n",
       "  <tbody>\n",
       "    <tr>\n",
       "      <th>Lucas Silva</th>\n",
       "      <td>4</td>\n",
       "      <td>Fluminense</td>\n",
       "    </tr>\n",
       "    <tr>\n",
       "      <th>Roberto Fontes</th>\n",
       "      <td>0</td>\n",
       "      <td>Flamengo</td>\n",
       "    </tr>\n",
       "    <tr>\n",
       "      <th>Matheus Oliveira</th>\n",
       "      <td>2</td>\n",
       "      <td>BR</td>\n",
       "    </tr>\n",
       "    <tr>\n",
       "      <th>Joao Pereira</th>\n",
       "      <td>4</td>\n",
       "      <td>Sao Paulo</td>\n",
       "    </tr>\n",
       "    <tr>\n",
       "      <th>Jose Martins</th>\n",
       "      <td>9</td>\n",
       "      <td>Palmeiras</td>\n",
       "    </tr>\n",
       "    <tr>\n",
       "      <th>Pedro Prado</th>\n",
       "      <td>0</td>\n",
       "      <td>Sao Paulo</td>\n",
       "    </tr>\n",
       "    <tr>\n",
       "      <th>Lucas Silva</th>\n",
       "      <td>1</td>\n",
       "      <td>Corinthians</td>\n",
       "    </tr>\n",
       "    <tr>\n",
       "      <th>Mario Pereira</th>\n",
       "      <td>0</td>\n",
       "      <td>Cruzeiro</td>\n",
       "    </tr>\n",
       "    <tr>\n",
       "      <th>Matheus Souza</th>\n",
       "      <td>6</td>\n",
       "      <td>BR</td>\n",
       "    </tr>\n",
       "    <tr>\n",
       "      <th>Roberto Abreu</th>\n",
       "      <td>0</td>\n",
       "      <td>Vitoria</td>\n",
       "    </tr>\n",
       "    <tr>\n",
       "      <th>Roberto Oliveira</th>\n",
       "      <td>0</td>\n",
       "      <td>Palmeiras</td>\n",
       "    </tr>\n",
       "    <tr>\n",
       "      <th>Jose Abreu</th>\n",
       "      <td>1</td>\n",
       "      <td>Palmeiras</td>\n",
       "    </tr>\n",
       "    <tr>\n",
       "      <th>Roberto Silva</th>\n",
       "      <td>2</td>\n",
       "      <td>Santos</td>\n",
       "    </tr>\n",
       "    <tr>\n",
       "      <th>Jose Souza</th>\n",
       "      <td>0</td>\n",
       "      <td>BR</td>\n",
       "    </tr>\n",
       "    <tr>\n",
       "      <th>Paulo Prado</th>\n",
       "      <td>3</td>\n",
       "      <td>Corinthians</td>\n",
       "    </tr>\n",
       "    <tr>\n",
       "      <th>Mario Fontes</th>\n",
       "      <td>0</td>\n",
       "      <td>Corinthians</td>\n",
       "    </tr>\n",
       "    <tr>\n",
       "      <th>Andre Garcia</th>\n",
       "      <td>3</td>\n",
       "      <td>BR</td>\n",
       "    </tr>\n",
       "    <tr>\n",
       "      <th>Lucas Garcia</th>\n",
       "      <td>2</td>\n",
       "      <td>Sao Paulo</td>\n",
       "    </tr>\n",
       "    <tr>\n",
       "      <th>Matheus Martins</th>\n",
       "      <td>5</td>\n",
       "      <td>Corinthians</td>\n",
       "    </tr>\n",
       "  </tbody>\n",
       "</table>\n",
       "</div>"
      ],
      "text/plain": [
       "                  Atividade_por_semana         Time\n",
       "nome                                               \n",
       "Lucas Silva                          4   Fluminense\n",
       "Roberto Fontes                       0     Flamengo\n",
       "Matheus Oliveira                     2           BR\n",
       "Joao Pereira                         4    Sao Paulo\n",
       "Jose Martins                         9    Palmeiras\n",
       "Pedro Prado                          0    Sao Paulo\n",
       "Lucas Silva                          1  Corinthians\n",
       "Mario Pereira                        0     Cruzeiro\n",
       "Matheus Souza                        6           BR\n",
       "Roberto Abreu                        0      Vitoria\n",
       "Roberto Oliveira                     0    Palmeiras\n",
       "Jose Abreu                           1    Palmeiras\n",
       "Roberto Silva                        2       Santos\n",
       "Jose Souza                           0           BR\n",
       "Paulo Prado                          3  Corinthians\n",
       "Mario Fontes                         0  Corinthians\n",
       "Andre Garcia                         3           BR\n",
       "Lucas Garcia                         2    Sao Paulo\n",
       "Matheus Martins                      5  Corinthians"
      ]
     },
     "execution_count": 35,
     "metadata": {},
     "output_type": "execute_result"
    }
   ],
   "source": [
    "df.drop_duplicates(keep = 'last')"
   ]
  },
  {
   "cell_type": "code",
   "execution_count": 36,
   "metadata": {
    "collapsed": false
   },
   "outputs": [],
   "source": [
    "df = pd.read_csv('alunos.csv')"
   ]
  },
  {
   "cell_type": "code",
   "execution_count": 38,
   "metadata": {
    "collapsed": false
   },
   "outputs": [
    {
     "data": {
      "text/html": [
       "<div>\n",
       "<table border=\"1\" class=\"dataframe\">\n",
       "  <thead>\n",
       "    <tr style=\"text-align: right;\">\n",
       "      <th></th>\n",
       "      <th>Time</th>\n",
       "      <th>Estado</th>\n",
       "    </tr>\n",
       "  </thead>\n",
       "  <tbody>\n",
       "    <tr>\n",
       "      <th>0</th>\n",
       "      <td>Fluminense</td>\n",
       "      <td>RJ</td>\n",
       "    </tr>\n",
       "    <tr>\n",
       "      <th>1</th>\n",
       "      <td>Flamengo</td>\n",
       "      <td>RJ</td>\n",
       "    </tr>\n",
       "    <tr>\n",
       "      <th>2</th>\n",
       "      <td>Sao Paulo</td>\n",
       "      <td>SP</td>\n",
       "    </tr>\n",
       "    <tr>\n",
       "      <th>3</th>\n",
       "      <td>Palmeiras</td>\n",
       "      <td>SP</td>\n",
       "    </tr>\n",
       "    <tr>\n",
       "      <th>4</th>\n",
       "      <td>Corinthians</td>\n",
       "      <td>SP</td>\n",
       "    </tr>\n",
       "    <tr>\n",
       "      <th>5</th>\n",
       "      <td>Cruzeiro</td>\n",
       "      <td>MG</td>\n",
       "    </tr>\n",
       "    <tr>\n",
       "      <th>6</th>\n",
       "      <td>Vitoria</td>\n",
       "      <td>BA</td>\n",
       "    </tr>\n",
       "    <tr>\n",
       "      <th>7</th>\n",
       "      <td>Santos</td>\n",
       "      <td>SP</td>\n",
       "    </tr>\n",
       "  </tbody>\n",
       "</table>\n",
       "</div>"
      ],
      "text/plain": [
       "          Time Estado\n",
       "0   Fluminense     RJ\n",
       "1     Flamengo     RJ\n",
       "2    Sao Paulo     SP\n",
       "3    Palmeiras     SP\n",
       "4  Corinthians     SP\n",
       "5     Cruzeiro     MG\n",
       "6      Vitoria     BA\n",
       "7       Santos     SP"
      ]
     },
     "execution_count": 38,
     "metadata": {},
     "output_type": "execute_result"
    }
   ],
   "source": [
    "df_uf"
   ]
  },
  {
   "cell_type": "code",
   "execution_count": 40,
   "metadata": {
    "collapsed": false
   },
   "outputs": [
    {
     "data": {
      "text/plain": [
       "[('Fluminense', 'RJ'),\n",
       " ('Flamengo', 'RJ'),\n",
       " ('Sao Paulo', 'SP'),\n",
       " ('Palmeiras', 'SP'),\n",
       " ('Corinthians', 'SP'),\n",
       " ('Cruzeiro', 'MG'),\n",
       " ('Vitoria', 'BA'),\n",
       " ('Santos', 'SP')]"
      ]
     },
     "execution_count": 40,
     "metadata": {},
     "output_type": "execute_result"
    }
   ],
   "source": []
  },
  {
   "cell_type": "code",
   "execution_count": 41,
   "metadata": {
    "collapsed": false
   },
   "outputs": [],
   "source": [
    "# map\n",
    "d_uf = { k:v for k, v in zip(df_uf.Time, df_uf.Estado) }"
   ]
  },
  {
   "cell_type": "code",
   "execution_count": 42,
   "metadata": {
    "collapsed": false
   },
   "outputs": [
    {
     "data": {
      "text/plain": [
       "{'Corinthians': 'SP',\n",
       " 'Cruzeiro': 'MG',\n",
       " 'Flamengo': 'RJ',\n",
       " 'Fluminense': 'RJ',\n",
       " 'Palmeiras': 'SP',\n",
       " 'Santos': 'SP',\n",
       " 'Sao Paulo': 'SP',\n",
       " 'Vitoria': 'BA'}"
      ]
     },
     "execution_count": 42,
     "metadata": {},
     "output_type": "execute_result"
    }
   ],
   "source": [
    "d_uf"
   ]
  },
  {
   "cell_type": "code",
   "execution_count": 43,
   "metadata": {
    "collapsed": false
   },
   "outputs": [
    {
     "data": {
      "text/html": [
       "<div>\n",
       "<table border=\"1\" class=\"dataframe\">\n",
       "  <thead>\n",
       "    <tr style=\"text-align: right;\">\n",
       "      <th></th>\n",
       "      <th>Atividade_por_semana</th>\n",
       "      <th>Altura</th>\n",
       "      <th>Peso</th>\n",
       "      <th>Time</th>\n",
       "    </tr>\n",
       "  </thead>\n",
       "  <tbody>\n",
       "    <tr>\n",
       "      <th>0</th>\n",
       "      <td>4</td>\n",
       "      <td>173</td>\n",
       "      <td>85</td>\n",
       "      <td>Fluminense</td>\n",
       "    </tr>\n",
       "    <tr>\n",
       "      <th>1</th>\n",
       "      <td>0</td>\n",
       "      <td>170</td>\n",
       "      <td>70</td>\n",
       "      <td>Flamengo</td>\n",
       "    </tr>\n",
       "    <tr>\n",
       "      <th>2</th>\n",
       "      <td>2</td>\n",
       "      <td>183</td>\n",
       "      <td>85</td>\n",
       "      <td>NaN</td>\n",
       "    </tr>\n",
       "    <tr>\n",
       "      <th>3</th>\n",
       "      <td>4</td>\n",
       "      <td>176</td>\n",
       "      <td>70</td>\n",
       "      <td>Sao Paulo</td>\n",
       "    </tr>\n",
       "    <tr>\n",
       "      <th>4</th>\n",
       "      <td>9</td>\n",
       "      <td>178</td>\n",
       "      <td>73</td>\n",
       "      <td>Palmeiras</td>\n",
       "    </tr>\n",
       "  </tbody>\n",
       "</table>\n",
       "</div>"
      ],
      "text/plain": [
       "   Atividade_por_semana  Altura  Peso        Time\n",
       "0                     4     173    85  Fluminense\n",
       "1                     0     170    70    Flamengo\n",
       "2                     2     183    85         NaN\n",
       "3                     4     176    70   Sao Paulo\n",
       "4                     9     178    73   Palmeiras"
      ]
     },
     "execution_count": 43,
     "metadata": {},
     "output_type": "execute_result"
    }
   ],
   "source": [
    "df.head()"
   ]
  },
  {
   "cell_type": "code",
   "execution_count": 44,
   "metadata": {
    "collapsed": true
   },
   "outputs": [],
   "source": [
    "df['Estado'] = df['Time'].map(d_uf)"
   ]
  },
  {
   "cell_type": "code",
   "execution_count": 45,
   "metadata": {
    "collapsed": false
   },
   "outputs": [
    {
     "data": {
      "text/html": [
       "<div>\n",
       "<table border=\"1\" class=\"dataframe\">\n",
       "  <thead>\n",
       "    <tr style=\"text-align: right;\">\n",
       "      <th></th>\n",
       "      <th>Atividade_por_semana</th>\n",
       "      <th>Altura</th>\n",
       "      <th>Peso</th>\n",
       "      <th>Time</th>\n",
       "      <th>Estado</th>\n",
       "    </tr>\n",
       "  </thead>\n",
       "  <tbody>\n",
       "    <tr>\n",
       "      <th>0</th>\n",
       "      <td>4</td>\n",
       "      <td>173</td>\n",
       "      <td>85</td>\n",
       "      <td>Fluminense</td>\n",
       "      <td>RJ</td>\n",
       "    </tr>\n",
       "    <tr>\n",
       "      <th>1</th>\n",
       "      <td>0</td>\n",
       "      <td>170</td>\n",
       "      <td>70</td>\n",
       "      <td>Flamengo</td>\n",
       "      <td>RJ</td>\n",
       "    </tr>\n",
       "    <tr>\n",
       "      <th>2</th>\n",
       "      <td>2</td>\n",
       "      <td>183</td>\n",
       "      <td>85</td>\n",
       "      <td>NaN</td>\n",
       "      <td>NaN</td>\n",
       "    </tr>\n",
       "    <tr>\n",
       "      <th>3</th>\n",
       "      <td>4</td>\n",
       "      <td>176</td>\n",
       "      <td>70</td>\n",
       "      <td>Sao Paulo</td>\n",
       "      <td>SP</td>\n",
       "    </tr>\n",
       "    <tr>\n",
       "      <th>4</th>\n",
       "      <td>9</td>\n",
       "      <td>178</td>\n",
       "      <td>73</td>\n",
       "      <td>Palmeiras</td>\n",
       "      <td>SP</td>\n",
       "    </tr>\n",
       "  </tbody>\n",
       "</table>\n",
       "</div>"
      ],
      "text/plain": [
       "   Atividade_por_semana  Altura  Peso        Time Estado\n",
       "0                     4     173    85  Fluminense     RJ\n",
       "1                     0     170    70    Flamengo     RJ\n",
       "2                     2     183    85         NaN    NaN\n",
       "3                     4     176    70   Sao Paulo     SP\n",
       "4                     9     178    73   Palmeiras     SP"
      ]
     },
     "execution_count": 45,
     "metadata": {},
     "output_type": "execute_result"
    }
   ],
   "source": [
    "df.head()"
   ]
  },
  {
   "cell_type": "code",
   "execution_count": 47,
   "metadata": {
    "collapsed": true
   },
   "outputs": [],
   "source": [
    "import numpy as np"
   ]
  },
  {
   "cell_type": "code",
   "execution_count": 53,
   "metadata": {
    "collapsed": false
   },
   "outputs": [],
   "source": [
    "# replace\n",
    "df['Time'] = df.Time.replace(np.nan, 'nenhum')"
   ]
  },
  {
   "cell_type": "code",
   "execution_count": 54,
   "metadata": {
    "collapsed": false
   },
   "outputs": [
    {
     "data": {
      "text/html": [
       "<div>\n",
       "<table border=\"1\" class=\"dataframe\">\n",
       "  <thead>\n",
       "    <tr style=\"text-align: right;\">\n",
       "      <th></th>\n",
       "      <th>Atividade_por_semana</th>\n",
       "      <th>Altura</th>\n",
       "      <th>Peso</th>\n",
       "      <th>Time</th>\n",
       "      <th>Estado</th>\n",
       "    </tr>\n",
       "  </thead>\n",
       "  <tbody>\n",
       "    <tr>\n",
       "      <th>0</th>\n",
       "      <td>4</td>\n",
       "      <td>173</td>\n",
       "      <td>85</td>\n",
       "      <td>Fluminense</td>\n",
       "      <td>RJ</td>\n",
       "    </tr>\n",
       "    <tr>\n",
       "      <th>1</th>\n",
       "      <td>0</td>\n",
       "      <td>170</td>\n",
       "      <td>70</td>\n",
       "      <td>Flamengo</td>\n",
       "      <td>RJ</td>\n",
       "    </tr>\n",
       "    <tr>\n",
       "      <th>2</th>\n",
       "      <td>2</td>\n",
       "      <td>183</td>\n",
       "      <td>85</td>\n",
       "      <td>nenhum</td>\n",
       "      <td>NaN</td>\n",
       "    </tr>\n",
       "    <tr>\n",
       "      <th>3</th>\n",
       "      <td>4</td>\n",
       "      <td>176</td>\n",
       "      <td>70</td>\n",
       "      <td>Sao Paulo</td>\n",
       "      <td>SP</td>\n",
       "    </tr>\n",
       "    <tr>\n",
       "      <th>4</th>\n",
       "      <td>9</td>\n",
       "      <td>178</td>\n",
       "      <td>73</td>\n",
       "      <td>Palmeiras</td>\n",
       "      <td>SP</td>\n",
       "    </tr>\n",
       "  </tbody>\n",
       "</table>\n",
       "</div>"
      ],
      "text/plain": [
       "   Atividade_por_semana  Altura  Peso        Time Estado\n",
       "0                     4     173    85  Fluminense     RJ\n",
       "1                     0     170    70    Flamengo     RJ\n",
       "2                     2     183    85      nenhum    NaN\n",
       "3                     4     176    70   Sao Paulo     SP\n",
       "4                     9     178    73   Palmeiras     SP"
      ]
     },
     "execution_count": 54,
     "metadata": {},
     "output_type": "execute_result"
    }
   ],
   "source": [
    "df.head()"
   ]
  },
  {
   "cell_type": "code",
   "execution_count": 55,
   "metadata": {
    "collapsed": false
   },
   "outputs": [
    {
     "data": {
      "text/plain": [
       "Index([u'Atividade_por_semana', u'Altura', u'Peso', u'Time', u'Estado'], dtype='object')"
      ]
     },
     "execution_count": 55,
     "metadata": {},
     "output_type": "execute_result"
    }
   ],
   "source": [
    "df.columns"
   ]
  },
  {
   "cell_type": "code",
   "execution_count": 67,
   "metadata": {
    "collapsed": false
   },
   "outputs": [],
   "source": [
    "df_c = df.copy()"
   ]
  },
  {
   "cell_type": "code",
   "execution_count": 58,
   "metadata": {
    "collapsed": false
   },
   "outputs": [
    {
     "data": {
      "text/html": [
       "<div>\n",
       "<table border=\"1\" class=\"dataframe\">\n",
       "  <thead>\n",
       "    <tr style=\"text-align: right;\">\n",
       "      <th></th>\n",
       "      <th>Atividade_por_semana</th>\n",
       "      <th>Altura</th>\n",
       "      <th>Peso</th>\n",
       "      <th>Time</th>\n",
       "      <th>Estado</th>\n",
       "    </tr>\n",
       "  </thead>\n",
       "  <tbody>\n",
       "    <tr>\n",
       "      <th>0</th>\n",
       "      <td>4</td>\n",
       "      <td>173</td>\n",
       "      <td>85</td>\n",
       "      <td>Fluminense</td>\n",
       "      <td>RJ</td>\n",
       "    </tr>\n",
       "    <tr>\n",
       "      <th>1</th>\n",
       "      <td>0</td>\n",
       "      <td>170</td>\n",
       "      <td>70</td>\n",
       "      <td>Flamengo</td>\n",
       "      <td>RJ</td>\n",
       "    </tr>\n",
       "    <tr>\n",
       "      <th>2</th>\n",
       "      <td>2</td>\n",
       "      <td>183</td>\n",
       "      <td>85</td>\n",
       "      <td>nenhum</td>\n",
       "      <td>NaN</td>\n",
       "    </tr>\n",
       "    <tr>\n",
       "      <th>3</th>\n",
       "      <td>4</td>\n",
       "      <td>176</td>\n",
       "      <td>70</td>\n",
       "      <td>Sao Paulo</td>\n",
       "      <td>SP</td>\n",
       "    </tr>\n",
       "    <tr>\n",
       "      <th>4</th>\n",
       "      <td>9</td>\n",
       "      <td>178</td>\n",
       "      <td>73</td>\n",
       "      <td>Palmeiras</td>\n",
       "      <td>SP</td>\n",
       "    </tr>\n",
       "  </tbody>\n",
       "</table>\n",
       "</div>"
      ],
      "text/plain": [
       "   Atividade_por_semana  Altura  Peso        Time Estado\n",
       "0                     4     173    85  Fluminense     RJ\n",
       "1                     0     170    70    Flamengo     RJ\n",
       "2                     2     183    85      nenhum    NaN\n",
       "3                     4     176    70   Sao Paulo     SP\n",
       "4                     9     178    73   Palmeiras     SP"
      ]
     },
     "execution_count": 58,
     "metadata": {},
     "output_type": "execute_result"
    }
   ],
   "source": [
    "df.head()"
   ]
  },
  {
   "cell_type": "code",
   "execution_count": 71,
   "metadata": {
    "collapsed": false
   },
   "outputs": [
    {
     "data": {
      "text/plain": [
       "Index([u'Atividade_por_semana', u'Altura', u'Peso', u'Time', u'Estado'], dtype='object')"
      ]
     },
     "execution_count": 71,
     "metadata": {},
     "output_type": "execute_result"
    }
   ],
   "source": [
    "df.columns"
   ]
  },
  {
   "cell_type": "code",
   "execution_count": 76,
   "metadata": {
    "collapsed": false
   },
   "outputs": [],
   "source": [
    "df.rename(columns = {'Altura': 'height'}, inplace=True)"
   ]
  },
  {
   "cell_type": "code",
   "execution_count": 77,
   "metadata": {
    "collapsed": false
   },
   "outputs": [
    {
     "data": {
      "text/html": [
       "<div>\n",
       "<table border=\"1\" class=\"dataframe\">\n",
       "  <thead>\n",
       "    <tr style=\"text-align: right;\">\n",
       "      <th></th>\n",
       "      <th>Atividade_por_semana</th>\n",
       "      <th>height</th>\n",
       "      <th>Peso</th>\n",
       "      <th>Time</th>\n",
       "      <th>Estado</th>\n",
       "    </tr>\n",
       "  </thead>\n",
       "  <tbody>\n",
       "    <tr>\n",
       "      <th>0</th>\n",
       "      <td>4</td>\n",
       "      <td>173</td>\n",
       "      <td>85</td>\n",
       "      <td>Fluminense</td>\n",
       "      <td>RJ</td>\n",
       "    </tr>\n",
       "    <tr>\n",
       "      <th>1</th>\n",
       "      <td>0</td>\n",
       "      <td>170</td>\n",
       "      <td>70</td>\n",
       "      <td>Flamengo</td>\n",
       "      <td>RJ</td>\n",
       "    </tr>\n",
       "    <tr>\n",
       "      <th>2</th>\n",
       "      <td>2</td>\n",
       "      <td>183</td>\n",
       "      <td>85</td>\n",
       "      <td>nenhum</td>\n",
       "      <td>NaN</td>\n",
       "    </tr>\n",
       "    <tr>\n",
       "      <th>3</th>\n",
       "      <td>4</td>\n",
       "      <td>176</td>\n",
       "      <td>70</td>\n",
       "      <td>Sao Paulo</td>\n",
       "      <td>SP</td>\n",
       "    </tr>\n",
       "    <tr>\n",
       "      <th>4</th>\n",
       "      <td>9</td>\n",
       "      <td>178</td>\n",
       "      <td>73</td>\n",
       "      <td>Palmeiras</td>\n",
       "      <td>SP</td>\n",
       "    </tr>\n",
       "  </tbody>\n",
       "</table>\n",
       "</div>"
      ],
      "text/plain": [
       "   Atividade_por_semana  height  Peso        Time Estado\n",
       "0                     4     173    85  Fluminense     RJ\n",
       "1                     0     170    70    Flamengo     RJ\n",
       "2                     2     183    85      nenhum    NaN\n",
       "3                     4     176    70   Sao Paulo     SP\n",
       "4                     9     178    73   Palmeiras     SP"
      ]
     },
     "execution_count": 77,
     "metadata": {},
     "output_type": "execute_result"
    }
   ],
   "source": [
    "df.head()"
   ]
  },
  {
   "cell_type": "code",
   "execution_count": 81,
   "metadata": {
    "collapsed": false
   },
   "outputs": [],
   "source": [
    "df.columns = ['activity', 'height', 'weight', 'Squad', 'State']"
   ]
  },
  {
   "cell_type": "code",
   "execution_count": 83,
   "metadata": {
    "collapsed": false
   },
   "outputs": [
    {
     "data": {
      "text/plain": [
       "pandas.indexes.range.RangeIndex"
      ]
     },
     "execution_count": 83,
     "metadata": {},
     "output_type": "execute_result"
    }
   ],
   "source": [
    "type(df.index)"
   ]
  },
  {
   "cell_type": "code",
   "execution_count": null,
   "metadata": {
    "collapsed": true
   },
   "outputs": [],
   "source": [
    "# binning"
   ]
  },
  {
   "cell_type": "code",
   "execution_count": 84,
   "metadata": {
    "collapsed": false
   },
   "outputs": [
    {
     "data": {
      "text/html": [
       "<div>\n",
       "<table border=\"1\" class=\"dataframe\">\n",
       "  <thead>\n",
       "    <tr style=\"text-align: right;\">\n",
       "      <th></th>\n",
       "      <th>activity</th>\n",
       "      <th>height</th>\n",
       "      <th>weight</th>\n",
       "      <th>Squad</th>\n",
       "      <th>State</th>\n",
       "    </tr>\n",
       "  </thead>\n",
       "  <tbody>\n",
       "    <tr>\n",
       "      <th>0</th>\n",
       "      <td>4</td>\n",
       "      <td>173</td>\n",
       "      <td>85</td>\n",
       "      <td>Fluminense</td>\n",
       "      <td>RJ</td>\n",
       "    </tr>\n",
       "    <tr>\n",
       "      <th>1</th>\n",
       "      <td>0</td>\n",
       "      <td>170</td>\n",
       "      <td>70</td>\n",
       "      <td>Flamengo</td>\n",
       "      <td>RJ</td>\n",
       "    </tr>\n",
       "    <tr>\n",
       "      <th>2</th>\n",
       "      <td>2</td>\n",
       "      <td>183</td>\n",
       "      <td>85</td>\n",
       "      <td>nenhum</td>\n",
       "      <td>NaN</td>\n",
       "    </tr>\n",
       "    <tr>\n",
       "      <th>3</th>\n",
       "      <td>4</td>\n",
       "      <td>176</td>\n",
       "      <td>70</td>\n",
       "      <td>Sao Paulo</td>\n",
       "      <td>SP</td>\n",
       "    </tr>\n",
       "    <tr>\n",
       "      <th>4</th>\n",
       "      <td>9</td>\n",
       "      <td>178</td>\n",
       "      <td>73</td>\n",
       "      <td>Palmeiras</td>\n",
       "      <td>SP</td>\n",
       "    </tr>\n",
       "  </tbody>\n",
       "</table>\n",
       "</div>"
      ],
      "text/plain": [
       "   activity  height  weight       Squad State\n",
       "0         4     173      85  Fluminense    RJ\n",
       "1         0     170      70    Flamengo    RJ\n",
       "2         2     183      85      nenhum   NaN\n",
       "3         4     176      70   Sao Paulo    SP\n",
       "4         9     178      73   Palmeiras    SP"
      ]
     },
     "execution_count": 84,
     "metadata": {},
     "output_type": "execute_result"
    }
   ],
   "source": [
    "df.head()"
   ]
  },
  {
   "cell_type": "code",
   "execution_count": 85,
   "metadata": {
    "collapsed": true
   },
   "outputs": [],
   "source": [
    "df['BMI'] = df.weight/(df.height/100) ** 2"
   ]
  },
  {
   "cell_type": "code",
   "execution_count": 86,
   "metadata": {
    "collapsed": false
   },
   "outputs": [
    {
     "data": {
      "text/html": [
       "<div>\n",
       "<table border=\"1\" class=\"dataframe\">\n",
       "  <thead>\n",
       "    <tr style=\"text-align: right;\">\n",
       "      <th></th>\n",
       "      <th>activity</th>\n",
       "      <th>height</th>\n",
       "      <th>weight</th>\n",
       "      <th>Squad</th>\n",
       "      <th>State</th>\n",
       "      <th>BMI</th>\n",
       "    </tr>\n",
       "  </thead>\n",
       "  <tbody>\n",
       "    <tr>\n",
       "      <th>0</th>\n",
       "      <td>4</td>\n",
       "      <td>173</td>\n",
       "      <td>85</td>\n",
       "      <td>Fluminense</td>\n",
       "      <td>RJ</td>\n",
       "      <td>28.400548</td>\n",
       "    </tr>\n",
       "    <tr>\n",
       "      <th>1</th>\n",
       "      <td>0</td>\n",
       "      <td>170</td>\n",
       "      <td>70</td>\n",
       "      <td>Flamengo</td>\n",
       "      <td>RJ</td>\n",
       "      <td>24.221453</td>\n",
       "    </tr>\n",
       "    <tr>\n",
       "      <th>2</th>\n",
       "      <td>2</td>\n",
       "      <td>183</td>\n",
       "      <td>85</td>\n",
       "      <td>nenhum</td>\n",
       "      <td>NaN</td>\n",
       "      <td>25.381469</td>\n",
       "    </tr>\n",
       "    <tr>\n",
       "      <th>3</th>\n",
       "      <td>4</td>\n",
       "      <td>176</td>\n",
       "      <td>70</td>\n",
       "      <td>Sao Paulo</td>\n",
       "      <td>SP</td>\n",
       "      <td>22.598140</td>\n",
       "    </tr>\n",
       "    <tr>\n",
       "      <th>4</th>\n",
       "      <td>9</td>\n",
       "      <td>178</td>\n",
       "      <td>73</td>\n",
       "      <td>Palmeiras</td>\n",
       "      <td>SP</td>\n",
       "      <td>23.040020</td>\n",
       "    </tr>\n",
       "  </tbody>\n",
       "</table>\n",
       "</div>"
      ],
      "text/plain": [
       "   activity  height  weight       Squad State        BMI\n",
       "0         4     173      85  Fluminense    RJ  28.400548\n",
       "1         0     170      70    Flamengo    RJ  24.221453\n",
       "2         2     183      85      nenhum   NaN  25.381469\n",
       "3         4     176      70   Sao Paulo    SP  22.598140\n",
       "4         9     178      73   Palmeiras    SP  23.040020"
      ]
     },
     "execution_count": 86,
     "metadata": {},
     "output_type": "execute_result"
    }
   ],
   "source": [
    "df.head()"
   ]
  },
  {
   "cell_type": "code",
   "execution_count": 89,
   "metadata": {
    "collapsed": false
   },
   "outputs": [
    {
     "data": {
      "text/html": [
       "<img src=\"https://viveresano.files.wordpress.com/2010/07/imc.jpg\"/>"
      ],
      "text/plain": [
       "<IPython.core.display.Image object>"
      ]
     },
     "execution_count": 89,
     "metadata": {},
     "output_type": "execute_result"
    }
   ],
   "source": [
    "from IPython.display import Image\n",
    "Image(url='https://viveresano.files.wordpress.com/2010/07/imc.jpg')"
   ]
  },
  {
   "cell_type": "code",
   "execution_count": 99,
   "metadata": {
    "collapsed": false
   },
   "outputs": [],
   "source": [
    "df['graus_obesidade'] = pd.cut(df.BMI, [0,18.5, 25, 30, 35, 40, np.inf],\n",
    "                               labels = ['baixo', 'normal', 'pre-obeso', 'grau I',\n",
    "                                         'grau II', 'grau III'])"
   ]
  },
  {
   "cell_type": "code",
   "execution_count": 100,
   "metadata": {
    "collapsed": false
   },
   "outputs": [
    {
     "data": {
      "text/html": [
       "<div>\n",
       "<table border=\"1\" class=\"dataframe\">\n",
       "  <thead>\n",
       "    <tr style=\"text-align: right;\">\n",
       "      <th></th>\n",
       "      <th>activity</th>\n",
       "      <th>height</th>\n",
       "      <th>weight</th>\n",
       "      <th>Squad</th>\n",
       "      <th>State</th>\n",
       "      <th>BMI</th>\n",
       "      <th>graus_obesidade</th>\n",
       "    </tr>\n",
       "  </thead>\n",
       "  <tbody>\n",
       "    <tr>\n",
       "      <th>0</th>\n",
       "      <td>4</td>\n",
       "      <td>173</td>\n",
       "      <td>85</td>\n",
       "      <td>Fluminense</td>\n",
       "      <td>RJ</td>\n",
       "      <td>28.400548</td>\n",
       "      <td>pre-obeso</td>\n",
       "    </tr>\n",
       "    <tr>\n",
       "      <th>1</th>\n",
       "      <td>0</td>\n",
       "      <td>170</td>\n",
       "      <td>70</td>\n",
       "      <td>Flamengo</td>\n",
       "      <td>RJ</td>\n",
       "      <td>24.221453</td>\n",
       "      <td>normal</td>\n",
       "    </tr>\n",
       "    <tr>\n",
       "      <th>2</th>\n",
       "      <td>2</td>\n",
       "      <td>183</td>\n",
       "      <td>85</td>\n",
       "      <td>nenhum</td>\n",
       "      <td>NaN</td>\n",
       "      <td>25.381469</td>\n",
       "      <td>pre-obeso</td>\n",
       "    </tr>\n",
       "    <tr>\n",
       "      <th>3</th>\n",
       "      <td>4</td>\n",
       "      <td>176</td>\n",
       "      <td>70</td>\n",
       "      <td>Sao Paulo</td>\n",
       "      <td>SP</td>\n",
       "      <td>22.598140</td>\n",
       "      <td>normal</td>\n",
       "    </tr>\n",
       "    <tr>\n",
       "      <th>4</th>\n",
       "      <td>9</td>\n",
       "      <td>178</td>\n",
       "      <td>73</td>\n",
       "      <td>Palmeiras</td>\n",
       "      <td>SP</td>\n",
       "      <td>23.040020</td>\n",
       "      <td>normal</td>\n",
       "    </tr>\n",
       "  </tbody>\n",
       "</table>\n",
       "</div>"
      ],
      "text/plain": [
       "   activity  height  weight       Squad State        BMI graus_obesidade\n",
       "0         4     173      85  Fluminense    RJ  28.400548       pre-obeso\n",
       "1         0     170      70    Flamengo    RJ  24.221453          normal\n",
       "2         2     183      85      nenhum   NaN  25.381469       pre-obeso\n",
       "3         4     176      70   Sao Paulo    SP  22.598140          normal\n",
       "4         9     178      73   Palmeiras    SP  23.040020          normal"
      ]
     },
     "execution_count": 100,
     "metadata": {},
     "output_type": "execute_result"
    }
   ],
   "source": [
    "df.head()"
   ]
  },
  {
   "cell_type": "code",
   "execution_count": 102,
   "metadata": {
    "collapsed": false
   },
   "outputs": [
    {
     "data": {
      "text/plain": [
       "0     pre-obeso\n",
       "1        normal\n",
       "2     pre-obeso\n",
       "3        normal\n",
       "4        normal\n",
       "5     pre-obeso\n",
       "6        normal\n",
       "7     pre-obeso\n",
       "8        normal\n",
       "9        normal\n",
       "10       normal\n",
       "11    pre-obeso\n",
       "12       normal\n",
       "13       normal\n",
       "14    pre-obeso\n",
       "15    pre-obeso\n",
       "16    pre-obeso\n",
       "17       normal\n",
       "18    pre-obeso\n",
       "19       grau I\n",
       "20       grau I\n",
       "21    pre-obeso\n",
       "22    pre-obeso\n",
       "23       normal\n",
       "Name: graus_obesidade, dtype: category\n",
       "Categories (6, object): [baixo < normal < pre-obeso < grau I < grau II < grau III]"
      ]
     },
     "execution_count": 102,
     "metadata": {},
     "output_type": "execute_result"
    }
   ],
   "source": [
    "df.graus_obesidade"
   ]
  },
  {
   "cell_type": "code",
   "execution_count": 107,
   "metadata": {
    "collapsed": false
   },
   "outputs": [
    {
     "data": {
      "text/html": [
       "<div>\n",
       "<table border=\"1\" class=\"dataframe\">\n",
       "  <thead>\n",
       "    <tr style=\"text-align: right;\">\n",
       "      <th></th>\n",
       "      <th>activity</th>\n",
       "      <th>height</th>\n",
       "      <th>weight</th>\n",
       "      <th>Squad</th>\n",
       "      <th>State</th>\n",
       "      <th>BMI</th>\n",
       "      <th>graus_obesidade</th>\n",
       "    </tr>\n",
       "  </thead>\n",
       "  <tbody>\n",
       "    <tr>\n",
       "      <th>0</th>\n",
       "      <td>4</td>\n",
       "      <td>173</td>\n",
       "      <td>85</td>\n",
       "      <td>Fluminense</td>\n",
       "      <td>RJ</td>\n",
       "      <td>28.400548</td>\n",
       "      <td>pre-obeso</td>\n",
       "    </tr>\n",
       "    <tr>\n",
       "      <th>1</th>\n",
       "      <td>0</td>\n",
       "      <td>170</td>\n",
       "      <td>70</td>\n",
       "      <td>Flamengo</td>\n",
       "      <td>RJ</td>\n",
       "      <td>24.221453</td>\n",
       "      <td>normal</td>\n",
       "    </tr>\n",
       "    <tr>\n",
       "      <th>2</th>\n",
       "      <td>2</td>\n",
       "      <td>183</td>\n",
       "      <td>85</td>\n",
       "      <td>nenhum</td>\n",
       "      <td>NaN</td>\n",
       "      <td>25.381469</td>\n",
       "      <td>pre-obeso</td>\n",
       "    </tr>\n",
       "    <tr>\n",
       "      <th>3</th>\n",
       "      <td>4</td>\n",
       "      <td>176</td>\n",
       "      <td>70</td>\n",
       "      <td>Sao Paulo</td>\n",
       "      <td>SP</td>\n",
       "      <td>22.598140</td>\n",
       "      <td>normal</td>\n",
       "    </tr>\n",
       "    <tr>\n",
       "      <th>4</th>\n",
       "      <td>9</td>\n",
       "      <td>178</td>\n",
       "      <td>73</td>\n",
       "      <td>Palmeiras</td>\n",
       "      <td>SP</td>\n",
       "      <td>23.040020</td>\n",
       "      <td>normal</td>\n",
       "    </tr>\n",
       "    <tr>\n",
       "      <th>5</th>\n",
       "      <td>0</td>\n",
       "      <td>180</td>\n",
       "      <td>90</td>\n",
       "      <td>Sao Paulo</td>\n",
       "      <td>SP</td>\n",
       "      <td>27.777778</td>\n",
       "      <td>pre-obeso</td>\n",
       "    </tr>\n",
       "    <tr>\n",
       "      <th>6</th>\n",
       "      <td>0</td>\n",
       "      <td>183</td>\n",
       "      <td>65</td>\n",
       "      <td>Corinthians</td>\n",
       "      <td>SP</td>\n",
       "      <td>19.409358</td>\n",
       "      <td>normal</td>\n",
       "    </tr>\n",
       "    <tr>\n",
       "      <th>7</th>\n",
       "      <td>0</td>\n",
       "      <td>186</td>\n",
       "      <td>97</td>\n",
       "      <td>Corinthians</td>\n",
       "      <td>SP</td>\n",
       "      <td>28.037923</td>\n",
       "      <td>pre-obeso</td>\n",
       "    </tr>\n",
       "    <tr>\n",
       "      <th>8</th>\n",
       "      <td>1</td>\n",
       "      <td>165</td>\n",
       "      <td>65</td>\n",
       "      <td>Corinthians</td>\n",
       "      <td>SP</td>\n",
       "      <td>23.875115</td>\n",
       "      <td>normal</td>\n",
       "    </tr>\n",
       "    <tr>\n",
       "      <th>9</th>\n",
       "      <td>0</td>\n",
       "      <td>160</td>\n",
       "      <td>55</td>\n",
       "      <td>Cruzeiro</td>\n",
       "      <td>MG</td>\n",
       "      <td>21.484375</td>\n",
       "      <td>normal</td>\n",
       "    </tr>\n",
       "    <tr>\n",
       "      <th>10</th>\n",
       "      <td>6</td>\n",
       "      <td>175</td>\n",
       "      <td>63</td>\n",
       "      <td>nenhum</td>\n",
       "      <td>NaN</td>\n",
       "      <td>20.571429</td>\n",
       "      <td>normal</td>\n",
       "    </tr>\n",
       "    <tr>\n",
       "      <th>11</th>\n",
       "      <td>0</td>\n",
       "      <td>167</td>\n",
       "      <td>70</td>\n",
       "      <td>Vitoria</td>\n",
       "      <td>BA</td>\n",
       "      <td>25.099502</td>\n",
       "      <td>pre-obeso</td>\n",
       "    </tr>\n",
       "    <tr>\n",
       "      <th>12</th>\n",
       "      <td>0</td>\n",
       "      <td>183</td>\n",
       "      <td>83</td>\n",
       "      <td>Palmeiras</td>\n",
       "      <td>SP</td>\n",
       "      <td>24.784258</td>\n",
       "      <td>normal</td>\n",
       "    </tr>\n",
       "    <tr>\n",
       "      <th>13</th>\n",
       "      <td>1</td>\n",
       "      <td>190</td>\n",
       "      <td>85</td>\n",
       "      <td>Palmeiras</td>\n",
       "      <td>SP</td>\n",
       "      <td>23.545706</td>\n",
       "      <td>normal</td>\n",
       "    </tr>\n",
       "    <tr>\n",
       "      <th>14</th>\n",
       "      <td>0</td>\n",
       "      <td>174</td>\n",
       "      <td>80</td>\n",
       "      <td>Corinthians</td>\n",
       "      <td>SP</td>\n",
       "      <td>26.423570</td>\n",
       "      <td>pre-obeso</td>\n",
       "    </tr>\n",
       "    <tr>\n",
       "      <th>15</th>\n",
       "      <td>2</td>\n",
       "      <td>183</td>\n",
       "      <td>85</td>\n",
       "      <td>Sao Paulo</td>\n",
       "      <td>SP</td>\n",
       "      <td>25.381469</td>\n",
       "      <td>pre-obeso</td>\n",
       "    </tr>\n",
       "    <tr>\n",
       "      <th>16</th>\n",
       "      <td>2</td>\n",
       "      <td>162</td>\n",
       "      <td>67</td>\n",
       "      <td>Santos</td>\n",
       "      <td>SP</td>\n",
       "      <td>25.529645</td>\n",
       "      <td>pre-obeso</td>\n",
       "    </tr>\n",
       "    <tr>\n",
       "      <th>17</th>\n",
       "      <td>0</td>\n",
       "      <td>186</td>\n",
       "      <td>86</td>\n",
       "      <td>nenhum</td>\n",
       "      <td>NaN</td>\n",
       "      <td>24.858365</td>\n",
       "      <td>normal</td>\n",
       "    </tr>\n",
       "    <tr>\n",
       "      <th>18</th>\n",
       "      <td>3</td>\n",
       "      <td>174</td>\n",
       "      <td>83</td>\n",
       "      <td>Corinthians</td>\n",
       "      <td>SP</td>\n",
       "      <td>27.414454</td>\n",
       "      <td>pre-obeso</td>\n",
       "    </tr>\n",
       "    <tr>\n",
       "      <th>21</th>\n",
       "      <td>3</td>\n",
       "      <td>180</td>\n",
       "      <td>85</td>\n",
       "      <td>nenhum</td>\n",
       "      <td>NaN</td>\n",
       "      <td>26.234568</td>\n",
       "      <td>pre-obeso</td>\n",
       "    </tr>\n",
       "    <tr>\n",
       "      <th>22</th>\n",
       "      <td>2</td>\n",
       "      <td>178</td>\n",
       "      <td>95</td>\n",
       "      <td>Sao Paulo</td>\n",
       "      <td>SP</td>\n",
       "      <td>29.983588</td>\n",
       "      <td>pre-obeso</td>\n",
       "    </tr>\n",
       "    <tr>\n",
       "      <th>23</th>\n",
       "      <td>5</td>\n",
       "      <td>182</td>\n",
       "      <td>74</td>\n",
       "      <td>Corinthians</td>\n",
       "      <td>SP</td>\n",
       "      <td>22.340297</td>\n",
       "      <td>normal</td>\n",
       "    </tr>\n",
       "  </tbody>\n",
       "</table>\n",
       "</div>"
      ],
      "text/plain": [
       "    activity  height  weight        Squad State        BMI graus_obesidade\n",
       "0          4     173      85   Fluminense    RJ  28.400548       pre-obeso\n",
       "1          0     170      70     Flamengo    RJ  24.221453          normal\n",
       "2          2     183      85       nenhum   NaN  25.381469       pre-obeso\n",
       "3          4     176      70    Sao Paulo    SP  22.598140          normal\n",
       "4          9     178      73    Palmeiras    SP  23.040020          normal\n",
       "5          0     180      90    Sao Paulo    SP  27.777778       pre-obeso\n",
       "6          0     183      65  Corinthians    SP  19.409358          normal\n",
       "7          0     186      97  Corinthians    SP  28.037923       pre-obeso\n",
       "8          1     165      65  Corinthians    SP  23.875115          normal\n",
       "9          0     160      55     Cruzeiro    MG  21.484375          normal\n",
       "10         6     175      63       nenhum   NaN  20.571429          normal\n",
       "11         0     167      70      Vitoria    BA  25.099502       pre-obeso\n",
       "12         0     183      83    Palmeiras    SP  24.784258          normal\n",
       "13         1     190      85    Palmeiras    SP  23.545706          normal\n",
       "14         0     174      80  Corinthians    SP  26.423570       pre-obeso\n",
       "15         2     183      85    Sao Paulo    SP  25.381469       pre-obeso\n",
       "16         2     162      67       Santos    SP  25.529645       pre-obeso\n",
       "17         0     186      86       nenhum   NaN  24.858365          normal\n",
       "18         3     174      83  Corinthians    SP  27.414454       pre-obeso\n",
       "21         3     180      85       nenhum   NaN  26.234568       pre-obeso\n",
       "22         2     178      95    Sao Paulo    SP  29.983588       pre-obeso\n",
       "23         5     182      74  Corinthians    SP  22.340297          normal"
      ]
     },
     "execution_count": 107,
     "metadata": {},
     "output_type": "execute_result"
    }
   ],
   "source": [
    "df[df.graus_obesidade <= 'pre-obeso']"
   ]
  },
  {
   "cell_type": "code",
   "execution_count": 108,
   "metadata": {
    "collapsed": false
   },
   "outputs": [
    {
     "data": {
      "text/html": [
       "<div>\n",
       "<table border=\"1\" class=\"dataframe\">\n",
       "  <thead>\n",
       "    <tr style=\"text-align: right;\">\n",
       "      <th></th>\n",
       "      <th>activity</th>\n",
       "      <th>height</th>\n",
       "      <th>weight</th>\n",
       "      <th>Squad</th>\n",
       "      <th>State</th>\n",
       "      <th>BMI</th>\n",
       "      <th>graus_obesidade</th>\n",
       "    </tr>\n",
       "  </thead>\n",
       "  <tbody>\n",
       "    <tr>\n",
       "      <th>19</th>\n",
       "      <td>0</td>\n",
       "      <td>172</td>\n",
       "      <td>92</td>\n",
       "      <td>Corinthians</td>\n",
       "      <td>SP</td>\n",
       "      <td>31.097891</td>\n",
       "      <td>grau I</td>\n",
       "    </tr>\n",
       "    <tr>\n",
       "      <th>20</th>\n",
       "      <td>3</td>\n",
       "      <td>190</td>\n",
       "      <td>115</td>\n",
       "      <td>nenhum</td>\n",
       "      <td>NaN</td>\n",
       "      <td>31.855956</td>\n",
       "      <td>grau I</td>\n",
       "    </tr>\n",
       "    <tr>\n",
       "      <th>21</th>\n",
       "      <td>3</td>\n",
       "      <td>180</td>\n",
       "      <td>85</td>\n",
       "      <td>nenhum</td>\n",
       "      <td>NaN</td>\n",
       "      <td>26.234568</td>\n",
       "      <td>pre-obeso</td>\n",
       "    </tr>\n",
       "    <tr>\n",
       "      <th>22</th>\n",
       "      <td>2</td>\n",
       "      <td>178</td>\n",
       "      <td>95</td>\n",
       "      <td>Sao Paulo</td>\n",
       "      <td>SP</td>\n",
       "      <td>29.983588</td>\n",
       "      <td>pre-obeso</td>\n",
       "    </tr>\n",
       "    <tr>\n",
       "      <th>23</th>\n",
       "      <td>5</td>\n",
       "      <td>182</td>\n",
       "      <td>74</td>\n",
       "      <td>Corinthians</td>\n",
       "      <td>SP</td>\n",
       "      <td>22.340297</td>\n",
       "      <td>normal</td>\n",
       "    </tr>\n",
       "  </tbody>\n",
       "</table>\n",
       "</div>"
      ],
      "text/plain": [
       "    activity  height  weight        Squad State        BMI graus_obesidade\n",
       "19         0     172      92  Corinthians    SP  31.097891          grau I\n",
       "20         3     190     115       nenhum   NaN  31.855956          grau I\n",
       "21         3     180      85       nenhum   NaN  26.234568       pre-obeso\n",
       "22         2     178      95    Sao Paulo    SP  29.983588       pre-obeso\n",
       "23         5     182      74  Corinthians    SP  22.340297          normal"
      ]
     },
     "execution_count": 108,
     "metadata": {},
     "output_type": "execute_result"
    }
   ],
   "source": [
    "df.tail()"
   ]
  },
  {
   "cell_type": "code",
   "execution_count": 109,
   "metadata": {
    "collapsed": true
   },
   "outputs": [],
   "source": [
    "df.drop(['BMI', 'graus_obesidade'], axis =1, inplace=True)"
   ]
  },
  {
   "cell_type": "code",
   "execution_count": 111,
   "metadata": {
    "collapsed": false
   },
   "outputs": [
    {
     "data": {
      "text/html": [
       "<div>\n",
       "<table border=\"1\" class=\"dataframe\">\n",
       "  <thead>\n",
       "    <tr style=\"text-align: right;\">\n",
       "      <th></th>\n",
       "      <th>activity</th>\n",
       "      <th>height</th>\n",
       "      <th>weight</th>\n",
       "      <th>Squad</th>\n",
       "      <th>State</th>\n",
       "    </tr>\n",
       "  </thead>\n",
       "  <tbody>\n",
       "    <tr>\n",
       "      <th>19</th>\n",
       "      <td>0</td>\n",
       "      <td>172</td>\n",
       "      <td>92</td>\n",
       "      <td>Corinthians</td>\n",
       "      <td>SP</td>\n",
       "    </tr>\n",
       "    <tr>\n",
       "      <th>20</th>\n",
       "      <td>3</td>\n",
       "      <td>190</td>\n",
       "      <td>115</td>\n",
       "      <td>nenhum</td>\n",
       "      <td>NaN</td>\n",
       "    </tr>\n",
       "    <tr>\n",
       "      <th>21</th>\n",
       "      <td>3</td>\n",
       "      <td>180</td>\n",
       "      <td>85</td>\n",
       "      <td>nenhum</td>\n",
       "      <td>NaN</td>\n",
       "    </tr>\n",
       "    <tr>\n",
       "      <th>22</th>\n",
       "      <td>2</td>\n",
       "      <td>178</td>\n",
       "      <td>95</td>\n",
       "      <td>Sao Paulo</td>\n",
       "      <td>SP</td>\n",
       "    </tr>\n",
       "    <tr>\n",
       "      <th>23</th>\n",
       "      <td>5</td>\n",
       "      <td>182</td>\n",
       "      <td>74</td>\n",
       "      <td>Corinthians</td>\n",
       "      <td>SP</td>\n",
       "    </tr>\n",
       "  </tbody>\n",
       "</table>\n",
       "</div>"
      ],
      "text/plain": [
       "    activity  height  weight        Squad State\n",
       "19         0     172      92  Corinthians    SP\n",
       "20         3     190     115       nenhum   NaN\n",
       "21         3     180      85       nenhum   NaN\n",
       "22         2     178      95    Sao Paulo    SP\n",
       "23         5     182      74  Corinthians    SP"
      ]
     },
     "execution_count": 111,
     "metadata": {},
     "output_type": "execute_result"
    }
   ],
   "source": [
    "df.tail()"
   ]
  },
  {
   "cell_type": "code",
   "execution_count": null,
   "metadata": {
    "collapsed": true
   },
   "outputs": [],
   "source": [
    "# outliers"
   ]
  },
  {
   "cell_type": "code",
   "execution_count": 120,
   "metadata": {
    "collapsed": false
   },
   "outputs": [
    {
     "name": "stderr",
     "output_type": "stream",
     "text": [
      "/Library/Python/2.7/site-packages/ipykernel/__main__.py:1: SettingWithCopyWarning: \n",
      "A value is trying to be set on a copy of a slice from a DataFrame\n",
      "\n",
      "See the caveats in the documentation: http://pandas.pydata.org/pandas-docs/stable/indexing.html#indexing-view-versus-copy\n",
      "  if __name__ == '__main__':\n"
     ]
    }
   ],
   "source": [
    "df.ix[24] = [4, 150, 265, 'Vasco', 'RJ']"
   ]
  },
  {
   "cell_type": "code",
   "execution_count": 121,
   "metadata": {
    "collapsed": false
   },
   "outputs": [
    {
     "data": {
      "text/html": [
       "<div>\n",
       "<table border=\"1\" class=\"dataframe\">\n",
       "  <thead>\n",
       "    <tr style=\"text-align: right;\">\n",
       "      <th></th>\n",
       "      <th>activity</th>\n",
       "      <th>height</th>\n",
       "      <th>weight</th>\n",
       "      <th>Squad</th>\n",
       "      <th>State</th>\n",
       "    </tr>\n",
       "  </thead>\n",
       "  <tbody>\n",
       "    <tr>\n",
       "      <th>19</th>\n",
       "      <td>0</td>\n",
       "      <td>172</td>\n",
       "      <td>92</td>\n",
       "      <td>Corinthians</td>\n",
       "      <td>SP</td>\n",
       "    </tr>\n",
       "    <tr>\n",
       "      <th>21</th>\n",
       "      <td>3</td>\n",
       "      <td>180</td>\n",
       "      <td>85</td>\n",
       "      <td>nenhum</td>\n",
       "      <td>NaN</td>\n",
       "    </tr>\n",
       "    <tr>\n",
       "      <th>22</th>\n",
       "      <td>2</td>\n",
       "      <td>178</td>\n",
       "      <td>95</td>\n",
       "      <td>Sao Paulo</td>\n",
       "      <td>SP</td>\n",
       "    </tr>\n",
       "    <tr>\n",
       "      <th>23</th>\n",
       "      <td>5</td>\n",
       "      <td>182</td>\n",
       "      <td>74</td>\n",
       "      <td>Corinthians</td>\n",
       "      <td>SP</td>\n",
       "    </tr>\n",
       "    <tr>\n",
       "      <th>24</th>\n",
       "      <td>4</td>\n",
       "      <td>150</td>\n",
       "      <td>265</td>\n",
       "      <td>Vasco</td>\n",
       "      <td>RJ</td>\n",
       "    </tr>\n",
       "  </tbody>\n",
       "</table>\n",
       "</div>"
      ],
      "text/plain": [
       "    activity  height  weight        Squad State\n",
       "19         0     172      92  Corinthians    SP\n",
       "21         3     180      85       nenhum   NaN\n",
       "22         2     178      95    Sao Paulo    SP\n",
       "23         5     182      74  Corinthians    SP\n",
       "24         4     150     265        Vasco    RJ"
      ]
     },
     "execution_count": 121,
     "metadata": {},
     "output_type": "execute_result"
    }
   ],
   "source": [
    "df.tail()"
   ]
  },
  {
   "cell_type": "code",
   "execution_count": 123,
   "metadata": {
    "collapsed": false
   },
   "outputs": [
    {
     "data": {
      "text/html": [
       "<div>\n",
       "<table border=\"1\" class=\"dataframe\">\n",
       "  <thead>\n",
       "    <tr style=\"text-align: right;\">\n",
       "      <th></th>\n",
       "      <th>activity</th>\n",
       "      <th>height</th>\n",
       "      <th>weight</th>\n",
       "    </tr>\n",
       "  </thead>\n",
       "  <tbody>\n",
       "    <tr>\n",
       "      <th>count</th>\n",
       "      <td>24.00000</td>\n",
       "      <td>24.000000</td>\n",
       "      <td>24.000000</td>\n",
       "    </tr>\n",
       "    <tr>\n",
       "      <th>mean</th>\n",
       "      <td>2.00000</td>\n",
       "      <td>175.416667</td>\n",
       "      <td>86.166667</td>\n",
       "    </tr>\n",
       "    <tr>\n",
       "      <th>std</th>\n",
       "      <td>2.37743</td>\n",
       "      <td>9.463507</td>\n",
       "      <td>39.654669</td>\n",
       "    </tr>\n",
       "    <tr>\n",
       "      <th>min</th>\n",
       "      <td>0.00000</td>\n",
       "      <td>150.000000</td>\n",
       "      <td>55.000000</td>\n",
       "    </tr>\n",
       "    <tr>\n",
       "      <th>1%</th>\n",
       "      <td>0.00000</td>\n",
       "      <td>152.300000</td>\n",
       "      <td>56.840000</td>\n",
       "    </tr>\n",
       "    <tr>\n",
       "      <th>25%</th>\n",
       "      <td>0.00000</td>\n",
       "      <td>171.500000</td>\n",
       "      <td>70.000000</td>\n",
       "    </tr>\n",
       "    <tr>\n",
       "      <th>50%</th>\n",
       "      <td>1.50000</td>\n",
       "      <td>177.000000</td>\n",
       "      <td>83.000000</td>\n",
       "    </tr>\n",
       "    <tr>\n",
       "      <th>75%</th>\n",
       "      <td>3.25000</td>\n",
       "      <td>183.000000</td>\n",
       "      <td>85.250000</td>\n",
       "    </tr>\n",
       "    <tr>\n",
       "      <th>90%</th>\n",
       "      <td>4.70000</td>\n",
       "      <td>185.100000</td>\n",
       "      <td>94.100000</td>\n",
       "    </tr>\n",
       "    <tr>\n",
       "      <th>95%</th>\n",
       "      <td>5.85000</td>\n",
       "      <td>186.000000</td>\n",
       "      <td>96.700000</td>\n",
       "    </tr>\n",
       "    <tr>\n",
       "      <th>99%</th>\n",
       "      <td>8.31000</td>\n",
       "      <td>189.080000</td>\n",
       "      <td>226.360000</td>\n",
       "    </tr>\n",
       "    <tr>\n",
       "      <th>max</th>\n",
       "      <td>9.00000</td>\n",
       "      <td>190.000000</td>\n",
       "      <td>265.000000</td>\n",
       "    </tr>\n",
       "  </tbody>\n",
       "</table>\n",
       "</div>"
      ],
      "text/plain": [
       "       activity      height      weight\n",
       "count  24.00000   24.000000   24.000000\n",
       "mean    2.00000  175.416667   86.166667\n",
       "std     2.37743    9.463507   39.654669\n",
       "min     0.00000  150.000000   55.000000\n",
       "1%      0.00000  152.300000   56.840000\n",
       "25%     0.00000  171.500000   70.000000\n",
       "50%     1.50000  177.000000   83.000000\n",
       "75%     3.25000  183.000000   85.250000\n",
       "90%     4.70000  185.100000   94.100000\n",
       "95%     5.85000  186.000000   96.700000\n",
       "99%     8.31000  189.080000  226.360000\n",
       "max     9.00000  190.000000  265.000000"
      ]
     },
     "execution_count": 123,
     "metadata": {},
     "output_type": "execute_result"
    }
   ],
   "source": [
    "df.describe(percentiles=[0.01,0.25,0.5,0.75,0.9,0.95, 0.99])"
   ]
  },
  {
   "cell_type": "code",
   "execution_count": 118,
   "metadata": {
    "collapsed": false
   },
   "outputs": [],
   "source": [
    "df = df[df.weight < 111.4]"
   ]
  },
  {
   "cell_type": "code",
   "execution_count": 119,
   "metadata": {
    "collapsed": false
   },
   "outputs": [
    {
     "data": {
      "text/html": [
       "<div>\n",
       "<table border=\"1\" class=\"dataframe\">\n",
       "  <thead>\n",
       "    <tr style=\"text-align: right;\">\n",
       "      <th></th>\n",
       "      <th>activity</th>\n",
       "      <th>height</th>\n",
       "      <th>weight</th>\n",
       "      <th>Squad</th>\n",
       "      <th>State</th>\n",
       "    </tr>\n",
       "  </thead>\n",
       "  <tbody>\n",
       "    <tr>\n",
       "      <th>0</th>\n",
       "      <td>4</td>\n",
       "      <td>173</td>\n",
       "      <td>85</td>\n",
       "      <td>Fluminense</td>\n",
       "      <td>RJ</td>\n",
       "    </tr>\n",
       "    <tr>\n",
       "      <th>1</th>\n",
       "      <td>0</td>\n",
       "      <td>170</td>\n",
       "      <td>70</td>\n",
       "      <td>Flamengo</td>\n",
       "      <td>RJ</td>\n",
       "    </tr>\n",
       "    <tr>\n",
       "      <th>2</th>\n",
       "      <td>2</td>\n",
       "      <td>183</td>\n",
       "      <td>85</td>\n",
       "      <td>nenhum</td>\n",
       "      <td>NaN</td>\n",
       "    </tr>\n",
       "    <tr>\n",
       "      <th>3</th>\n",
       "      <td>4</td>\n",
       "      <td>176</td>\n",
       "      <td>70</td>\n",
       "      <td>Sao Paulo</td>\n",
       "      <td>SP</td>\n",
       "    </tr>\n",
       "    <tr>\n",
       "      <th>4</th>\n",
       "      <td>9</td>\n",
       "      <td>178</td>\n",
       "      <td>73</td>\n",
       "      <td>Palmeiras</td>\n",
       "      <td>SP</td>\n",
       "    </tr>\n",
       "    <tr>\n",
       "      <th>5</th>\n",
       "      <td>0</td>\n",
       "      <td>180</td>\n",
       "      <td>90</td>\n",
       "      <td>Sao Paulo</td>\n",
       "      <td>SP</td>\n",
       "    </tr>\n",
       "    <tr>\n",
       "      <th>6</th>\n",
       "      <td>0</td>\n",
       "      <td>183</td>\n",
       "      <td>65</td>\n",
       "      <td>Corinthians</td>\n",
       "      <td>SP</td>\n",
       "    </tr>\n",
       "    <tr>\n",
       "      <th>7</th>\n",
       "      <td>0</td>\n",
       "      <td>186</td>\n",
       "      <td>97</td>\n",
       "      <td>Corinthians</td>\n",
       "      <td>SP</td>\n",
       "    </tr>\n",
       "    <tr>\n",
       "      <th>8</th>\n",
       "      <td>1</td>\n",
       "      <td>165</td>\n",
       "      <td>65</td>\n",
       "      <td>Corinthians</td>\n",
       "      <td>SP</td>\n",
       "    </tr>\n",
       "    <tr>\n",
       "      <th>9</th>\n",
       "      <td>0</td>\n",
       "      <td>160</td>\n",
       "      <td>55</td>\n",
       "      <td>Cruzeiro</td>\n",
       "      <td>MG</td>\n",
       "    </tr>\n",
       "    <tr>\n",
       "      <th>10</th>\n",
       "      <td>6</td>\n",
       "      <td>175</td>\n",
       "      <td>63</td>\n",
       "      <td>nenhum</td>\n",
       "      <td>NaN</td>\n",
       "    </tr>\n",
       "    <tr>\n",
       "      <th>11</th>\n",
       "      <td>0</td>\n",
       "      <td>167</td>\n",
       "      <td>70</td>\n",
       "      <td>Vitoria</td>\n",
       "      <td>BA</td>\n",
       "    </tr>\n",
       "    <tr>\n",
       "      <th>12</th>\n",
       "      <td>0</td>\n",
       "      <td>183</td>\n",
       "      <td>83</td>\n",
       "      <td>Palmeiras</td>\n",
       "      <td>SP</td>\n",
       "    </tr>\n",
       "    <tr>\n",
       "      <th>13</th>\n",
       "      <td>1</td>\n",
       "      <td>190</td>\n",
       "      <td>85</td>\n",
       "      <td>Palmeiras</td>\n",
       "      <td>SP</td>\n",
       "    </tr>\n",
       "    <tr>\n",
       "      <th>14</th>\n",
       "      <td>0</td>\n",
       "      <td>174</td>\n",
       "      <td>80</td>\n",
       "      <td>Corinthians</td>\n",
       "      <td>SP</td>\n",
       "    </tr>\n",
       "    <tr>\n",
       "      <th>15</th>\n",
       "      <td>2</td>\n",
       "      <td>183</td>\n",
       "      <td>85</td>\n",
       "      <td>Sao Paulo</td>\n",
       "      <td>SP</td>\n",
       "    </tr>\n",
       "    <tr>\n",
       "      <th>16</th>\n",
       "      <td>2</td>\n",
       "      <td>162</td>\n",
       "      <td>67</td>\n",
       "      <td>Santos</td>\n",
       "      <td>SP</td>\n",
       "    </tr>\n",
       "    <tr>\n",
       "      <th>17</th>\n",
       "      <td>0</td>\n",
       "      <td>186</td>\n",
       "      <td>86</td>\n",
       "      <td>nenhum</td>\n",
       "      <td>NaN</td>\n",
       "    </tr>\n",
       "    <tr>\n",
       "      <th>18</th>\n",
       "      <td>3</td>\n",
       "      <td>174</td>\n",
       "      <td>83</td>\n",
       "      <td>Corinthians</td>\n",
       "      <td>SP</td>\n",
       "    </tr>\n",
       "    <tr>\n",
       "      <th>19</th>\n",
       "      <td>0</td>\n",
       "      <td>172</td>\n",
       "      <td>92</td>\n",
       "      <td>Corinthians</td>\n",
       "      <td>SP</td>\n",
       "    </tr>\n",
       "    <tr>\n",
       "      <th>21</th>\n",
       "      <td>3</td>\n",
       "      <td>180</td>\n",
       "      <td>85</td>\n",
       "      <td>nenhum</td>\n",
       "      <td>NaN</td>\n",
       "    </tr>\n",
       "    <tr>\n",
       "      <th>22</th>\n",
       "      <td>2</td>\n",
       "      <td>178</td>\n",
       "      <td>95</td>\n",
       "      <td>Sao Paulo</td>\n",
       "      <td>SP</td>\n",
       "    </tr>\n",
       "    <tr>\n",
       "      <th>23</th>\n",
       "      <td>5</td>\n",
       "      <td>182</td>\n",
       "      <td>74</td>\n",
       "      <td>Corinthians</td>\n",
       "      <td>SP</td>\n",
       "    </tr>\n",
       "  </tbody>\n",
       "</table>\n",
       "</div>"
      ],
      "text/plain": [
       "    activity  height  weight        Squad State\n",
       "0          4     173      85   Fluminense    RJ\n",
       "1          0     170      70     Flamengo    RJ\n",
       "2          2     183      85       nenhum   NaN\n",
       "3          4     176      70    Sao Paulo    SP\n",
       "4          9     178      73    Palmeiras    SP\n",
       "5          0     180      90    Sao Paulo    SP\n",
       "6          0     183      65  Corinthians    SP\n",
       "7          0     186      97  Corinthians    SP\n",
       "8          1     165      65  Corinthians    SP\n",
       "9          0     160      55     Cruzeiro    MG\n",
       "10         6     175      63       nenhum   NaN\n",
       "11         0     167      70      Vitoria    BA\n",
       "12         0     183      83    Palmeiras    SP\n",
       "13         1     190      85    Palmeiras    SP\n",
       "14         0     174      80  Corinthians    SP\n",
       "15         2     183      85    Sao Paulo    SP\n",
       "16         2     162      67       Santos    SP\n",
       "17         0     186      86       nenhum   NaN\n",
       "18         3     174      83  Corinthians    SP\n",
       "19         0     172      92  Corinthians    SP\n",
       "21         3     180      85       nenhum   NaN\n",
       "22         2     178      95    Sao Paulo    SP\n",
       "23         5     182      74  Corinthians    SP"
      ]
     },
     "execution_count": 119,
     "metadata": {},
     "output_type": "execute_result"
    }
   ],
   "source": [
    "df"
   ]
  },
  {
   "cell_type": "code",
   "execution_count": null,
   "metadata": {
    "collapsed": true
   },
   "outputs": [],
   "source": [
    "# permutacao"
   ]
  },
  {
   "cell_type": "code",
   "execution_count": 125,
   "metadata": {
    "collapsed": false
   },
   "outputs": [
    {
     "data": {
      "text/plain": [
       "array([8, 5, 3, 6, 1, 2, 0, 7, 4, 9])"
      ]
     },
     "execution_count": 125,
     "metadata": {},
     "output_type": "execute_result"
    }
   ],
   "source": [
    "np.random.permutation(10)"
   ]
  },
  {
   "cell_type": "code",
   "execution_count": 135,
   "metadata": {
    "collapsed": false,
    "slideshow": {
     "slide_type": "-"
    }
   },
   "outputs": [
    {
     "data": {
      "text/html": [
       "<div>\n",
       "<table border=\"1\" class=\"dataframe\">\n",
       "  <thead>\n",
       "    <tr style=\"text-align: right;\">\n",
       "      <th></th>\n",
       "      <th>activity</th>\n",
       "      <th>height</th>\n",
       "      <th>weight</th>\n",
       "      <th>Squad</th>\n",
       "      <th>State</th>\n",
       "    </tr>\n",
       "  </thead>\n",
       "  <tbody>\n",
       "    <tr>\n",
       "      <th>3</th>\n",
       "      <td>4</td>\n",
       "      <td>176</td>\n",
       "      <td>70</td>\n",
       "      <td>Sao Paulo</td>\n",
       "      <td>SP</td>\n",
       "    </tr>\n",
       "    <tr>\n",
       "      <th>13</th>\n",
       "      <td>1</td>\n",
       "      <td>190</td>\n",
       "      <td>85</td>\n",
       "      <td>Palmeiras</td>\n",
       "      <td>SP</td>\n",
       "    </tr>\n",
       "    <tr>\n",
       "      <th>4</th>\n",
       "      <td>9</td>\n",
       "      <td>178</td>\n",
       "      <td>73</td>\n",
       "      <td>Palmeiras</td>\n",
       "      <td>SP</td>\n",
       "    </tr>\n",
       "    <tr>\n",
       "      <th>0</th>\n",
       "      <td>4</td>\n",
       "      <td>173</td>\n",
       "      <td>85</td>\n",
       "      <td>Fluminense</td>\n",
       "      <td>RJ</td>\n",
       "    </tr>\n",
       "    <tr>\n",
       "      <th>8</th>\n",
       "      <td>1</td>\n",
       "      <td>165</td>\n",
       "      <td>65</td>\n",
       "      <td>Corinthians</td>\n",
       "      <td>SP</td>\n",
       "    </tr>\n",
       "    <tr>\n",
       "      <th>22</th>\n",
       "      <td>2</td>\n",
       "      <td>178</td>\n",
       "      <td>95</td>\n",
       "      <td>Sao Paulo</td>\n",
       "      <td>SP</td>\n",
       "    </tr>\n",
       "    <tr>\n",
       "      <th>18</th>\n",
       "      <td>3</td>\n",
       "      <td>174</td>\n",
       "      <td>83</td>\n",
       "      <td>Corinthians</td>\n",
       "      <td>SP</td>\n",
       "    </tr>\n",
       "    <tr>\n",
       "      <th>7</th>\n",
       "      <td>0</td>\n",
       "      <td>186</td>\n",
       "      <td>97</td>\n",
       "      <td>Corinthians</td>\n",
       "      <td>SP</td>\n",
       "    </tr>\n",
       "    <tr>\n",
       "      <th>9</th>\n",
       "      <td>0</td>\n",
       "      <td>160</td>\n",
       "      <td>55</td>\n",
       "      <td>Cruzeiro</td>\n",
       "      <td>MG</td>\n",
       "    </tr>\n",
       "    <tr>\n",
       "      <th>11</th>\n",
       "      <td>0</td>\n",
       "      <td>167</td>\n",
       "      <td>70</td>\n",
       "      <td>Vitoria</td>\n",
       "      <td>BA</td>\n",
       "    </tr>\n",
       "  </tbody>\n",
       "</table>\n",
       "</div>"
      ],
      "text/plain": [
       "    activity  height  weight        Squad State\n",
       "3          4     176      70    Sao Paulo    SP\n",
       "13         1     190      85    Palmeiras    SP\n",
       "4          9     178      73    Palmeiras    SP\n",
       "0          4     173      85   Fluminense    RJ\n",
       "8          1     165      65  Corinthians    SP\n",
       "22         2     178      95    Sao Paulo    SP\n",
       "18         3     174      83  Corinthians    SP\n",
       "7          0     186      97  Corinthians    SP\n",
       "9          0     160      55     Cruzeiro    MG\n",
       "11         0     167      70      Vitoria    BA"
      ]
     },
     "execution_count": 135,
     "metadata": {},
     "output_type": "execute_result"
    }
   ],
   "source": [
    "# sem reposição\n",
    "df.iloc[np.random.permutation(len(df))].head(10)"
   ]
  },
  {
   "cell_type": "code",
   "execution_count": 138,
   "metadata": {
    "collapsed": false
   },
   "outputs": [
    {
     "data": {
      "text/html": [
       "<div>\n",
       "<table border=\"1\" class=\"dataframe\">\n",
       "  <thead>\n",
       "    <tr style=\"text-align: right;\">\n",
       "      <th></th>\n",
       "      <th>activity</th>\n",
       "      <th>height</th>\n",
       "      <th>weight</th>\n",
       "      <th>Squad</th>\n",
       "      <th>State</th>\n",
       "    </tr>\n",
       "  </thead>\n",
       "  <tbody>\n",
       "    <tr>\n",
       "      <th>2</th>\n",
       "      <td>2</td>\n",
       "      <td>183</td>\n",
       "      <td>85</td>\n",
       "      <td>nenhum</td>\n",
       "      <td>NaN</td>\n",
       "    </tr>\n",
       "    <tr>\n",
       "      <th>3</th>\n",
       "      <td>4</td>\n",
       "      <td>176</td>\n",
       "      <td>70</td>\n",
       "      <td>Sao Paulo</td>\n",
       "      <td>SP</td>\n",
       "    </tr>\n",
       "    <tr>\n",
       "      <th>21</th>\n",
       "      <td>3</td>\n",
       "      <td>180</td>\n",
       "      <td>85</td>\n",
       "      <td>nenhum</td>\n",
       "      <td>NaN</td>\n",
       "    </tr>\n",
       "    <tr>\n",
       "      <th>17</th>\n",
       "      <td>0</td>\n",
       "      <td>186</td>\n",
       "      <td>86</td>\n",
       "      <td>nenhum</td>\n",
       "      <td>NaN</td>\n",
       "    </tr>\n",
       "    <tr>\n",
       "      <th>24</th>\n",
       "      <td>4</td>\n",
       "      <td>150</td>\n",
       "      <td>265</td>\n",
       "      <td>Vasco</td>\n",
       "      <td>RJ</td>\n",
       "    </tr>\n",
       "    <tr>\n",
       "      <th>3</th>\n",
       "      <td>4</td>\n",
       "      <td>176</td>\n",
       "      <td>70</td>\n",
       "      <td>Sao Paulo</td>\n",
       "      <td>SP</td>\n",
       "    </tr>\n",
       "    <tr>\n",
       "      <th>23</th>\n",
       "      <td>5</td>\n",
       "      <td>182</td>\n",
       "      <td>74</td>\n",
       "      <td>Corinthians</td>\n",
       "      <td>SP</td>\n",
       "    </tr>\n",
       "    <tr>\n",
       "      <th>12</th>\n",
       "      <td>0</td>\n",
       "      <td>183</td>\n",
       "      <td>83</td>\n",
       "      <td>Palmeiras</td>\n",
       "      <td>SP</td>\n",
       "    </tr>\n",
       "    <tr>\n",
       "      <th>23</th>\n",
       "      <td>5</td>\n",
       "      <td>182</td>\n",
       "      <td>74</td>\n",
       "      <td>Corinthians</td>\n",
       "      <td>SP</td>\n",
       "    </tr>\n",
       "    <tr>\n",
       "      <th>0</th>\n",
       "      <td>4</td>\n",
       "      <td>173</td>\n",
       "      <td>85</td>\n",
       "      <td>Fluminense</td>\n",
       "      <td>RJ</td>\n",
       "    </tr>\n",
       "  </tbody>\n",
       "</table>\n",
       "</div>"
      ],
      "text/plain": [
       "    activity  height  weight        Squad State\n",
       "2          2     183      85       nenhum   NaN\n",
       "3          4     176      70    Sao Paulo    SP\n",
       "21         3     180      85       nenhum   NaN\n",
       "17         0     186      86       nenhum   NaN\n",
       "24         4     150     265        Vasco    RJ\n",
       "3          4     176      70    Sao Paulo    SP\n",
       "23         5     182      74  Corinthians    SP\n",
       "12         0     183      83    Palmeiras    SP\n",
       "23         5     182      74  Corinthians    SP\n",
       "0          4     173      85   Fluminense    RJ"
      ]
     },
     "execution_count": 138,
     "metadata": {},
     "output_type": "execute_result"
    }
   ],
   "source": [
    "df.iloc[np.random.randint(0,len(df),size=10)]"
   ]
  },
  {
   "cell_type": "code",
   "execution_count": 139,
   "metadata": {
    "collapsed": true
   },
   "outputs": [],
   "source": [
    "from random import randint"
   ]
  },
  {
   "cell_type": "code",
   "execution_count": 141,
   "metadata": {
    "collapsed": false
   },
   "outputs": [
    {
     "data": {
      "text/plain": [
       "3"
      ]
     },
     "execution_count": 141,
     "metadata": {},
     "output_type": "execute_result"
    }
   ],
   "source": [
    "randint(0,3)"
   ]
  },
  {
   "cell_type": "code",
   "execution_count": 146,
   "metadata": {
    "collapsed": false,
    "slideshow": {
     "slide_type": "-"
    }
   },
   "outputs": [
    {
     "data": {
      "text/plain": [
       "0"
      ]
     },
     "execution_count": 146,
     "metadata": {},
     "output_type": "execute_result"
    }
   ],
   "source": [
    "# com reposição\n",
    "np.random.randint(0,3)"
   ]
  },
  {
   "cell_type": "markdown",
   "metadata": {},
   "source": [
    "## Groupby"
   ]
  },
  {
   "cell_type": "code",
   "execution_count": 193,
   "metadata": {
    "collapsed": true
   },
   "outputs": [],
   "source": [
    "df = pd.read_csv('alunos.csv')\n",
    "\n",
    "df['IMC'] = df.Peso/((df.Altura/100) ** 2)"
   ]
  },
  {
   "cell_type": "code",
   "execution_count": 150,
   "metadata": {
    "collapsed": false
   },
   "outputs": [
    {
     "data": {
      "text/plain": [
       "<pandas.core.groupby.DataFrameGroupBy object at 0x1118fa810>"
      ]
     },
     "execution_count": 150,
     "metadata": {},
     "output_type": "execute_result"
    }
   ],
   "source": [
    "df.groupby('Time')"
   ]
  },
  {
   "cell_type": "code",
   "execution_count": 152,
   "metadata": {
    "collapsed": false
   },
   "outputs": [
    {
     "name": "stdout",
     "output_type": "stream",
     "text": [
      "Corinthians\n",
      "    Atividade_por_semana  Altura  Peso         Time        IMC\n",
      "6                      0     183    65  Corinthians  19.409358\n",
      "7                      0     186    97  Corinthians  28.037923\n",
      "8                      1     165    65  Corinthians  23.875115\n",
      "14                     0     174    80  Corinthians  26.423570\n",
      "18                     3     174    83  Corinthians  27.414454\n",
      "19                     0     172    92  Corinthians  31.097891\n",
      "23                     5     182    74  Corinthians  22.340297\n",
      "------------------------------\n",
      "Cruzeiro\n",
      "   Atividade_por_semana  Altura  Peso      Time        IMC\n",
      "9                     0     160    55  Cruzeiro  21.484375\n",
      "------------------------------\n",
      "Flamengo\n",
      "   Atividade_por_semana  Altura  Peso      Time        IMC\n",
      "1                     0     170    70  Flamengo  24.221453\n",
      "------------------------------\n",
      "Fluminense\n",
      "   Atividade_por_semana  Altura  Peso        Time        IMC\n",
      "0                     4     173    85  Fluminense  28.400548\n",
      "------------------------------\n",
      "Palmeiras\n",
      "    Atividade_por_semana  Altura  Peso       Time        IMC\n",
      "4                      9     178    73  Palmeiras  23.040020\n",
      "12                     0     183    83  Palmeiras  24.784258\n",
      "13                     1     190    85  Palmeiras  23.545706\n",
      "------------------------------\n",
      "Santos\n",
      "    Atividade_por_semana  Altura  Peso    Time        IMC\n",
      "16                     2     162    67  Santos  25.529645\n",
      "------------------------------\n",
      "Sao Paulo\n",
      "    Atividade_por_semana  Altura  Peso       Time        IMC\n",
      "3                      4     176    70  Sao Paulo  22.598140\n",
      "5                      0     180    90  Sao Paulo  27.777778\n",
      "15                     2     183    85  Sao Paulo  25.381469\n",
      "22                     2     178    95  Sao Paulo  29.983588\n",
      "------------------------------\n",
      "Vitoria\n",
      "    Atividade_por_semana  Altura  Peso     Time        IMC\n",
      "11                     0     167    70  Vitoria  25.099502\n",
      "------------------------------\n"
     ]
    }
   ],
   "source": [
    "for time, grupo in df.groupby('Time'):\n",
    "    print time\n",
    "    print grupo\n",
    "    print '-'* 30"
   ]
  },
  {
   "cell_type": "code",
   "execution_count": 158,
   "metadata": {
    "collapsed": false
   },
   "outputs": [
    {
     "data": {
      "text/plain": [
       "Index([u'Atividade_por_semana', u'Altura', u'Peso', u'Time', u'IMC'], dtype='object')"
      ]
     },
     "execution_count": 158,
     "metadata": {},
     "output_type": "execute_result"
    }
   ],
   "source": [
    "df.columns"
   ]
  },
  {
   "cell_type": "code",
   "execution_count": 153,
   "metadata": {
    "collapsed": false
   },
   "outputs": [],
   "source": [
    "df_agrupado = df.groupby('Time')"
   ]
  },
  {
   "cell_type": "code",
   "execution_count": 166,
   "metadata": {
    "collapsed": false
   },
   "outputs": [
    {
     "data": {
      "text/plain": [
       "Time\n",
       "Corinthians    19.409358\n",
       "Cruzeiro       21.484375\n",
       "Flamengo       24.221453\n",
       "Fluminense     28.400548\n",
       "Palmeiras      23.040020\n",
       "Santos         25.529645\n",
       "Sao Paulo      22.598140\n",
       "Vitoria        25.099502\n",
       "Name: IMC, dtype: float64"
      ]
     },
     "execution_count": 166,
     "metadata": {},
     "output_type": "execute_result"
    }
   ],
   "source": [
    "df_agrupado.IMC.first()"
   ]
  },
  {
   "cell_type": "code",
   "execution_count": 167,
   "metadata": {
    "collapsed": true
   },
   "outputs": [],
   "source": [
    "def dif_max_min(arr):\n",
    "    return arr.max() - arr.min()"
   ]
  },
  {
   "cell_type": "code",
   "execution_count": 170,
   "metadata": {
    "collapsed": false
   },
   "outputs": [
    {
     "data": {
      "text/plain": [
       "12.446597381916206"
      ]
     },
     "execution_count": 170,
     "metadata": {},
     "output_type": "execute_result"
    }
   ],
   "source": [
    "dif_max_min(df.IMC)"
   ]
  },
  {
   "cell_type": "code",
   "execution_count": 173,
   "metadata": {
    "collapsed": false
   },
   "outputs": [
    {
     "data": {
      "text/html": [
       "<div>\n",
       "<table border=\"1\" class=\"dataframe\">\n",
       "  <thead>\n",
       "    <tr style=\"text-align: right;\">\n",
       "      <th></th>\n",
       "      <th>Atividade_por_semana</th>\n",
       "      <th>Altura</th>\n",
       "      <th>Peso</th>\n",
       "      <th>IMC</th>\n",
       "    </tr>\n",
       "    <tr>\n",
       "      <th>Time</th>\n",
       "      <th></th>\n",
       "      <th></th>\n",
       "      <th></th>\n",
       "      <th></th>\n",
       "    </tr>\n",
       "  </thead>\n",
       "  <tbody>\n",
       "    <tr>\n",
       "      <th>Corinthians</th>\n",
       "      <td>5</td>\n",
       "      <td>21</td>\n",
       "      <td>32</td>\n",
       "      <td>11.688532</td>\n",
       "    </tr>\n",
       "    <tr>\n",
       "      <th>Cruzeiro</th>\n",
       "      <td>0</td>\n",
       "      <td>0</td>\n",
       "      <td>0</td>\n",
       "      <td>0.000000</td>\n",
       "    </tr>\n",
       "    <tr>\n",
       "      <th>Flamengo</th>\n",
       "      <td>0</td>\n",
       "      <td>0</td>\n",
       "      <td>0</td>\n",
       "      <td>0.000000</td>\n",
       "    </tr>\n",
       "    <tr>\n",
       "      <th>Fluminense</th>\n",
       "      <td>0</td>\n",
       "      <td>0</td>\n",
       "      <td>0</td>\n",
       "      <td>0.000000</td>\n",
       "    </tr>\n",
       "    <tr>\n",
       "      <th>Palmeiras</th>\n",
       "      <td>9</td>\n",
       "      <td>12</td>\n",
       "      <td>12</td>\n",
       "      <td>1.744237</td>\n",
       "    </tr>\n",
       "    <tr>\n",
       "      <th>Santos</th>\n",
       "      <td>0</td>\n",
       "      <td>0</td>\n",
       "      <td>0</td>\n",
       "      <td>0.000000</td>\n",
       "    </tr>\n",
       "    <tr>\n",
       "      <th>Sao Paulo</th>\n",
       "      <td>4</td>\n",
       "      <td>7</td>\n",
       "      <td>25</td>\n",
       "      <td>7.385447</td>\n",
       "    </tr>\n",
       "    <tr>\n",
       "      <th>Vitoria</th>\n",
       "      <td>0</td>\n",
       "      <td>0</td>\n",
       "      <td>0</td>\n",
       "      <td>0.000000</td>\n",
       "    </tr>\n",
       "  </tbody>\n",
       "</table>\n",
       "</div>"
      ],
      "text/plain": [
       "             Atividade_por_semana  Altura  Peso        IMC\n",
       "Time                                                      \n",
       "Corinthians                     5      21    32  11.688532\n",
       "Cruzeiro                        0       0     0   0.000000\n",
       "Flamengo                        0       0     0   0.000000\n",
       "Fluminense                      0       0     0   0.000000\n",
       "Palmeiras                       9      12    12   1.744237\n",
       "Santos                          0       0     0   0.000000\n",
       "Sao Paulo                       4       7    25   7.385447\n",
       "Vitoria                         0       0     0   0.000000"
      ]
     },
     "execution_count": 173,
     "metadata": {},
     "output_type": "execute_result"
    }
   ],
   "source": [
    "df_agrupado.agg(dif_max_min)"
   ]
  },
  {
   "cell_type": "code",
   "execution_count": 176,
   "metadata": {
    "collapsed": false
   },
   "outputs": [
    {
     "data": {
      "text/html": [
       "<div>\n",
       "<table border=\"1\" class=\"dataframe\">\n",
       "  <thead>\n",
       "    <tr style=\"text-align: right;\">\n",
       "      <th></th>\n",
       "      <th>Atividade_por_semana</th>\n",
       "      <th>Altura</th>\n",
       "      <th>Peso</th>\n",
       "      <th>IMC</th>\n",
       "    </tr>\n",
       "    <tr>\n",
       "      <th>Time</th>\n",
       "      <th></th>\n",
       "      <th></th>\n",
       "      <th></th>\n",
       "      <th></th>\n",
       "    </tr>\n",
       "  </thead>\n",
       "  <tbody>\n",
       "    <tr>\n",
       "      <th>Corinthians</th>\n",
       "      <td>1.285714</td>\n",
       "      <td>176.571429</td>\n",
       "      <td>79.428571</td>\n",
       "      <td>25.514087</td>\n",
       "    </tr>\n",
       "    <tr>\n",
       "      <th>Cruzeiro</th>\n",
       "      <td>0.000000</td>\n",
       "      <td>160.000000</td>\n",
       "      <td>55.000000</td>\n",
       "      <td>21.484375</td>\n",
       "    </tr>\n",
       "    <tr>\n",
       "      <th>Flamengo</th>\n",
       "      <td>0.000000</td>\n",
       "      <td>170.000000</td>\n",
       "      <td>70.000000</td>\n",
       "      <td>24.221453</td>\n",
       "    </tr>\n",
       "    <tr>\n",
       "      <th>Fluminense</th>\n",
       "      <td>4.000000</td>\n",
       "      <td>173.000000</td>\n",
       "      <td>85.000000</td>\n",
       "      <td>28.400548</td>\n",
       "    </tr>\n",
       "    <tr>\n",
       "      <th>Palmeiras</th>\n",
       "      <td>3.333333</td>\n",
       "      <td>183.666667</td>\n",
       "      <td>80.333333</td>\n",
       "      <td>23.789995</td>\n",
       "    </tr>\n",
       "    <tr>\n",
       "      <th>Santos</th>\n",
       "      <td>2.000000</td>\n",
       "      <td>162.000000</td>\n",
       "      <td>67.000000</td>\n",
       "      <td>25.529645</td>\n",
       "    </tr>\n",
       "    <tr>\n",
       "      <th>Sao Paulo</th>\n",
       "      <td>2.000000</td>\n",
       "      <td>179.250000</td>\n",
       "      <td>85.000000</td>\n",
       "      <td>26.435244</td>\n",
       "    </tr>\n",
       "    <tr>\n",
       "      <th>Vitoria</th>\n",
       "      <td>0.000000</td>\n",
       "      <td>167.000000</td>\n",
       "      <td>70.000000</td>\n",
       "      <td>25.099502</td>\n",
       "    </tr>\n",
       "  </tbody>\n",
       "</table>\n",
       "</div>"
      ],
      "text/plain": [
       "             Atividade_por_semana      Altura       Peso        IMC\n",
       "Time                                                               \n",
       "Corinthians              1.285714  176.571429  79.428571  25.514087\n",
       "Cruzeiro                 0.000000  160.000000  55.000000  21.484375\n",
       "Flamengo                 0.000000  170.000000  70.000000  24.221453\n",
       "Fluminense               4.000000  173.000000  85.000000  28.400548\n",
       "Palmeiras                3.333333  183.666667  80.333333  23.789995\n",
       "Santos                   2.000000  162.000000  67.000000  25.529645\n",
       "Sao Paulo                2.000000  179.250000  85.000000  26.435244\n",
       "Vitoria                  0.000000  167.000000  70.000000  25.099502"
      ]
     },
     "execution_count": 176,
     "metadata": {},
     "output_type": "execute_result"
    }
   ],
   "source": [
    "df_agrupado.mean()"
   ]
  },
  {
   "cell_type": "code",
   "execution_count": 175,
   "metadata": {
    "collapsed": false
   },
   "outputs": [
    {
     "data": {
      "text/html": [
       "<div>\n",
       "<table border=\"1\" class=\"dataframe\">\n",
       "  <thead>\n",
       "    <tr style=\"text-align: right;\">\n",
       "      <th></th>\n",
       "      <th>Atividade_por_semana</th>\n",
       "      <th>Altura</th>\n",
       "      <th>Peso</th>\n",
       "      <th>IMC</th>\n",
       "    </tr>\n",
       "    <tr>\n",
       "      <th>Time</th>\n",
       "      <th></th>\n",
       "      <th></th>\n",
       "      <th></th>\n",
       "      <th></th>\n",
       "    </tr>\n",
       "  </thead>\n",
       "  <tbody>\n",
       "    <tr>\n",
       "      <th>Corinthians</th>\n",
       "      <td>1.285714</td>\n",
       "      <td>176.571429</td>\n",
       "      <td>79.428571</td>\n",
       "      <td>25.514087</td>\n",
       "    </tr>\n",
       "    <tr>\n",
       "      <th>Cruzeiro</th>\n",
       "      <td>0.000000</td>\n",
       "      <td>160.000000</td>\n",
       "      <td>55.000000</td>\n",
       "      <td>21.484375</td>\n",
       "    </tr>\n",
       "    <tr>\n",
       "      <th>Flamengo</th>\n",
       "      <td>0.000000</td>\n",
       "      <td>170.000000</td>\n",
       "      <td>70.000000</td>\n",
       "      <td>24.221453</td>\n",
       "    </tr>\n",
       "    <tr>\n",
       "      <th>Fluminense</th>\n",
       "      <td>4.000000</td>\n",
       "      <td>173.000000</td>\n",
       "      <td>85.000000</td>\n",
       "      <td>28.400548</td>\n",
       "    </tr>\n",
       "    <tr>\n",
       "      <th>Palmeiras</th>\n",
       "      <td>3.333333</td>\n",
       "      <td>183.666667</td>\n",
       "      <td>80.333333</td>\n",
       "      <td>23.789995</td>\n",
       "    </tr>\n",
       "    <tr>\n",
       "      <th>Santos</th>\n",
       "      <td>2.000000</td>\n",
       "      <td>162.000000</td>\n",
       "      <td>67.000000</td>\n",
       "      <td>25.529645</td>\n",
       "    </tr>\n",
       "    <tr>\n",
       "      <th>Sao Paulo</th>\n",
       "      <td>2.000000</td>\n",
       "      <td>179.250000</td>\n",
       "      <td>85.000000</td>\n",
       "      <td>26.435244</td>\n",
       "    </tr>\n",
       "    <tr>\n",
       "      <th>Vitoria</th>\n",
       "      <td>0.000000</td>\n",
       "      <td>167.000000</td>\n",
       "      <td>70.000000</td>\n",
       "      <td>25.099502</td>\n",
       "    </tr>\n",
       "  </tbody>\n",
       "</table>\n",
       "</div>"
      ],
      "text/plain": [
       "             Atividade_por_semana      Altura       Peso        IMC\n",
       "Time                                                               \n",
       "Corinthians              1.285714  176.571429  79.428571  25.514087\n",
       "Cruzeiro                 0.000000  160.000000  55.000000  21.484375\n",
       "Flamengo                 0.000000  170.000000  70.000000  24.221453\n",
       "Fluminense               4.000000  173.000000  85.000000  28.400548\n",
       "Palmeiras                3.333333  183.666667  80.333333  23.789995\n",
       "Santos                   2.000000  162.000000  67.000000  25.529645\n",
       "Sao Paulo                2.000000  179.250000  85.000000  26.435244\n",
       "Vitoria                  0.000000  167.000000  70.000000  25.099502"
      ]
     },
     "execution_count": 175,
     "metadata": {},
     "output_type": "execute_result"
    }
   ],
   "source": [
    "df_agrupado.agg('mean')"
   ]
  },
  {
   "cell_type": "code",
   "execution_count": 179,
   "metadata": {
    "collapsed": false
   },
   "outputs": [],
   "source": [
    "df.sort_values('IMC', inplace=True)"
   ]
  },
  {
   "cell_type": "code",
   "execution_count": 181,
   "metadata": {
    "collapsed": false
   },
   "outputs": [],
   "source": [
    "df_agrupado = df.groupby('Time')"
   ]
  },
  {
   "cell_type": "code",
   "execution_count": 196,
   "metadata": {
    "collapsed": false
   },
   "outputs": [
    {
     "name": "stdout",
     "output_type": "stream",
     "text": [
      "Corinthians\n",
      "    Atividade_por_semana  Altura  Peso         Time        IMC\n",
      "6                      0     183    65  Corinthians  19.409358\n",
      "7                      0     186    97  Corinthians  28.037923\n",
      "8                      1     165    65  Corinthians  23.875115\n",
      "14                     0     174    80  Corinthians  26.423570\n",
      "18                     3     174    83  Corinthians  27.414454\n",
      "19                     0     172    92  Corinthians  31.097891\n",
      "23                     5     182    74  Corinthians  22.340297\n",
      "------------------------------\n",
      "Cruzeiro\n",
      "   Atividade_por_semana  Altura  Peso      Time        IMC\n",
      "9                     0     160    55  Cruzeiro  21.484375\n",
      "------------------------------\n",
      "Flamengo\n",
      "   Atividade_por_semana  Altura  Peso      Time        IMC\n",
      "1                     0     170    70  Flamengo  24.221453\n",
      "------------------------------\n",
      "Fluminense\n",
      "   Atividade_por_semana  Altura  Peso        Time        IMC\n",
      "0                     4     173    85  Fluminense  28.400548\n",
      "------------------------------\n",
      "Palmeiras\n",
      "    Atividade_por_semana  Altura  Peso       Time        IMC\n",
      "4                      9     178    73  Palmeiras  23.040020\n",
      "12                     0     183    83  Palmeiras  24.784258\n",
      "13                     1     190    85  Palmeiras  23.545706\n",
      "------------------------------\n",
      "Santos\n",
      "    Atividade_por_semana  Altura  Peso    Time        IMC\n",
      "16                     2     162    67  Santos  25.529645\n",
      "------------------------------\n",
      "Sao Paulo\n",
      "    Atividade_por_semana  Altura  Peso       Time        IMC\n",
      "3                      4     176    70  Sao Paulo  22.598140\n",
      "5                      0     180    90  Sao Paulo  27.777778\n",
      "15                     2     183    85  Sao Paulo  25.381469\n",
      "22                     2     178    95  Sao Paulo  29.983588\n",
      "------------------------------\n",
      "Vitoria\n",
      "    Atividade_por_semana  Altura  Peso     Time        IMC\n",
      "11                     0     167    70  Vitoria  25.099502\n",
      "------------------------------\n"
     ]
    }
   ],
   "source": [
    "for time, grupo in df.groupby('Time'):\n",
    "    print time\n",
    "    print grupo\n",
    "    print '-'* 30"
   ]
  },
  {
   "cell_type": "code",
   "execution_count": 185,
   "metadata": {
    "collapsed": true
   },
   "outputs": [],
   "source": [
    "def ranker(df):\n",
    "    df['ranking'] = np.arange(len(df)) + 1\n",
    "    return df"
   ]
  },
  {
   "cell_type": "code",
   "execution_count": 194,
   "metadata": {
    "collapsed": false
   },
   "outputs": [],
   "source": [
    "df_agrupado = df.groupby('Time')"
   ]
  },
  {
   "cell_type": "code",
   "execution_count": 195,
   "metadata": {
    "collapsed": false
   },
   "outputs": [
    {
     "data": {
      "text/html": [
       "<div>\n",
       "<table border=\"1\" class=\"dataframe\">\n",
       "  <thead>\n",
       "    <tr style=\"text-align: right;\">\n",
       "      <th></th>\n",
       "      <th>Atividade_por_semana</th>\n",
       "      <th>Altura</th>\n",
       "      <th>Peso</th>\n",
       "      <th>Time</th>\n",
       "      <th>IMC</th>\n",
       "      <th>ranking</th>\n",
       "    </tr>\n",
       "  </thead>\n",
       "  <tbody>\n",
       "    <tr>\n",
       "      <th>0</th>\n",
       "      <td>4.0</td>\n",
       "      <td>173.0</td>\n",
       "      <td>85.0</td>\n",
       "      <td>Fluminense</td>\n",
       "      <td>28.400548</td>\n",
       "      <td>1.0</td>\n",
       "    </tr>\n",
       "    <tr>\n",
       "      <th>1</th>\n",
       "      <td>0.0</td>\n",
       "      <td>170.0</td>\n",
       "      <td>70.0</td>\n",
       "      <td>Flamengo</td>\n",
       "      <td>24.221453</td>\n",
       "      <td>1.0</td>\n",
       "    </tr>\n",
       "    <tr>\n",
       "      <th>2</th>\n",
       "      <td>NaN</td>\n",
       "      <td>NaN</td>\n",
       "      <td>NaN</td>\n",
       "      <td>NaN</td>\n",
       "      <td>NaN</td>\n",
       "      <td>NaN</td>\n",
       "    </tr>\n",
       "    <tr>\n",
       "      <th>3</th>\n",
       "      <td>4.0</td>\n",
       "      <td>176.0</td>\n",
       "      <td>70.0</td>\n",
       "      <td>Sao Paulo</td>\n",
       "      <td>22.598140</td>\n",
       "      <td>1.0</td>\n",
       "    </tr>\n",
       "    <tr>\n",
       "      <th>4</th>\n",
       "      <td>9.0</td>\n",
       "      <td>178.0</td>\n",
       "      <td>73.0</td>\n",
       "      <td>Palmeiras</td>\n",
       "      <td>23.040020</td>\n",
       "      <td>1.0</td>\n",
       "    </tr>\n",
       "    <tr>\n",
       "      <th>5</th>\n",
       "      <td>0.0</td>\n",
       "      <td>180.0</td>\n",
       "      <td>90.0</td>\n",
       "      <td>Sao Paulo</td>\n",
       "      <td>27.777778</td>\n",
       "      <td>2.0</td>\n",
       "    </tr>\n",
       "    <tr>\n",
       "      <th>6</th>\n",
       "      <td>0.0</td>\n",
       "      <td>183.0</td>\n",
       "      <td>65.0</td>\n",
       "      <td>Corinthians</td>\n",
       "      <td>19.409358</td>\n",
       "      <td>1.0</td>\n",
       "    </tr>\n",
       "    <tr>\n",
       "      <th>7</th>\n",
       "      <td>0.0</td>\n",
       "      <td>186.0</td>\n",
       "      <td>97.0</td>\n",
       "      <td>Corinthians</td>\n",
       "      <td>28.037923</td>\n",
       "      <td>2.0</td>\n",
       "    </tr>\n",
       "    <tr>\n",
       "      <th>8</th>\n",
       "      <td>1.0</td>\n",
       "      <td>165.0</td>\n",
       "      <td>65.0</td>\n",
       "      <td>Corinthians</td>\n",
       "      <td>23.875115</td>\n",
       "      <td>3.0</td>\n",
       "    </tr>\n",
       "    <tr>\n",
       "      <th>9</th>\n",
       "      <td>0.0</td>\n",
       "      <td>160.0</td>\n",
       "      <td>55.0</td>\n",
       "      <td>Cruzeiro</td>\n",
       "      <td>21.484375</td>\n",
       "      <td>1.0</td>\n",
       "    </tr>\n",
       "    <tr>\n",
       "      <th>10</th>\n",
       "      <td>NaN</td>\n",
       "      <td>NaN</td>\n",
       "      <td>NaN</td>\n",
       "      <td>NaN</td>\n",
       "      <td>NaN</td>\n",
       "      <td>NaN</td>\n",
       "    </tr>\n",
       "    <tr>\n",
       "      <th>11</th>\n",
       "      <td>0.0</td>\n",
       "      <td>167.0</td>\n",
       "      <td>70.0</td>\n",
       "      <td>Vitoria</td>\n",
       "      <td>25.099502</td>\n",
       "      <td>1.0</td>\n",
       "    </tr>\n",
       "    <tr>\n",
       "      <th>12</th>\n",
       "      <td>0.0</td>\n",
       "      <td>183.0</td>\n",
       "      <td>83.0</td>\n",
       "      <td>Palmeiras</td>\n",
       "      <td>24.784258</td>\n",
       "      <td>2.0</td>\n",
       "    </tr>\n",
       "    <tr>\n",
       "      <th>13</th>\n",
       "      <td>1.0</td>\n",
       "      <td>190.0</td>\n",
       "      <td>85.0</td>\n",
       "      <td>Palmeiras</td>\n",
       "      <td>23.545706</td>\n",
       "      <td>3.0</td>\n",
       "    </tr>\n",
       "    <tr>\n",
       "      <th>14</th>\n",
       "      <td>0.0</td>\n",
       "      <td>174.0</td>\n",
       "      <td>80.0</td>\n",
       "      <td>Corinthians</td>\n",
       "      <td>26.423570</td>\n",
       "      <td>4.0</td>\n",
       "    </tr>\n",
       "    <tr>\n",
       "      <th>15</th>\n",
       "      <td>2.0</td>\n",
       "      <td>183.0</td>\n",
       "      <td>85.0</td>\n",
       "      <td>Sao Paulo</td>\n",
       "      <td>25.381469</td>\n",
       "      <td>3.0</td>\n",
       "    </tr>\n",
       "    <tr>\n",
       "      <th>16</th>\n",
       "      <td>2.0</td>\n",
       "      <td>162.0</td>\n",
       "      <td>67.0</td>\n",
       "      <td>Santos</td>\n",
       "      <td>25.529645</td>\n",
       "      <td>1.0</td>\n",
       "    </tr>\n",
       "    <tr>\n",
       "      <th>17</th>\n",
       "      <td>NaN</td>\n",
       "      <td>NaN</td>\n",
       "      <td>NaN</td>\n",
       "      <td>NaN</td>\n",
       "      <td>NaN</td>\n",
       "      <td>NaN</td>\n",
       "    </tr>\n",
       "    <tr>\n",
       "      <th>18</th>\n",
       "      <td>3.0</td>\n",
       "      <td>174.0</td>\n",
       "      <td>83.0</td>\n",
       "      <td>Corinthians</td>\n",
       "      <td>27.414454</td>\n",
       "      <td>5.0</td>\n",
       "    </tr>\n",
       "    <tr>\n",
       "      <th>19</th>\n",
       "      <td>0.0</td>\n",
       "      <td>172.0</td>\n",
       "      <td>92.0</td>\n",
       "      <td>Corinthians</td>\n",
       "      <td>31.097891</td>\n",
       "      <td>6.0</td>\n",
       "    </tr>\n",
       "    <tr>\n",
       "      <th>20</th>\n",
       "      <td>NaN</td>\n",
       "      <td>NaN</td>\n",
       "      <td>NaN</td>\n",
       "      <td>NaN</td>\n",
       "      <td>NaN</td>\n",
       "      <td>NaN</td>\n",
       "    </tr>\n",
       "    <tr>\n",
       "      <th>21</th>\n",
       "      <td>NaN</td>\n",
       "      <td>NaN</td>\n",
       "      <td>NaN</td>\n",
       "      <td>NaN</td>\n",
       "      <td>NaN</td>\n",
       "      <td>NaN</td>\n",
       "    </tr>\n",
       "    <tr>\n",
       "      <th>22</th>\n",
       "      <td>2.0</td>\n",
       "      <td>178.0</td>\n",
       "      <td>95.0</td>\n",
       "      <td>Sao Paulo</td>\n",
       "      <td>29.983588</td>\n",
       "      <td>4.0</td>\n",
       "    </tr>\n",
       "    <tr>\n",
       "      <th>23</th>\n",
       "      <td>5.0</td>\n",
       "      <td>182.0</td>\n",
       "      <td>74.0</td>\n",
       "      <td>Corinthians</td>\n",
       "      <td>22.340297</td>\n",
       "      <td>7.0</td>\n",
       "    </tr>\n",
       "  </tbody>\n",
       "</table>\n",
       "</div>"
      ],
      "text/plain": [
       "    Atividade_por_semana  Altura  Peso         Time        IMC  ranking\n",
       "0                    4.0   173.0  85.0   Fluminense  28.400548      1.0\n",
       "1                    0.0   170.0  70.0     Flamengo  24.221453      1.0\n",
       "2                    NaN     NaN   NaN          NaN        NaN      NaN\n",
       "3                    4.0   176.0  70.0    Sao Paulo  22.598140      1.0\n",
       "4                    9.0   178.0  73.0    Palmeiras  23.040020      1.0\n",
       "5                    0.0   180.0  90.0    Sao Paulo  27.777778      2.0\n",
       "6                    0.0   183.0  65.0  Corinthians  19.409358      1.0\n",
       "7                    0.0   186.0  97.0  Corinthians  28.037923      2.0\n",
       "8                    1.0   165.0  65.0  Corinthians  23.875115      3.0\n",
       "9                    0.0   160.0  55.0     Cruzeiro  21.484375      1.0\n",
       "10                   NaN     NaN   NaN          NaN        NaN      NaN\n",
       "11                   0.0   167.0  70.0      Vitoria  25.099502      1.0\n",
       "12                   0.0   183.0  83.0    Palmeiras  24.784258      2.0\n",
       "13                   1.0   190.0  85.0    Palmeiras  23.545706      3.0\n",
       "14                   0.0   174.0  80.0  Corinthians  26.423570      4.0\n",
       "15                   2.0   183.0  85.0    Sao Paulo  25.381469      3.0\n",
       "16                   2.0   162.0  67.0       Santos  25.529645      1.0\n",
       "17                   NaN     NaN   NaN          NaN        NaN      NaN\n",
       "18                   3.0   174.0  83.0  Corinthians  27.414454      5.0\n",
       "19                   0.0   172.0  92.0  Corinthians  31.097891      6.0\n",
       "20                   NaN     NaN   NaN          NaN        NaN      NaN\n",
       "21                   NaN     NaN   NaN          NaN        NaN      NaN\n",
       "22                   2.0   178.0  95.0    Sao Paulo  29.983588      4.0\n",
       "23                   5.0   182.0  74.0  Corinthians  22.340297      7.0"
      ]
     },
     "execution_count": 195,
     "metadata": {},
     "output_type": "execute_result"
    }
   ],
   "source": [
    "df_agrupado.apply(ranker)"
   ]
  },
  {
   "cell_type": "code",
   "execution_count": null,
   "metadata": {
    "collapsed": true
   },
   "outputs": [],
   "source": [
    "# AI: consertar rank que nao deu certo"
   ]
  }
 ],
 "metadata": {
  "kernelspec": {
   "display_name": "Python 2",
   "language": "python",
   "name": "python2"
  },
  "language_info": {
   "codemirror_mode": {
    "name": "ipython",
    "version": 2
   },
   "file_extension": ".py",
   "mimetype": "text/x-python",
   "name": "python",
   "nbconvert_exporter": "python",
   "pygments_lexer": "ipython2",
   "version": "2.7.10"
  }
 },
 "nbformat": 4,
 "nbformat_minor": 0
}
